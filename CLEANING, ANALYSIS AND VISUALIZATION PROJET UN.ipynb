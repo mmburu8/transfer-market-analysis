{
 "cells": [
  {
   "cell_type": "markdown",
   "metadata": {},
   "source": [
    "## IMPORTING LIBRARIES AND DATAFRAME"
   ]
  },
  {
   "cell_type": "code",
   "execution_count": 40,
   "metadata": {},
   "outputs": [],
   "source": [
    "# importing libraries\n",
    "import pandas as pd\n",
    "import numpy as np\n",
    "from collections import defaultdict"
   ]
  },
  {
   "cell_type": "code",
   "execution_count": 41,
   "metadata": {},
   "outputs": [
    {
     "data": {
      "text/html": [
       "<div>\n",
       "<style scoped>\n",
       "    .dataframe tbody tr th:only-of-type {\n",
       "        vertical-align: middle;\n",
       "    }\n",
       "\n",
       "    .dataframe tbody tr th {\n",
       "        vertical-align: top;\n",
       "    }\n",
       "\n",
       "    .dataframe thead th {\n",
       "        text-align: right;\n",
       "    }\n",
       "</style>\n",
       "<table border=\"1\" class=\"dataframe\">\n",
       "  <thead>\n",
       "    <tr style=\"text-align: right;\">\n",
       "      <th></th>\n",
       "      <th>Name</th>\n",
       "      <th>Position</th>\n",
       "      <th>Age</th>\n",
       "      <th>Team_from</th>\n",
       "      <th>League_from</th>\n",
       "      <th>Team_to</th>\n",
       "      <th>League_to</th>\n",
       "      <th>Season</th>\n",
       "      <th>Market_value</th>\n",
       "      <th>Transfer_fee</th>\n",
       "    </tr>\n",
       "  </thead>\n",
       "  <tbody>\n",
       "    <tr>\n",
       "      <th>0</th>\n",
       "      <td>Luís Figo</td>\n",
       "      <td>Right Winger</td>\n",
       "      <td>27</td>\n",
       "      <td>FC Barcelona</td>\n",
       "      <td>LaLiga</td>\n",
       "      <td>Real Madrid</td>\n",
       "      <td>LaLiga</td>\n",
       "      <td>2000-2001</td>\n",
       "      <td>NaN</td>\n",
       "      <td>60000000</td>\n",
       "    </tr>\n",
       "    <tr>\n",
       "      <th>1</th>\n",
       "      <td>Hernán Crespo</td>\n",
       "      <td>Centre-Forward</td>\n",
       "      <td>25</td>\n",
       "      <td>Parma</td>\n",
       "      <td>Serie A</td>\n",
       "      <td>Lazio</td>\n",
       "      <td>Serie A</td>\n",
       "      <td>2000-2001</td>\n",
       "      <td>NaN</td>\n",
       "      <td>56810000</td>\n",
       "    </tr>\n",
       "    <tr>\n",
       "      <th>2</th>\n",
       "      <td>Marc Overmars</td>\n",
       "      <td>Left Winger</td>\n",
       "      <td>27</td>\n",
       "      <td>Arsenal</td>\n",
       "      <td>Premier League</td>\n",
       "      <td>FC Barcelona</td>\n",
       "      <td>LaLiga</td>\n",
       "      <td>2000-2001</td>\n",
       "      <td>NaN</td>\n",
       "      <td>40000000</td>\n",
       "    </tr>\n",
       "    <tr>\n",
       "      <th>3</th>\n",
       "      <td>Gabriel Batistuta</td>\n",
       "      <td>Centre-Forward</td>\n",
       "      <td>31</td>\n",
       "      <td>Fiorentina</td>\n",
       "      <td>Serie A</td>\n",
       "      <td>AS Roma</td>\n",
       "      <td>Serie A</td>\n",
       "      <td>2000-2001</td>\n",
       "      <td>NaN</td>\n",
       "      <td>36150000</td>\n",
       "    </tr>\n",
       "    <tr>\n",
       "      <th>4</th>\n",
       "      <td>Nicolas Anelka</td>\n",
       "      <td>Centre-Forward</td>\n",
       "      <td>21</td>\n",
       "      <td>Real Madrid</td>\n",
       "      <td>LaLiga</td>\n",
       "      <td>Paris SG</td>\n",
       "      <td>Ligue 1</td>\n",
       "      <td>2000-2001</td>\n",
       "      <td>NaN</td>\n",
       "      <td>34500000</td>\n",
       "    </tr>\n",
       "  </tbody>\n",
       "</table>\n",
       "</div>"
      ],
      "text/plain": [
       "                Name        Position  Age     Team_from     League_from  \\\n",
       "0          Luís Figo    Right Winger   27  FC Barcelona          LaLiga   \n",
       "1      Hernán Crespo  Centre-Forward   25         Parma         Serie A   \n",
       "2      Marc Overmars     Left Winger   27       Arsenal  Premier League   \n",
       "3  Gabriel Batistuta  Centre-Forward   31    Fiorentina         Serie A   \n",
       "4     Nicolas Anelka  Centre-Forward   21   Real Madrid          LaLiga   \n",
       "\n",
       "        Team_to League_to     Season  Market_value  Transfer_fee  \n",
       "0   Real Madrid    LaLiga  2000-2001           NaN      60000000  \n",
       "1         Lazio   Serie A  2000-2001           NaN      56810000  \n",
       "2  FC Barcelona    LaLiga  2000-2001           NaN      40000000  \n",
       "3       AS Roma   Serie A  2000-2001           NaN      36150000  \n",
       "4      Paris SG   Ligue 1  2000-2001           NaN      34500000  "
      ]
     },
     "execution_count": 41,
     "metadata": {},
     "output_type": "execute_result"
    }
   ],
   "source": [
    "# load and view first 5 columns\n",
    "transfer = pd.read_csv(\"transfer0019.csv\")\n",
    "transfer.head(5)"
   ]
  },
  {
   "cell_type": "markdown",
   "metadata": {},
   "source": [
    "## CLEANING DATAFRAME"
   ]
  },
  {
   "cell_type": "code",
   "execution_count": 42,
   "metadata": {},
   "outputs": [
    {
     "data": {
      "text/plain": [
       "(4700, 10)"
      ]
     },
     "execution_count": 42,
     "metadata": {},
     "output_type": "execute_result"
    }
   ],
   "source": [
    "# shape of dataframe\n",
    "transfer.shape"
   ]
  },
  {
   "cell_type": "code",
   "execution_count": 43,
   "metadata": {},
   "outputs": [
    {
     "data": {
      "text/plain": [
       "Name               0\n",
       "Position           0\n",
       "Age                0\n",
       "Team_from          0\n",
       "League_from        0\n",
       "Team_to            0\n",
       "League_to          0\n",
       "Season             0\n",
       "Market_value    1260\n",
       "Transfer_fee       0\n",
       "dtype: int64"
      ]
     },
     "execution_count": 43,
     "metadata": {},
     "output_type": "execute_result"
    }
   ],
   "source": [
    "# look for missing values\n",
    "transfer.isna().sum()"
   ]
  },
  {
   "cell_type": "code",
   "execution_count": 44,
   "metadata": {},
   "outputs": [
    {
     "data": {
      "text/html": [
       "<div>\n",
       "<style scoped>\n",
       "    .dataframe tbody tr th:only-of-type {\n",
       "        vertical-align: middle;\n",
       "    }\n",
       "\n",
       "    .dataframe tbody tr th {\n",
       "        vertical-align: top;\n",
       "    }\n",
       "\n",
       "    .dataframe thead th {\n",
       "        text-align: right;\n",
       "    }\n",
       "</style>\n",
       "<table border=\"1\" class=\"dataframe\">\n",
       "  <thead>\n",
       "    <tr style=\"text-align: right;\">\n",
       "      <th></th>\n",
       "      <th>Name</th>\n",
       "      <th>Position</th>\n",
       "      <th>Age</th>\n",
       "      <th>Team_from</th>\n",
       "      <th>League_from</th>\n",
       "      <th>Team_to</th>\n",
       "      <th>League_to</th>\n",
       "      <th>Season</th>\n",
       "      <th>Market_value</th>\n",
       "      <th>Transfer_fee</th>\n",
       "    </tr>\n",
       "  </thead>\n",
       "  <tbody>\n",
       "    <tr>\n",
       "      <th>999</th>\n",
       "      <td>Carlos Tévez</td>\n",
       "      <td>Second Striker</td>\n",
       "      <td>20</td>\n",
       "      <td>Boca Juniors</td>\n",
       "      <td>Argentina</td>\n",
       "      <td>Corinthians</td>\n",
       "      <td>Série A</td>\n",
       "      <td>2004-2005</td>\n",
       "      <td>15000000.0</td>\n",
       "      <td>15000000</td>\n",
       "    </tr>\n",
       "    <tr>\n",
       "      <th>1001</th>\n",
       "      <td>Valeri Bojinov</td>\n",
       "      <td>Centre-Forward</td>\n",
       "      <td>18</td>\n",
       "      <td>Lecce</td>\n",
       "      <td>Serie A</td>\n",
       "      <td>Fiorentina</td>\n",
       "      <td>Serie A</td>\n",
       "      <td>2004-2005</td>\n",
       "      <td>13000000.0</td>\n",
       "      <td>14000000</td>\n",
       "    </tr>\n",
       "    <tr>\n",
       "      <th>1004</th>\n",
       "      <td>Jiri Jarosik</td>\n",
       "      <td>Centre-Back</td>\n",
       "      <td>27</td>\n",
       "      <td>CSKA Moscow</td>\n",
       "      <td>Premier Liga</td>\n",
       "      <td>Chelsea</td>\n",
       "      <td>Premier League</td>\n",
       "      <td>2004-2005</td>\n",
       "      <td>5000000.0</td>\n",
       "      <td>12000000</td>\n",
       "    </tr>\n",
       "    <tr>\n",
       "      <th>1009</th>\n",
       "      <td>Jean-Alain Boumsong</td>\n",
       "      <td>Centre-Back</td>\n",
       "      <td>25</td>\n",
       "      <td>Rangers</td>\n",
       "      <td>Premiership</td>\n",
       "      <td>Newcastle</td>\n",
       "      <td>Premier League</td>\n",
       "      <td>2004-2005</td>\n",
       "      <td>8500000.0</td>\n",
       "      <td>11300000</td>\n",
       "    </tr>\n",
       "    <tr>\n",
       "      <th>1011</th>\n",
       "      <td>Nicolas Anelka</td>\n",
       "      <td>Centre-Forward</td>\n",
       "      <td>25</td>\n",
       "      <td>Man City</td>\n",
       "      <td>Premier League</td>\n",
       "      <td>Fenerbahce</td>\n",
       "      <td>Süper Lig</td>\n",
       "      <td>2004-2005</td>\n",
       "      <td>15000000.0</td>\n",
       "      <td>10700000</td>\n",
       "    </tr>\n",
       "  </tbody>\n",
       "</table>\n",
       "</div>"
      ],
      "text/plain": [
       "                     Name        Position  Age     Team_from     League_from  \\\n",
       "999          Carlos Tévez  Second Striker   20  Boca Juniors       Argentina   \n",
       "1001       Valeri Bojinov  Centre-Forward   18         Lecce         Serie A   \n",
       "1004         Jiri Jarosik     Centre-Back   27   CSKA Moscow    Premier Liga   \n",
       "1009  Jean-Alain Boumsong     Centre-Back   25       Rangers     Premiership   \n",
       "1011       Nicolas Anelka  Centre-Forward   25      Man City  Premier League   \n",
       "\n",
       "          Team_to       League_to     Season  Market_value  Transfer_fee  \n",
       "999   Corinthians         Série A  2004-2005    15000000.0      15000000  \n",
       "1001   Fiorentina         Serie A  2004-2005    13000000.0      14000000  \n",
       "1004      Chelsea  Premier League  2004-2005     5000000.0      12000000  \n",
       "1009    Newcastle  Premier League  2004-2005     8500000.0      11300000  \n",
       "1011   Fenerbahce       Süper Lig  2004-2005    15000000.0      10700000  "
      ]
     },
     "execution_count": 44,
     "metadata": {},
     "output_type": "execute_result"
    }
   ],
   "source": [
    "# look at columns with a market value\n",
    "transfer.loc[transfer[\"Market_value\"] > 0].head(5)"
   ]
  },
  {
   "cell_type": "code",
   "execution_count": 45,
   "metadata": {},
   "outputs": [
    {
     "name": "stdout",
     "output_type": "stream",
     "text": [
      "Percentage of missing values on Market_value column is 26.809 %\n"
     ]
    }
   ],
   "source": [
    "# percentage of missing values on Market_value\n",
    "percent = (1260 / 4700) * 100\n",
    "print(\"Percentage of missing values on Market_value column is {:.3f} %\".format(percent))"
   ]
  },
  {
   "cell_type": "markdown",
   "metadata": {},
   "source": [
    "## ANALYSIS OF DATAFRAME"
   ]
  },
  {
   "cell_type": "code",
   "execution_count": 46,
   "metadata": {},
   "outputs": [
    {
     "data": {
      "text/plain": [
       "Position\n",
       "Centre-Forward        1218\n",
       "Centre-Back            714\n",
       "Central Midfield       487\n",
       "Attacking Midfield     426\n",
       "Defensive Midfield     411\n",
       "Right Winger           305\n",
       "Left Winger            267\n",
       "Left-Back              225\n",
       "Right-Back             181\n",
       "Goalkeeper             180\n",
       "Second Striker         130\n",
       "Left Midfield           87\n",
       "Right Midfield          63\n",
       "Forward                  3\n",
       "Midfielder               1\n",
       "Defender                 1\n",
       "Sweeper                  1\n",
       "Name: Name, dtype: int64"
      ]
     },
     "execution_count": 46,
     "metadata": {},
     "output_type": "execute_result"
    }
   ],
   "source": [
    "# count position column\n",
    "pos = transfer.groupby(\"Position\")[\"Name\"].count().sort_values(ascending= False)\n",
    "pos"
   ]
  },
  {
   "cell_type": "code",
   "execution_count": 47,
   "metadata": {},
   "outputs": [
    {
     "data": {
      "text/html": [
       "<div>\n",
       "<style scoped>\n",
       "    .dataframe tbody tr th:only-of-type {\n",
       "        vertical-align: middle;\n",
       "    }\n",
       "\n",
       "    .dataframe tbody tr th {\n",
       "        vertical-align: top;\n",
       "    }\n",
       "\n",
       "    .dataframe thead th {\n",
       "        text-align: right;\n",
       "    }\n",
       "</style>\n",
       "<table border=\"1\" class=\"dataframe\">\n",
       "  <thead>\n",
       "    <tr style=\"text-align: right;\">\n",
       "      <th></th>\n",
       "      <th>Name</th>\n",
       "      <th>Position</th>\n",
       "      <th>Age</th>\n",
       "      <th>Team_from</th>\n",
       "      <th>League_from</th>\n",
       "      <th>Team_to</th>\n",
       "      <th>League_to</th>\n",
       "      <th>Season</th>\n",
       "      <th>Market_value</th>\n",
       "      <th>Transfer_fee</th>\n",
       "    </tr>\n",
       "  </thead>\n",
       "  <tbody>\n",
       "    <tr>\n",
       "      <th>188</th>\n",
       "      <td>Didier Martel</td>\n",
       "      <td>Forward</td>\n",
       "      <td>28</td>\n",
       "      <td>FC Utrecht</td>\n",
       "      <td>Eredivisie</td>\n",
       "      <td>Vitesse</td>\n",
       "      <td>Eredivisie</td>\n",
       "      <td>2000-2001</td>\n",
       "      <td>NaN</td>\n",
       "      <td>2750000</td>\n",
       "    </tr>\n",
       "    <tr>\n",
       "      <th>242</th>\n",
       "      <td>Patricio Camps</td>\n",
       "      <td>Forward</td>\n",
       "      <td>28</td>\n",
       "      <td>Vélez Sarsfield</td>\n",
       "      <td>Argentina</td>\n",
       "      <td>PAOK Saloniki</td>\n",
       "      <td>Super League</td>\n",
       "      <td>2000-2001</td>\n",
       "      <td>NaN</td>\n",
       "      <td>1850000</td>\n",
       "    </tr>\n",
       "    <tr>\n",
       "      <th>471</th>\n",
       "      <td>Thomas Hengen</td>\n",
       "      <td>Sweeper</td>\n",
       "      <td>26</td>\n",
       "      <td>VfL Wolfsburg</td>\n",
       "      <td>1.Bundesliga</td>\n",
       "      <td>1.FC K'lautern</td>\n",
       "      <td>1.Bundesliga</td>\n",
       "      <td>2001-2002</td>\n",
       "      <td>NaN</td>\n",
       "      <td>2250000</td>\n",
       "    </tr>\n",
       "    <tr>\n",
       "      <th>652</th>\n",
       "      <td>Sergio Hellings</td>\n",
       "      <td>Defender</td>\n",
       "      <td>17</td>\n",
       "      <td>Ajax U19</td>\n",
       "      <td>U19 Eredivisie</td>\n",
       "      <td>Anderlecht U19</td>\n",
       "      <td>Belgium</td>\n",
       "      <td>2002-2003</td>\n",
       "      <td>NaN</td>\n",
       "      <td>2000000</td>\n",
       "    </tr>\n",
       "    <tr>\n",
       "      <th>653</th>\n",
       "      <td>Mazhar Abdelrahman</td>\n",
       "      <td>Forward</td>\n",
       "      <td>25</td>\n",
       "      <td>El Masry</td>\n",
       "      <td>Premier League</td>\n",
       "      <td>Monaco</td>\n",
       "      <td>Ligue 1</td>\n",
       "      <td>2002-2003</td>\n",
       "      <td>NaN</td>\n",
       "      <td>2000000</td>\n",
       "    </tr>\n",
       "    <tr>\n",
       "      <th>705</th>\n",
       "      <td>Tony Dinning</td>\n",
       "      <td>Midfielder</td>\n",
       "      <td>27</td>\n",
       "      <td>Wolves</td>\n",
       "      <td>First Division</td>\n",
       "      <td>Wigan</td>\n",
       "      <td>Second Division (bis 03/04)</td>\n",
       "      <td>2002-2003</td>\n",
       "      <td>NaN</td>\n",
       "      <td>1130000</td>\n",
       "    </tr>\n",
       "  </tbody>\n",
       "</table>\n",
       "</div>"
      ],
      "text/plain": [
       "                   Name    Position  Age        Team_from     League_from  \\\n",
       "188       Didier Martel     Forward   28       FC Utrecht      Eredivisie   \n",
       "242      Patricio Camps     Forward   28  Vélez Sarsfield       Argentina   \n",
       "471       Thomas Hengen     Sweeper   26    VfL Wolfsburg    1.Bundesliga   \n",
       "652     Sergio Hellings    Defender   17         Ajax U19  U19 Eredivisie   \n",
       "653  Mazhar Abdelrahman     Forward   25         El Masry  Premier League   \n",
       "705        Tony Dinning  Midfielder   27           Wolves  First Division   \n",
       "\n",
       "            Team_to                    League_to     Season  Market_value  \\\n",
       "188         Vitesse                   Eredivisie  2000-2001           NaN   \n",
       "242   PAOK Saloniki                 Super League  2000-2001           NaN   \n",
       "471  1.FC K'lautern                 1.Bundesliga  2001-2002           NaN   \n",
       "652  Anderlecht U19                      Belgium  2002-2003           NaN   \n",
       "653          Monaco                      Ligue 1  2002-2003           NaN   \n",
       "705           Wigan  Second Division (bis 03/04)  2002-2003           NaN   \n",
       "\n",
       "     Transfer_fee  \n",
       "188       2750000  \n",
       "242       1850000  \n",
       "471       2250000  \n",
       "652       2000000  \n",
       "653       2000000  \n",
       "705       1130000  "
      ]
     },
     "execution_count": 47,
     "metadata": {},
     "output_type": "execute_result"
    }
   ],
   "source": [
    "# view column with position Forward, Midfielder, Defender and sweeper\n",
    "transfer.loc[\n",
    "    (transfer[\"Position\"] == \"Forward\")|\n",
    "    (transfer[\"Position\"] == \"Midfielder\")|\n",
    "    (transfer[\"Position\"] == \"Defender\")|\n",
    "    (transfer[\"Position\"] == \"Sweeper\")\n",
    "]"
   ]
  },
  {
   "cell_type": "code",
   "execution_count": 48,
   "metadata": {},
   "outputs": [
    {
     "name": "stderr",
     "output_type": "stream",
     "text": [
      "C:\\Users\\Admin\\anaconda3\\lib\\site-packages\\pandas\\core\\indexing.py:1732: SettingWithCopyWarning: \n",
      "A value is trying to be set on a copy of a slice from a DataFrame\n",
      "\n",
      "See the caveats in the documentation: https://pandas.pydata.org/pandas-docs/stable/user_guide/indexing.html#returning-a-view-versus-a-copy\n",
      "  self._setitem_single_block(indexer, value, name)\n"
     ]
    },
    {
     "data": {
      "text/plain": [
       "Position\n",
       "Centre-Forward        1221\n",
       "Centre-Back            715\n",
       "Central Midfield       488\n",
       "Attacking Midfield     426\n",
       "Defensive Midfield     411\n",
       "Right Winger           305\n",
       "Left Winger            267\n",
       "Left-Back              225\n",
       "Goalkeeper             181\n",
       "Right-Back             181\n",
       "Second Striker         130\n",
       "Left Midfield           87\n",
       "Right Midfield          63\n",
       "Name: Name, dtype: int64"
      ]
     },
     "execution_count": 48,
     "metadata": {},
     "output_type": "execute_result"
    }
   ],
   "source": [
    "# replace values\n",
    "transfer[\"Position\"].loc[transfer[\"Position\"] == \"Forward\"] = \"Centre-Forward\"\n",
    "transfer[\"Position\"].loc[transfer[\"Position\"] == \"Midfielder\"] = \"Central Midfield\"\n",
    "transfer[\"Position\"].loc[transfer[\"Position\"] == \"Sweeper\"] = \"Goalkeeper\"\n",
    "transfer[\"Position\"].loc[transfer[\"Position\"] == \"Defender\"] = \"Centre-Back\"\n",
    "pos = transfer.groupby(\"Position\")[\"Name\"].count().sort_values(ascending= False)\n",
    "pos"
   ]
  },
  {
   "cell_type": "code",
   "execution_count": 49,
   "metadata": {},
   "outputs": [
    {
     "data": {
      "text/plain": [
       "Age\n",
       "24    536\n",
       "25    524\n",
       "23    519\n",
       "26    481\n",
       "22    461\n",
       "27    404\n",
       "21    371\n",
       "28    327\n",
       "20    302\n",
       "29    223\n",
       "19    165\n",
       "30    157\n",
       "18     82\n",
       "31     59\n",
       "32     30\n",
       "17     23\n",
       "33     15\n",
       "16     10\n",
       "34      5\n",
       "35      4\n",
       "15      1\n",
       "0       1\n",
       "Name: Name, dtype: int64"
      ]
     },
     "execution_count": 49,
     "metadata": {},
     "output_type": "execute_result"
    }
   ],
   "source": [
    "# count age\n",
    "transfer.groupby(\"Age\")[\"Name\"].count().sort_values(ascending= False)"
   ]
  },
  {
   "cell_type": "code",
   "execution_count": 50,
   "metadata": {},
   "outputs": [
    {
     "data": {
      "text/html": [
       "<div>\n",
       "<style scoped>\n",
       "    .dataframe tbody tr th:only-of-type {\n",
       "        vertical-align: middle;\n",
       "    }\n",
       "\n",
       "    .dataframe tbody tr th {\n",
       "        vertical-align: top;\n",
       "    }\n",
       "\n",
       "    .dataframe thead th {\n",
       "        text-align: right;\n",
       "    }\n",
       "</style>\n",
       "<table border=\"1\" class=\"dataframe\">\n",
       "  <thead>\n",
       "    <tr style=\"text-align: right;\">\n",
       "      <th></th>\n",
       "      <th>Name</th>\n",
       "      <th>Position</th>\n",
       "      <th>Age</th>\n",
       "      <th>Team_from</th>\n",
       "      <th>League_from</th>\n",
       "      <th>Team_to</th>\n",
       "      <th>League_to</th>\n",
       "      <th>Season</th>\n",
       "      <th>Market_value</th>\n",
       "      <th>Transfer_fee</th>\n",
       "    </tr>\n",
       "  </thead>\n",
       "  <tbody>\n",
       "    <tr>\n",
       "      <th>236</th>\n",
       "      <td>Marzouq Al-Otaibi</td>\n",
       "      <td>Centre-Forward</td>\n",
       "      <td>0</td>\n",
       "      <td>Shabab</td>\n",
       "      <td>Saudi Arabia</td>\n",
       "      <td>Ittihad</td>\n",
       "      <td>Saudi Arabia</td>\n",
       "      <td>2000-2001</td>\n",
       "      <td>NaN</td>\n",
       "      <td>2000000</td>\n",
       "    </tr>\n",
       "    <tr>\n",
       "      <th>1370</th>\n",
       "      <td>Fran Mérida</td>\n",
       "      <td>Central Midfield</td>\n",
       "      <td>15</td>\n",
       "      <td>Barcelona Yth.</td>\n",
       "      <td>Spain</td>\n",
       "      <td>Arsenal U18</td>\n",
       "      <td>England</td>\n",
       "      <td>2005-2006</td>\n",
       "      <td>NaN</td>\n",
       "      <td>3200000</td>\n",
       "    </tr>\n",
       "  </tbody>\n",
       "</table>\n",
       "</div>"
      ],
      "text/plain": [
       "                   Name          Position  Age       Team_from    League_from  \\\n",
       "236   Marzouq Al-Otaibi    Centre-Forward    0          Shabab   Saudi Arabia   \n",
       "1370        Fran Mérida  Central Midfield   15  Barcelona Yth.          Spain   \n",
       "\n",
       "          Team_to      League_to     Season  Market_value  Transfer_fee  \n",
       "236       Ittihad   Saudi Arabia  2000-2001           NaN       2000000  \n",
       "1370  Arsenal U18        England  2005-2006           NaN       3200000  "
      ]
     },
     "execution_count": 50,
     "metadata": {},
     "output_type": "execute_result"
    }
   ],
   "source": [
    "# looking at anomalous columns\n",
    "transfer.loc[(transfer[\"Age\"] == 0) | (transfer[\"Age\"] == 15)]"
   ]
  },
  {
   "cell_type": "code",
   "execution_count": 51,
   "metadata": {},
   "outputs": [
    {
     "name": "stderr",
     "output_type": "stream",
     "text": [
      "C:\\Users\\Admin\\anaconda3\\lib\\site-packages\\pandas\\core\\indexing.py:1732: SettingWithCopyWarning: \n",
      "A value is trying to be set on a copy of a slice from a DataFrame\n",
      "\n",
      "See the caveats in the documentation: https://pandas.pydata.org/pandas-docs/stable/user_guide/indexing.html#returning-a-view-versus-a-copy\n",
      "  self._setitem_single_block(indexer, value, name)\n"
     ]
    },
    {
     "data": {
      "text/html": [
       "<div>\n",
       "<style scoped>\n",
       "    .dataframe tbody tr th:only-of-type {\n",
       "        vertical-align: middle;\n",
       "    }\n",
       "\n",
       "    .dataframe tbody tr th {\n",
       "        vertical-align: top;\n",
       "    }\n",
       "\n",
       "    .dataframe thead th {\n",
       "        text-align: right;\n",
       "    }\n",
       "</style>\n",
       "<table border=\"1\" class=\"dataframe\">\n",
       "  <thead>\n",
       "    <tr style=\"text-align: right;\">\n",
       "      <th></th>\n",
       "      <th>Name</th>\n",
       "      <th>Position</th>\n",
       "      <th>Age</th>\n",
       "      <th>Team_from</th>\n",
       "      <th>League_from</th>\n",
       "      <th>Team_to</th>\n",
       "      <th>League_to</th>\n",
       "      <th>Season</th>\n",
       "      <th>Market_value</th>\n",
       "      <th>Transfer_fee</th>\n",
       "    </tr>\n",
       "  </thead>\n",
       "  <tbody>\n",
       "  </tbody>\n",
       "</table>\n",
       "</div>"
      ],
      "text/plain": [
       "Empty DataFrame\n",
       "Columns: [Name, Position, Age, Team_from, League_from, Team_to, League_to, Season, Market_value, Transfer_fee]\n",
       "Index: []"
      ]
     },
     "execution_count": 51,
     "metadata": {},
     "output_type": "execute_result"
    }
   ],
   "source": [
    "# replace 0 with mode value\n",
    "transfer[\"Age\"].loc[transfer[\"Age\"] == 0] = 24\n",
    "transfer.loc[transfer[\"Age\"] == 0]"
   ]
  },
  {
   "cell_type": "code",
   "execution_count": 52,
   "metadata": {},
   "outputs": [
    {
     "data": {
      "text/plain": [
       "League_from\n",
       "Premier League    608\n",
       "Serie A           602\n",
       "Ligue 1           428\n",
       "LaLiga            418\n",
       "1.Bundesliga      265\n",
       "Série A           199\n",
       "Championship      197\n",
       "Eredivisie        190\n",
       "Liga NOS          178\n",
       "Premier Liga      169\n",
       "Name: Name, dtype: int64"
      ]
     },
     "execution_count": 52,
     "metadata": {},
     "output_type": "execute_result"
    }
   ],
   "source": [
    "# count League_from\n",
    "transfer.groupby(\"League_from\")[\"Name\"].count().sort_values(ascending= False).head(10)"
   ]
  },
  {
   "cell_type": "code",
   "execution_count": 79,
   "metadata": {},
   "outputs": [
    {
     "name": "stdout",
     "output_type": "stream",
     "text": [
      "defaultdict(<class 'list'>, {'LaLiga': ['LaLiga', 'LaLiga', 'LaLiga', 'LaLiga', 'LaLiga', 'LaLiga', 'LaLiga', 'LaLiga', 'LaLiga', 'LaLiga', 'LaLiga', 'LaLiga', 'LaLiga', 'LaLiga', 'LaLiga', 'LaLiga', 'LaLiga', 'LaLiga', 'LaLiga', 'LaLiga', 'LaLiga', 'LaLiga', 'LaLiga', 'LaLiga', 'LaLiga', 'LaLiga', 'LaLiga', 'LaLiga', 'LaLiga', 'LaLiga', 'LaLiga', 'LaLiga', 'LaLiga', 'LaLiga', 'LaLiga', 'LaLiga', 'LaLiga', 'LaLiga', 'LaLiga', 'LaLiga', 'LaLiga', 'LaLiga', 'LaLiga', 'LaLiga', 'LaLiga', 'LaLiga', 'LaLiga', 'LaLiga', 'LaLiga', 'LaLiga', 'LaLiga', 'LaLiga', 'LaLiga', 'LaLiga', 'LaLiga', 'LaLiga', 'LaLiga', 'LaLiga', 'LaLiga', 'LaLiga', 'LaLiga', 'LaLiga', 'LaLiga', 'LaLiga', 'LaLiga', 'LaLiga', 'LaLiga', 'LaLiga', 'LaLiga', 'LaLiga', 'LaLiga', 'LaLiga', 'LaLiga', 'LaLiga', 'LaLiga', 'LaLiga', 'LaLiga', 'LaLiga', 'LaLiga', 'LaLiga', 'LaLiga', 'LaLiga', 'LaLiga', 'LaLiga', 'LaLiga', 'LaLiga', 'LaLiga', 'LaLiga', 'LaLiga', 'LaLiga', 'LaLiga', 'LaLiga', 'LaLiga', 'LaLiga', 'LaLiga', 'LaLiga', 'LaLiga', 'LaLiga', 'LaLiga', 'LaLiga', 'LaLiga', 'LaLiga', 'LaLiga', 'LaLiga', 'LaLiga', 'LaLiga', 'LaLiga', 'LaLiga', 'LaLiga', 'LaLiga', 'LaLiga', 'LaLiga', 'LaLiga', 'LaLiga', 'LaLiga', 'LaLiga', 'LaLiga', 'LaLiga', 'LaLiga', 'LaLiga', 'LaLiga', 'LaLiga', 'LaLiga', 'LaLiga', 'LaLiga', 'LaLiga', 'LaLiga', 'LaLiga', 'LaLiga', 'LaLiga', 'LaLiga', 'LaLiga', 'LaLiga', 'LaLiga', 'LaLiga', 'LaLiga', 'LaLiga', 'LaLiga', 'LaLiga', 'LaLiga', 'LaLiga', 'LaLiga', 'LaLiga', 'LaLiga', 'LaLiga', 'LaLiga', 'LaLiga', 'LaLiga', 'LaLiga', 'LaLiga', 'LaLiga', 'LaLiga', 'LaLiga', 'LaLiga', 'LaLiga', 'LaLiga', 'LaLiga', 'LaLiga', 'LaLiga', 'LaLiga', 'LaLiga', 'LaLiga', 'LaLiga', 'LaLiga', 'LaLiga', 'LaLiga', 'LaLiga', 'LaLiga', 'LaLiga', 'LaLiga', 'LaLiga', 'LaLiga', 'LaLiga', 'LaLiga', 'LaLiga', 'LaLiga', 'LaLiga', 'LaLiga', 'LaLiga', 'LaLiga', 'LaLiga', 'LaLiga', 'LaLiga', 'LaLiga', 'LaLiga', 'LaLiga', 'LaLiga', 'LaLiga', 'LaLiga', 'LaLiga', 'LaLiga', 'LaLiga', 'LaLiga', 'LaLiga', 'LaLiga', 'LaLiga', 'LaLiga', 'LaLiga', 'LaLiga', 'LaLiga', 'LaLiga', 'LaLiga', 'LaLiga', 'LaLiga', 'LaLiga', 'LaLiga', 'LaLiga', 'LaLiga', 'LaLiga', 'LaLiga', 'LaLiga', 'LaLiga', 'LaLiga', 'LaLiga', 'LaLiga', 'LaLiga', 'LaLiga', 'LaLiga', 'LaLiga', 'LaLiga', 'LaLiga', 'LaLiga', 'LaLiga', 'LaLiga', 'LaLiga', 'LaLiga', 'LaLiga', 'LaLiga', 'LaLiga', 'LaLiga', 'LaLiga', 'LaLiga', 'LaLiga', 'LaLiga', 'LaLiga', 'LaLiga', 'LaLiga', 'LaLiga', 'LaLiga', 'LaLiga', 'LaLiga', 'LaLiga', 'LaLiga', 'LaLiga', 'LaLiga', 'LaLiga', 'LaLiga', 'LaLiga', 'LaLiga', 'LaLiga', 'LaLiga', 'LaLiga', 'LaLiga', 'LaLiga', 'LaLiga', 'LaLiga', 'LaLiga', 'LaLiga', 'LaLiga', 'LaLiga', 'LaLiga', 'LaLiga', 'LaLiga', 'LaLiga', 'LaLiga', 'LaLiga', 'LaLiga', 'LaLiga', 'LaLiga', 'LaLiga', 'LaLiga', 'LaLiga', 'LaLiga', 'LaLiga', 'LaLiga', 'LaLiga', 'LaLiga', 'LaLiga', 'LaLiga', 'LaLiga', 'LaLiga', 'LaLiga', 'LaLiga', 'LaLiga', 'LaLiga', 'LaLiga', 'LaLiga', 'LaLiga', 'LaLiga', 'LaLiga', 'LaLiga', 'LaLiga', 'LaLiga', 'LaLiga', 'LaLiga', 'LaLiga', 'LaLiga', 'LaLiga', 'LaLiga', 'LaLiga', 'LaLiga', 'LaLiga', 'LaLiga', 'LaLiga', 'LaLiga', 'LaLiga', 'LaLiga', 'LaLiga', 'LaLiga', 'LaLiga', 'LaLiga', 'LaLiga', 'LaLiga', 'LaLiga', 'LaLiga', 'LaLiga', 'LaLiga', 'LaLiga', 'LaLiga', 'LaLiga', 'LaLiga', 'LaLiga', 'LaLiga', 'LaLiga', 'LaLiga', 'LaLiga', 'LaLiga', 'LaLiga', 'LaLiga', 'LaLiga', 'LaLiga', 'LaLiga', 'LaLiga', 'LaLiga', 'LaLiga', 'LaLiga', 'LaLiga', 'LaLiga', 'LaLiga', 'LaLiga', 'LaLiga', 'LaLiga', 'LaLiga', 'LaLiga', 'LaLiga', 'LaLiga', 'LaLiga', 'LaLiga', 'LaLiga', 'LaLiga', 'LaLiga', 'LaLiga', 'LaLiga', 'LaLiga', 'LaLiga', 'LaLiga', 'LaLiga', 'LaLiga', 'LaLiga', 'LaLiga', 'LaLiga', 'LaLiga', 'LaLiga', 'LaLiga', 'LaLiga', 'LaLiga', 'LaLiga', 'LaLiga', 'LaLiga', 'LaLiga', 'LaLiga', 'LaLiga', 'LaLiga', 'LaLiga', 'LaLiga', 'LaLiga', 'LaLiga', 'LaLiga', 'LaLiga', 'LaLiga', 'LaLiga', 'LaLiga', 'LaLiga', 'LaLiga', 'LaLiga', 'LaLiga', 'LaLiga', 'LaLiga', 'LaLiga', 'LaLiga', 'LaLiga', 'LaLiga', 'LaLiga', 'LaLiga', 'LaLiga', 'LaLiga', 'LaLiga', 'LaLiga', 'LaLiga', 'LaLiga', 'LaLiga', 'LaLiga', 'LaLiga', 'LaLiga', 'LaLiga', 'LaLiga', 'LaLiga', 'LaLiga', 'LaLiga', 'LaLiga', 'LaLiga', 'LaLiga', 'LaLiga', 'LaLiga', 'LaLiga', 'LaLiga', 'LaLiga', 'LaLiga'], 'Serie A': ['Serie A', 'Serie A', 'Serie A', 'Serie A', 'Serie A', 'Serie A', 'Serie A', 'Serie A', 'Serie A', 'Serie A', 'Serie A', 'Serie A', 'Serie A', 'Serie A', 'Serie A', 'Serie A', 'Serie A', 'Serie A', 'Serie A', 'Serie A', 'Serie A', 'Serie A', 'Serie A', 'Serie A', 'Serie A', 'Serie A', 'Serie A', 'Serie A', 'Serie A', 'Serie A', 'Serie A', 'Serie A', 'Serie A', 'Serie A', 'Serie A', 'Serie A', 'Serie A', 'Serie A', 'Serie A', 'Serie A', 'Serie A', 'Serie A', 'Serie A', 'Serie A', 'Serie A', 'Serie A', 'Serie A', 'Serie A', 'Serie A', 'Serie A', 'Serie A', 'Serie A', 'Serie A', 'Serie A', 'Serie A', 'Serie A', 'Serie A', 'Serie A', 'Serie A', 'Serie A', 'Serie A', 'Serie A', 'Serie A', 'Serie A', 'Serie A', 'Serie A', 'Serie A', 'Serie A', 'Serie A', 'Serie A', 'Serie A', 'Serie A', 'Serie A', 'Serie A', 'Serie A', 'Serie A', 'Serie A', 'Serie A', 'Serie A', 'Serie A', 'Serie A', 'Serie A', 'Serie A', 'Serie A', 'Serie A', 'Serie A', 'Serie A', 'Serie A', 'Serie A', 'Serie A', 'Serie A', 'Serie A', 'Serie A', 'Serie A', 'Serie A', 'Serie A', 'Serie A', 'Serie A', 'Serie A', 'Serie A', 'Serie A', 'Serie A', 'Serie A', 'Serie A', 'Serie A', 'Serie A', 'Serie A', 'Serie A', 'Serie A', 'Serie A', 'Serie A', 'Serie A', 'Serie A', 'Serie A', 'Serie A', 'Serie A', 'Serie A', 'Serie A', 'Serie A', 'Serie A', 'Serie A', 'Serie A', 'Serie A', 'Serie A', 'Serie A', 'Serie A', 'Serie A', 'Serie A', 'Serie A', 'Serie A', 'Serie A', 'Serie A', 'Serie A', 'Serie A', 'Serie A', 'Serie A', 'Serie A', 'Serie A', 'Serie A', 'Serie A', 'Serie A', 'Serie A', 'Serie A', 'Serie A', 'Serie A', 'Serie A', 'Serie A', 'Serie A', 'Serie A', 'Serie A', 'Serie A', 'Serie A', 'Serie A', 'Serie A', 'Serie A', 'Serie A', 'Serie A', 'Serie A', 'Serie A', 'Serie A', 'Serie A', 'Serie A', 'Serie A', 'Serie A', 'Serie A', 'Serie A', 'Serie A', 'Serie A', 'Serie A', 'Serie A', 'Serie A', 'Serie A', 'Serie A', 'Serie A', 'Serie A', 'Serie A', 'Serie A', 'Serie A', 'Serie A', 'Serie A', 'Serie A', 'Serie A', 'Serie A', 'Serie A', 'Serie A', 'Serie A', 'Serie A', 'Serie A', 'Serie A', 'Serie A', 'Serie A', 'Serie A', 'Serie A', 'Serie A', 'Serie A', 'Serie A', 'Serie A', 'Serie A', 'Serie A', 'Serie A', 'Serie A', 'Serie A', 'Serie A', 'Serie A', 'Serie A', 'Serie A', 'Serie A', 'Serie A', 'Serie A', 'Serie A', 'Serie A', 'Serie A', 'Serie A', 'Serie A', 'Serie A', 'Serie A', 'Serie A', 'Serie A', 'Serie A', 'Serie A', 'Serie A', 'Serie A', 'Serie A', 'Serie A', 'Serie A', 'Serie A', 'Serie A', 'Serie A', 'Serie A', 'Serie A', 'Serie A', 'Serie A', 'Serie A', 'Serie A', 'Serie A', 'Serie A', 'Serie A', 'Serie A', 'Serie A', 'Serie A', 'Serie A', 'Serie A', 'Serie A', 'Serie A', 'Serie A', 'Serie A', 'Serie A', 'Serie A', 'Serie A', 'Serie A', 'Serie A', 'Serie A', 'Serie A', 'Serie A', 'Serie A', 'Serie A', 'Serie A', 'Serie A', 'Serie A', 'Serie A', 'Serie A', 'Serie A', 'Serie A', 'Serie A', 'Serie A', 'Serie A', 'Serie A', 'Serie A', 'Serie A', 'Serie A', 'Serie A', 'Serie A', 'Serie A', 'Serie A', 'Serie A', 'Serie A', 'Serie A', 'Serie A', 'Serie A', 'Serie A', 'Serie A', 'Serie A', 'Serie A', 'Serie A', 'Serie A', 'Serie A', 'Serie A', 'Serie A', 'Serie A', 'Serie A', 'Serie A', 'Serie A', 'Serie A', 'Serie A', 'Serie A', 'Serie A', 'Serie A', 'Serie A', 'Serie A', 'Serie A', 'Serie A', 'Serie A', 'Serie A', 'Serie A', 'Serie A', 'Serie A', 'Serie A', 'Serie A', 'Serie A', 'Serie A', 'Serie A', 'Serie A', 'Serie A', 'Serie A', 'Serie A', 'Serie A', 'Serie A', 'Serie A', 'Serie A', 'Serie A', 'Serie A', 'Serie A', 'Serie A', 'Serie A', 'Serie A', 'Serie A', 'Serie A', 'Serie A', 'Serie A', 'Serie A', 'Serie A', 'Serie A', 'Serie A', 'Serie A', 'Serie A', 'Serie A', 'Serie A', 'Serie A', 'Serie A', 'Serie A', 'Serie A', 'Serie A', 'Serie A', 'Serie A', 'Serie A', 'Serie A', 'Serie A', 'Serie A', 'Serie A', 'Serie A', 'Serie A', 'Serie A', 'Serie A', 'Serie A', 'Serie A', 'Serie A', 'Serie A', 'Serie A', 'Serie A', 'Serie A', 'Serie A', 'Serie A', 'Serie A', 'Serie A', 'Serie A', 'Serie A', 'Serie A', 'Serie A', 'Serie A', 'Serie A', 'Serie A', 'Serie A', 'Serie A', 'Serie A', 'Serie A', 'Serie A', 'Serie A', 'Serie A', 'Serie A', 'Serie A', 'Serie A', 'Serie A', 'Serie A', 'Serie A', 'Serie A', 'Serie A', 'Serie A', 'Serie A', 'Serie A', 'Serie A', 'Serie A', 'Serie A', 'Serie A', 'Serie A', 'Serie A', 'Serie A', 'Serie A', 'Serie A', 'Serie A', 'Serie A', 'Serie A', 'Serie A', 'Serie A', 'Serie A', 'Serie A', 'Serie A', 'Serie A', 'Serie A', 'Serie A', 'Serie A', 'Serie A', 'Serie A', 'Serie A', 'Serie A', 'Serie A', 'Serie A', 'Serie A', 'Serie A', 'Serie A', 'Serie A', 'Serie A', 'Serie A', 'Serie A', 'Serie A', 'Serie A', 'Serie A', 'Serie A', 'Serie A', 'Serie A', 'Serie A', 'Serie A', 'Serie A', 'Serie A', 'Serie A', 'Serie A', 'Serie A', 'Serie A', 'Serie A', 'Serie A', 'Serie A', 'Serie A', 'Serie A', 'Serie A', 'Serie A', 'Serie A', 'Serie A', 'Serie A', 'Serie A', 'Serie A', 'Serie A', 'Serie A', 'Serie A', 'Serie A', 'Serie A', 'Serie A', 'Serie A', 'Serie A', 'Serie A', 'Serie A', 'Serie A', 'Serie A', 'Serie A', 'Serie A', 'Serie A', 'Serie A', 'Serie A', 'Serie A', 'Serie A', 'Serie A', 'Serie A', 'Serie A', 'Serie A', 'Serie A', 'Serie A', 'Serie A', 'Serie A', 'Serie A', 'Serie A', 'Serie A', 'Serie A', 'Serie A', 'Serie A', 'Serie A', 'Serie A', 'Serie A', 'Serie A', 'Serie A', 'Serie A', 'Serie A', 'Serie A', 'Serie A', 'Serie A', 'Serie A', 'Serie A', 'Serie A', 'Serie A', 'Serie A', 'Serie A', 'Serie A', 'Serie A', 'Serie A', 'Serie A', 'Serie A', 'Serie A', 'Serie A', 'Serie A', 'Serie A', 'Serie A', 'Serie A', 'Serie A', 'Serie A', 'Serie A', 'Serie A', 'Serie A', 'Serie A', 'Serie A', 'Serie A', 'Serie A', 'Serie A', 'Serie A', 'Serie A', 'Serie A', 'Serie A', 'Serie A', 'Serie A', 'Serie A', 'Serie A', 'Serie A', 'Serie A', 'Serie A', 'Serie A', 'Serie A', 'Serie A', 'Serie A', 'Serie A', 'Serie A', 'Serie A', 'Serie A', 'Serie A', 'Serie A', 'Serie A', 'Serie A', 'Serie A', 'Serie A', 'Serie A', 'Serie A', 'Serie A', 'Serie A', 'Serie A', 'Serie A', 'Serie A', 'Serie A', 'Serie A', 'Serie A', 'Serie A', 'Serie A', 'Serie A', 'Serie A', 'Serie A', 'Serie A', 'Serie A', 'Serie A', 'Serie A', 'Serie A', 'Serie A', 'Serie A', 'Serie A', 'Serie A', 'Serie A', 'Serie A', 'Serie A', 'Serie A', 'Serie A', 'Serie A', 'Serie A', 'Serie A', 'Serie A', 'Serie A', 'Serie A', 'Serie A', 'Serie A', 'Serie A', 'Serie A', 'Serie A', 'Serie A', 'Serie A', 'Serie A', 'Serie A', 'Serie A', 'Serie A', 'Serie A', 'Serie A', 'Serie A', 'Serie A', 'Serie A', 'Serie A', 'Serie A', 'Serie A', 'Serie A', 'Serie A', 'Serie A', 'Serie A'], 'Premier League': ['Premier League', 'Premier League', 'Premier League', 'Premier League', 'Premier League', 'Premier League', 'Premier League', 'Premier League', 'Premier League', 'Premier League', 'Premier League', 'Premier League', 'Premier League', 'Premier League', 'Premier League', 'Premier League', 'Premier League', 'Premier League', 'Premier League', 'Premier League', 'Premier League', 'Premier League', 'Premier League', 'Premier League', 'Premier League', 'Premier League', 'Premier League', 'Premier League', 'Premier League', 'Premier League', 'Premier League', 'Premier League', 'Premier League', 'Premier League', 'Premier League', 'Premier League', 'Premier League', 'Premier League', 'Premier League', 'Premier League', 'Premier League', 'Premier League', 'Premier League', 'Premier League', 'Premier League', 'Premier League', 'Premier League', 'Premier League', 'Premier League', 'Premier League', 'Premier League', 'Premier League', 'Premier League', 'Premier League', 'Premier League', 'Premier League', 'Premier League', 'Premier League', 'Premier League', 'Premier League', 'Premier League', 'Premier League', 'Premier League', 'Premier League', 'Premier League', 'Premier League', 'Premier League', 'Premier League', 'Premier League', 'Premier League', 'Premier League', 'Premier League', 'Premier League', 'Premier League', 'Premier League', 'Premier League', 'Premier League', 'Premier League', 'Premier League', 'Premier League', 'Premier League', 'Premier League', 'Premier League', 'Premier League', 'Premier League', 'Premier League', 'Premier League', 'Premier League', 'Premier League', 'Premier League', 'Premier League', 'Premier League', 'Premier League', 'Premier League', 'Premier League', 'Premier League', 'Premier League', 'Premier League', 'Premier League', 'Premier League', 'Premier League', 'Premier League', 'Premier League', 'Premier League', 'Premier League', 'Premier League', 'Premier League', 'Premier League', 'Premier League', 'Premier League', 'Premier League', 'Premier League', 'Premier League', 'Premier League', 'Premier League', 'Premier League', 'Premier League', 'Premier League', 'Premier League', 'Premier League', 'Premier League', 'Premier League', 'Premier League', 'Premier League', 'Premier League', 'Premier League', 'Premier League', 'Premier League', 'Premier League', 'Premier League', 'Premier League', 'Premier League', 'Premier League', 'Premier League', 'Premier League', 'Premier League', 'Premier League', 'Premier League', 'Premier League', 'Premier League', 'Premier League', 'Premier League', 'Premier League', 'Premier League', 'Premier League', 'Premier League', 'Premier League', 'Premier League', 'Premier League', 'Premier League', 'Premier League', 'Premier League', 'Premier League', 'Premier League', 'Premier League', 'Premier League', 'Premier League', 'Premier League', 'Premier League', 'Premier League', 'Premier League', 'Premier League', 'Premier League', 'Premier League', 'Premier League', 'Premier League', 'Premier League', 'Premier League', 'Premier League', 'Premier League', 'Premier League', 'Premier League', 'Premier League', 'Premier League', 'Premier League', 'Premier League', 'Premier League', 'Premier League', 'Premier League', 'Premier League', 'Premier League', 'Premier League', 'Premier League', 'Premier League', 'Premier League', 'Premier League', 'Premier League', 'Premier League', 'Premier League', 'Premier League', 'Premier League', 'Premier League', 'Premier League', 'Premier League', 'Premier League', 'Premier League', 'Premier League', 'Premier League', 'Premier League', 'Premier League', 'Premier League', 'Premier League', 'Premier League', 'Premier League', 'Premier League', 'Premier League', 'Premier League', 'Premier League', 'Premier League', 'Premier League', 'Premier League', 'Premier League', 'Premier League', 'Premier League', 'Premier League', 'Premier League', 'Premier League', 'Premier League', 'Premier League', 'Premier League', 'Premier League', 'Premier League', 'Premier League', 'Premier League', 'Premier League', 'Premier League', 'Premier League', 'Premier League', 'Premier League', 'Premier League', 'Premier League', 'Premier League', 'Premier League', 'Premier League', 'Premier League', 'Premier League', 'Premier League', 'Premier League', 'Premier League', 'Premier League', 'Premier League', 'Premier League', 'Premier League', 'Premier League', 'Premier League', 'Premier League', 'Premier League', 'Premier League', 'Premier League', 'Premier League', 'Premier League', 'Premier League', 'Premier League', 'Premier League', 'Premier League', 'Premier League', 'Premier League', 'Premier League', 'Premier League', 'Premier League', 'Premier League', 'Premier League', 'Premier League', 'Premier League', 'Premier League', 'Premier League', 'Premier League', 'Premier League', 'Premier League', 'Premier League', 'Premier League', 'Premier League', 'Premier League', 'Premier League', 'Premier League', 'Premier League', 'Premier League', 'Premier League', 'Premier League', 'Premier League', 'Premier League', 'Premier League', 'Premier League', 'Premier League', 'Premier League', 'Premier League', 'Premier League', 'Premier League', 'Premier League', 'Premier League', 'Premier League', 'Premier League', 'Premier League', 'Premier League', 'Premier League', 'Premier League', 'Premier League', 'Premier League', 'Premier League', 'Premier League', 'Premier League', 'Premier League', 'Premier League', 'Premier League', 'Premier League', 'Premier League', 'Premier League', 'Premier League', 'Premier League', 'Premier League', 'Premier League', 'Premier League', 'Premier League', 'Premier League', 'Premier League', 'Premier League', 'Premier League', 'Premier League', 'Premier League', 'Premier League', 'Premier League', 'Premier League', 'Premier League', 'Premier League', 'Premier League', 'Premier League', 'Premier League', 'Premier League', 'Premier League', 'Premier League', 'Premier League', 'Premier League', 'Premier League', 'Premier League', 'Premier League', 'Premier League', 'Premier League', 'Premier League', 'Premier League', 'Premier League', 'Premier League', 'Premier League', 'Premier League', 'Premier League', 'Premier League', 'Premier League', 'Premier League', 'Premier League', 'Premier League', 'Premier League', 'Premier League', 'Premier League', 'Premier League', 'Premier League', 'Premier League', 'Premier League', 'Premier League', 'Premier League', 'Premier League', 'Premier League', 'Premier League', 'Premier League', 'Premier League', 'Premier League', 'Premier League', 'Premier League', 'Premier League', 'Premier League', 'Premier League', 'Premier League', 'Premier League', 'Premier League', 'Premier League', 'Premier League', 'Premier League', 'Premier League', 'Premier League', 'Premier League', 'Premier League', 'Premier League', 'Premier League', 'Premier League', 'Premier League', 'Premier League', 'Premier League', 'Premier League', 'Premier League', 'Premier League', 'Premier League', 'Premier League', 'Premier League', 'Premier League', 'Premier League', 'Premier League', 'Premier League', 'Premier League', 'Premier League', 'Premier League', 'Premier League', 'Premier League', 'Premier League', 'Premier League', 'Premier League', 'Premier League', 'Premier League', 'Premier League', 'Premier League', 'Premier League', 'Premier League', 'Premier League', 'Premier League', 'Premier League', 'Premier League', 'Premier League', 'Premier League', 'Premier League', 'Premier League', 'Premier League', 'Premier League', 'Premier League', 'Premier League', 'Premier League', 'Premier League', 'Premier League', 'Premier League', 'Premier League', 'Premier League', 'Premier League', 'Premier League', 'Premier League', 'Premier League', 'Premier League', 'Premier League', 'Premier League', 'Premier League', 'Premier League', 'Premier League', 'Premier League', 'Premier League', 'Premier League', 'Premier League', 'Premier League', 'Premier League', 'Premier League', 'Premier League', 'Premier League', 'Premier League', 'Premier League', 'Premier League', 'Premier League', 'Premier League', 'Premier League', 'Premier League', 'Premier League', 'Premier League', 'Premier League', 'Premier League', 'Premier League', 'Premier League', 'Premier League', 'Premier League', 'Premier League', 'Premier League', 'Premier League', 'Premier League', 'Premier League', 'Premier League', 'Premier League', 'Premier League', 'Premier League', 'Premier League', 'Premier League', 'Premier League', 'Premier League', 'Premier League', 'Premier League', 'Premier League', 'Premier League', 'Premier League', 'Premier League', 'Premier League', 'Premier League', 'Premier League', 'Premier League', 'Premier League', 'Premier League', 'Premier League', 'Premier League', 'Premier League', 'Premier League', 'Premier League', 'Premier League', 'Premier League', 'Premier League', 'Premier League', 'Premier League', 'Premier League', 'Premier League', 'Premier League', 'Premier League', 'Premier League', 'Premier League', 'Premier League', 'Premier League', 'Premier League', 'Premier League', 'Premier League', 'Premier League', 'Premier League', 'Premier League', 'Premier League', 'Premier League', 'Premier League', 'Premier League', 'Premier League', 'Premier League', 'Premier League', 'Premier League', 'Premier League', 'Premier League', 'Premier League', 'Premier League', 'Premier League', 'Premier League', 'Premier League', 'Premier League', 'Premier League', 'Premier League', 'Premier League', 'Premier League', 'Premier League', 'Premier League', 'Premier League', 'Premier League', 'Premier League', 'Premier League', 'Premier League', 'Premier League', 'Premier League', 'Premier League', 'Premier League', 'Premier League', 'Premier League', 'Premier League', 'Premier League', 'Premier League', 'Premier League', 'Premier League', 'Premier League', 'Premier League', 'Premier League', 'Premier League', 'Premier League', 'Premier League', 'Premier League', 'Premier League', 'Premier League', 'Premier League', 'Premier League', 'Premier League', 'Premier League', 'Premier League', 'Premier League', 'Premier League', 'Premier League', 'Premier League', 'Premier League', 'Premier League', 'Premier League', 'Premier League', 'Premier League', 'Premier League', 'Premier League', 'Premier League', 'Premier League', 'Premier League', 'Premier League', 'Premier League', 'Premier League', 'Premier League', 'Premier League', 'Premier League', 'Premier League', 'Premier League', 'Premier League', 'Premier League', 'Premier League', 'Premier League', 'Premier League', 'Premier League', 'Premier League', 'Premier League', 'Premier League', 'Premier League', 'Premier League', 'Premier League', 'Premier League', 'Premier League', 'Premier League', 'Premier League', 'Premier League', 'Premier League', 'Premier League', 'Premier League', 'Premier League', 'Premier League', 'Premier League', 'Premier League'], 'Ligue 1': ['Ligue 1', 'Ligue 1', 'Ligue 1', 'Ligue 1', 'Ligue 1', 'Ligue 1', 'Ligue 1', 'Ligue 1', 'Ligue 1', 'Ligue 1', 'Ligue 1', 'Ligue 1', 'Ligue 1', 'Ligue 1', 'Ligue 1', 'Ligue 1', 'Ligue 1', 'Ligue 1', 'Ligue 1', 'Ligue 1', 'Ligue 1', 'Ligue 1', 'Ligue 1', 'Ligue 1', 'Ligue 1', 'Ligue 1', 'Ligue 1', 'Ligue 1', 'Ligue 1', 'Ligue 1', 'Ligue 1', 'Ligue 1', 'Ligue 1', 'Ligue 1', 'Ligue 1', 'Ligue 1', 'Ligue 1', 'Ligue 1', 'Ligue 1', 'Ligue 1', 'Ligue 1', 'Ligue 1', 'Ligue 1', 'Ligue 1', 'Ligue 1', 'Ligue 1', 'Ligue 1', 'Ligue 1', 'Ligue 1', 'Ligue 1', 'Ligue 1', 'Ligue 1', 'Ligue 1', 'Ligue 1', 'Ligue 1', 'Ligue 1', 'Ligue 1', 'Ligue 1', 'Ligue 1', 'Ligue 1', 'Ligue 1', 'Ligue 1', 'Ligue 1', 'Ligue 1', 'Ligue 1', 'Ligue 1', 'Ligue 1', 'Ligue 1', 'Ligue 1', 'Ligue 1', 'Ligue 1', 'Ligue 1', 'Ligue 1', 'Ligue 1', 'Ligue 1', 'Ligue 1', 'Ligue 1', 'Ligue 1', 'Ligue 1', 'Ligue 1', 'Ligue 1', 'Ligue 1', 'Ligue 1', 'Ligue 1', 'Ligue 1', 'Ligue 1', 'Ligue 1', 'Ligue 1', 'Ligue 1', 'Ligue 1', 'Ligue 1', 'Ligue 1', 'Ligue 1', 'Ligue 1', 'Ligue 1', 'Ligue 1', 'Ligue 1', 'Ligue 1', 'Ligue 1', 'Ligue 1', 'Ligue 1', 'Ligue 1', 'Ligue 1', 'Ligue 1', 'Ligue 1', 'Ligue 1', 'Ligue 1', 'Ligue 1', 'Ligue 1', 'Ligue 1', 'Ligue 1', 'Ligue 1', 'Ligue 1', 'Ligue 1', 'Ligue 1', 'Ligue 1', 'Ligue 1', 'Ligue 1', 'Ligue 1', 'Ligue 1', 'Ligue 1', 'Ligue 1', 'Ligue 1', 'Ligue 1', 'Ligue 1', 'Ligue 1', 'Ligue 1', 'Ligue 1', 'Ligue 1', 'Ligue 1', 'Ligue 1', 'Ligue 1', 'Ligue 1', 'Ligue 1', 'Ligue 1', 'Ligue 1', 'Ligue 1', 'Ligue 1', 'Ligue 1', 'Ligue 1', 'Ligue 1', 'Ligue 1', 'Ligue 1', 'Ligue 1', 'Ligue 1', 'Ligue 1', 'Ligue 1', 'Ligue 1', 'Ligue 1', 'Ligue 1', 'Ligue 1', 'Ligue 1', 'Ligue 1', 'Ligue 1', 'Ligue 1', 'Ligue 1', 'Ligue 1', 'Ligue 1', 'Ligue 1', 'Ligue 1', 'Ligue 1', 'Ligue 1', 'Ligue 1', 'Ligue 1', 'Ligue 1', 'Ligue 1', 'Ligue 1', 'Ligue 1', 'Ligue 1', 'Ligue 1', 'Ligue 1', 'Ligue 1', 'Ligue 1', 'Ligue 1', 'Ligue 1', 'Ligue 1', 'Ligue 1', 'Ligue 1', 'Ligue 1', 'Ligue 1', 'Ligue 1', 'Ligue 1', 'Ligue 1', 'Ligue 1', 'Ligue 1', 'Ligue 1', 'Ligue 1', 'Ligue 1', 'Ligue 1', 'Ligue 1', 'Ligue 1', 'Ligue 1', 'Ligue 1', 'Ligue 1', 'Ligue 1', 'Ligue 1', 'Ligue 1', 'Ligue 1', 'Ligue 1', 'Ligue 1', 'Ligue 1', 'Ligue 1', 'Ligue 1', 'Ligue 1', 'Ligue 1', 'Ligue 1', 'Ligue 1', 'Ligue 1', 'Ligue 1', 'Ligue 1', 'Ligue 1', 'Ligue 1', 'Ligue 1', 'Ligue 1', 'Ligue 1', 'Ligue 1', 'Ligue 1', 'Ligue 1', 'Ligue 1', 'Ligue 1', 'Ligue 1', 'Ligue 1', 'Ligue 1', 'Ligue 1', 'Ligue 1', 'Ligue 1', 'Ligue 1', 'Ligue 1', 'Ligue 1', 'Ligue 1', 'Ligue 1', 'Ligue 1', 'Ligue 1', 'Ligue 1', 'Ligue 1', 'Ligue 1', 'Ligue 1', 'Ligue 1', 'Ligue 1', 'Ligue 1', 'Ligue 1', 'Ligue 1', 'Ligue 1', 'Ligue 1', 'Ligue 1', 'Ligue 1', 'Ligue 1', 'Ligue 1', 'Ligue 1', 'Ligue 1', 'Ligue 1', 'Ligue 1', 'Ligue 1', 'Ligue 1', 'Ligue 1', 'Ligue 1', 'Ligue 1', 'Ligue 1', 'Ligue 1', 'Ligue 1', 'Ligue 1', 'Ligue 1', 'Ligue 1', 'Ligue 1', 'Ligue 1', 'Ligue 1', 'Ligue 1', 'Ligue 1', 'Ligue 1', 'Ligue 1', 'Ligue 1', 'Ligue 1', 'Ligue 1', 'Ligue 1', 'Ligue 1', 'Ligue 1', 'Ligue 1', 'Ligue 1', 'Ligue 1', 'Ligue 1', 'Ligue 1', 'Ligue 1', 'Ligue 1', 'Ligue 1', 'Ligue 1', 'Ligue 1', 'Ligue 1', 'Ligue 1', 'Ligue 1', 'Ligue 1', 'Ligue 1', 'Ligue 1', 'Ligue 1', 'Ligue 1', 'Ligue 1', 'Ligue 1', 'Ligue 1', 'Ligue 1', 'Ligue 1', 'Ligue 1', 'Ligue 1', 'Ligue 1', 'Ligue 1', 'Ligue 1', 'Ligue 1', 'Ligue 1', 'Ligue 1', 'Ligue 1', 'Ligue 1', 'Ligue 1', 'Ligue 1', 'Ligue 1', 'Ligue 1', 'Ligue 1', 'Ligue 1', 'Ligue 1', 'Ligue 1', 'Ligue 1', 'Ligue 1', 'Ligue 1', 'Ligue 1', 'Ligue 1', 'Ligue 1', 'Ligue 1', 'Ligue 1', 'Ligue 1', 'Ligue 1', 'Ligue 1', 'Ligue 1', 'Ligue 1', 'Ligue 1', 'Ligue 1', 'Ligue 1', 'Ligue 1', 'Ligue 1', 'Ligue 1', 'Ligue 1', 'Ligue 1', 'Ligue 1', 'Ligue 1', 'Ligue 1', 'Ligue 1', 'Ligue 1', 'Ligue 1', 'Ligue 1', 'Ligue 1', 'Ligue 1', 'Ligue 1', 'Ligue 1', 'Ligue 1', 'Ligue 1', 'Ligue 1', 'Ligue 1', 'Ligue 1', 'Ligue 1', 'Ligue 1', 'Ligue 1', 'Ligue 1', 'Ligue 1', 'Ligue 1', 'Ligue 1', 'Ligue 1', 'Ligue 1', 'Ligue 1', 'Ligue 1', 'Ligue 1', 'Ligue 1', 'Ligue 1', 'Ligue 1', 'Ligue 1', 'Ligue 1', 'Ligue 1', 'Ligue 1', 'Ligue 1', 'Ligue 1', 'Ligue 1', 'Ligue 1', 'Ligue 1', 'Ligue 1', 'Ligue 1', 'Ligue 1', 'Ligue 1', 'Ligue 1', 'Ligue 1', 'Ligue 1', 'Ligue 1', 'Ligue 1', 'Ligue 1', 'Ligue 1', 'Ligue 1', 'Ligue 1', 'Ligue 1', 'Ligue 1', 'Ligue 1', 'Ligue 1', 'Ligue 1', 'Ligue 1', 'Ligue 1', 'Ligue 1', 'Ligue 1', 'Ligue 1', 'Ligue 1', 'Ligue 1', 'Ligue 1', 'Ligue 1', 'Ligue 1', 'Ligue 1', 'Ligue 1', 'Ligue 1', 'Ligue 1', 'Ligue 1', 'Ligue 1', 'Ligue 1', 'Ligue 1', 'Ligue 1', 'Ligue 1', 'Ligue 1', 'Ligue 1', 'Ligue 1', 'Ligue 1', 'Ligue 1', 'Ligue 1', 'Ligue 1', 'Ligue 1', 'Ligue 1', 'Ligue 1', 'Ligue 1', 'Ligue 1', 'Ligue 1', 'Ligue 1'], 'LaLiga2': ['LaLiga2', 'LaLiga2', 'LaLiga2', 'LaLiga2', 'LaLiga2', 'LaLiga2', 'LaLiga2', 'LaLiga2', 'LaLiga2', 'LaLiga2', 'LaLiga2', 'LaLiga2', 'LaLiga2', 'LaLiga2', 'LaLiga2', 'LaLiga2', 'LaLiga2', 'LaLiga2', 'LaLiga2', 'LaLiga2', 'LaLiga2', 'LaLiga2', 'LaLiga2', 'LaLiga2', 'LaLiga2', 'LaLiga2', 'LaLiga2', 'LaLiga2', 'LaLiga2', 'LaLiga2', 'LaLiga2', 'LaLiga2', 'LaLiga2', 'LaLiga2', 'LaLiga2', 'LaLiga2', 'LaLiga2', 'LaLiga2', 'LaLiga2', 'LaLiga2', 'LaLiga2', 'LaLiga2', 'LaLiga2', 'LaLiga2', 'LaLiga2', 'LaLiga2', 'LaLiga2', 'LaLiga2', 'LaLiga2', 'LaLiga2', 'LaLiga2', 'LaLiga2', 'LaLiga2', 'LaLiga2', 'LaLiga2', 'LaLiga2', 'LaLiga2', 'LaLiga2', 'LaLiga2'], 'Série A': ['Série A', 'Série A', 'Série A', 'Série A', 'Série A', 'Série A', 'Série A', 'Série A', 'Série A', 'Série A', 'Série A', 'Série A', 'Série A', 'Série A', 'Série A', 'Série A', 'Série A', 'Série A', 'Série A', 'Série A', 'Série A', 'Série A', 'Série A', 'Série A', 'Série A', 'Série A', 'Série A', 'Série A', 'Série A', 'Série A', 'Série A', 'Série A', 'Série A', 'Série A', 'Série A', 'Série A', 'Série A', 'Série A', 'Série A', 'Série A', 'Série A', 'Série A', 'Série A', 'Série A', 'Série A', 'Série A', 'Série A', 'Série A', 'Série A', 'Série A', 'Série A', 'Série A', 'Série A', 'Série A', 'Série A', 'Série A', 'Série A', 'Série A', 'Série A', 'Série A', 'Série A', 'Série A', 'Série A', 'Série A', 'Série A', 'Série A', 'Série A', 'Série A', 'Série A', 'Série A', 'Série A', 'Série A', 'Série A', 'Série A', 'Série A', 'Série A', 'Série A', 'Série A', 'Série A', 'Série A', 'Série A', 'Série A', 'Série A', 'Série A', 'Série A', 'Série A', 'Série A', 'Série A', 'Série A', 'Série A', 'Série A', 'Série A', 'Série A', 'Série A', 'Série A', 'Série A', 'Série A', 'Série A', 'Série A', 'Série A', 'Série A', 'Série A', 'Série A', 'Série A', 'Série A', 'Série A', 'Série A', 'Série A', 'Série A', 'Série A', 'Série A', 'Série A', 'Série A', 'Série A', 'Série A', 'Série A', 'Série A', 'Série A', 'Série A', 'Série A', 'Série A', 'Série A', 'Série A', 'Série A', 'Série A', 'Série A', 'Série A', 'Série A', 'Série A', 'Série A', 'Série A', 'Série A', 'Série A', 'Série A', 'Série A', 'Série A', 'Série A', 'Série A', 'Série A', 'Série A', 'Série A', 'Série A', 'Série A', 'Série A', 'Série A', 'Série A', 'Série A', 'Série A', 'Série A', 'Série A', 'Série A', 'Série A', 'Série A', 'Série A', 'Série A', 'Série A', 'Série A', 'Série A', 'Série A', 'Série A', 'Série A', 'Série A', 'Série A', 'Série A', 'Série A', 'Série A', 'Série A', 'Série A', 'Série A', 'Série A', 'Série A', 'Série A', 'Série A', 'Série A', 'Série A', 'Série A', 'Série A', 'Série A', 'Série A', 'Série A', 'Série A', 'Série A', 'Série A', 'Série A', 'Série A', 'Série A', 'Série A', 'Série A', 'Série A', 'Série A', 'Série A', 'Série A', 'Série A', 'Série A', 'Série A', 'Série A', 'Série A', 'Série A', 'Série A', 'Série A', 'Série A', 'Série A', 'Série A', 'Série A', 'Série A', 'Série A', 'Série A', 'Série A', 'Série A', 'Série A', 'Série A', 'Série A', 'Série A', 'Série A', 'Série A', 'Série A', 'Série A', 'Série A', 'Série A', 'Série A', 'Série A', 'Série A', 'Série A', 'Série A', 'Série A', 'Série A', 'Série A', 'Série A', 'Série A', 'Série A', 'Série A', 'Série A', 'Série A', 'Série A', 'Série A', 'Série A', 'Série A', 'Série A', 'Série A', 'Série A', 'Série A', 'Série A', 'Série A', 'Série A', 'Série A', 'Série A', 'Série A', 'Série A', 'Série A', 'Série A', 'Série A', 'Série A', 'Série A', 'Série A', 'Série A', 'Série A', 'Série A', 'Série A', 'Série A', 'Série A', 'Série A', 'Série A', 'Série A', 'Série A', 'Série A', 'Série A', 'Série A', 'Série A', 'Série A', 'Série A', 'Série A', 'Série A', 'Série A', 'Série A', 'Série A', 'Série A', 'Série A', 'Série A', 'Série A', 'Série A', 'Série A', 'Série A', 'Série A', 'Série A', 'Série A', 'Série A', 'Série A', 'Série A'], 'Arg Primera Division': ['Arg Primera Division', 'Arg Primera Division', 'Arg Primera Division', 'Arg Primera Division', 'Arg Primera Division', 'Arg Primera Division', 'Arg Primera Division', 'Arg Primera Division', 'Arg Primera Division', 'Arg Primera Division', 'Arg Primera Division', 'Arg Primera Division', 'Arg Primera Division', 'Arg Primera Division', 'Arg Primera Division', 'Arg Primera Division', 'Arg Primera Division', 'Arg Primera Division', 'Arg Primera Division', 'Arg Primera Division', 'Arg Primera Division', 'Arg Primera Division', 'Arg Primera Division', 'Arg Primera Division', 'Arg Primera Division', 'Arg Primera Division', 'Arg Primera Division', 'Arg Primera Division', 'Arg Primera Division', 'Arg Primera Division', 'Arg Primera Division', 'Arg Primera Division', 'Arg Primera Division', 'Arg Primera Division', 'Arg Primera Division', 'Arg Primera Division', 'Arg Primera Division', 'Arg Primera Division', 'Arg Primera Division', 'Arg Primera Division', 'Arg Primera Division', 'Arg Primera Division', 'Arg Primera Division', 'Arg Primera Division', 'Arg Primera Division', 'Arg Primera Division', 'Arg Primera Division', 'Arg Primera Division', 'Arg Primera Division', 'Arg Primera Division', 'Arg Primera Division', 'Arg Primera Division', 'Arg Primera Division', 'Arg Primera Division', 'Arg Primera Division', 'Arg Primera Division', 'Arg Primera Division', 'Arg Primera Division', 'Arg Primera Division', 'Arg Primera Division', 'Arg Primera Division', 'Arg Primera Division', 'Arg Primera Division', 'Arg Primera Division', 'Arg Primera Division', 'Arg Primera Division', 'Arg Primera Division', 'Arg Primera Division', 'Arg Primera Division', 'Arg Primera Division', 'Arg Primera Division', 'Arg Primera Division', 'Arg Primera Division', 'Arg Primera Division', 'Arg Primera Division', 'Arg Primera Division', 'Arg Primera Division', 'Arg Primera Division', 'Arg Primera Division', 'Arg Primera Division', 'Arg Primera Division', 'Arg Primera Division', 'Arg Primera Division', 'Arg Primera Division', 'Arg Primera Division', 'Arg Primera Division', 'Arg Primera Division', 'Arg Primera Division', 'Arg Primera Division', 'Arg Primera Division', 'Arg Primera Division', 'Arg Primera Division', 'Arg Primera Division', 'Arg Primera Division', 'Arg Primera Division', 'Arg Primera Division', 'Arg Primera Division', 'Arg Primera Division', 'Arg Primera Division', 'Arg Primera Division', 'Arg Primera Division', 'Arg Primera Division', 'Arg Primera Division', 'Arg Primera Division', 'Arg Primera Division', 'Arg Primera Division', 'Arg Primera Division', 'Arg Primera Division', 'Arg Primera Division', 'Arg Primera Division', 'Arg Primera Division', 'Arg Primera Division', 'Arg Primera Division', 'Arg Primera Division', 'Arg Primera Division', 'Arg Primera Division', 'Arg Primera Division', 'Arg Primera Division', 'Arg Primera Division', 'Arg Primera Division', 'Arg Primera Division', 'Arg Primera Division', 'Arg Primera Division', 'Arg Primera Division', 'Arg Primera Division', 'Arg Primera Division', 'Arg Primera Division', 'Arg Primera Division', 'Arg Primera Division', 'Arg Primera Division', 'Arg Primera Division', 'Arg Primera Division', 'Arg Primera Division', 'Arg Primera Division', 'Arg Primera Division', 'Arg Primera Division', 'Arg Primera Division', 'Arg Primera Division', 'Arg Primera Division', 'Arg Primera Division', 'Arg Primera Division', 'Arg Primera Division', 'Arg Primera Division', 'Arg Primera Division', 'Arg Primera Division', 'Arg Primera Division', 'Arg Primera Division', 'Arg Primera Division', 'Arg Primera Division', 'Arg Primera Division', 'Arg Primera Division', 'Arg Primera Division', 'Arg Primera Division', 'Arg Primera Division'], 'Serie B': ['Serie B', 'Serie B', 'Serie B', 'Serie B', 'Serie B', 'Serie B', 'Serie B', 'Serie B', 'Serie B', 'Serie B', 'Serie B', 'Serie B', 'Serie B', 'Serie B', 'Serie B', 'Serie B', 'Serie B', 'Serie B', 'Serie B', 'Serie B', 'Serie B', 'Serie B', 'Serie B', 'Serie B', 'Serie B', 'Serie B', 'Serie B', 'Serie B', 'Serie B', 'Serie B', 'Serie B', 'Serie B', 'Serie B', 'Serie B', 'Serie B', 'Serie B', 'Serie B', 'Serie B', 'Serie B', 'Serie B', 'Serie B', 'Serie B', 'Serie B', 'Serie B', 'Serie B', 'Serie B', 'Serie B', 'Serie B', 'Serie B', 'Serie B', 'Serie B', 'Serie B', 'Serie B', 'Serie B', 'Serie B', 'Serie B', 'Serie B', 'Serie B', 'Serie B', 'Serie B', 'Serie B', 'Serie B', 'Serie B', 'Serie B', 'Serie B', 'Serie B', 'Serie B', 'Serie B', 'Serie B', 'Serie B', 'Serie B', 'Serie B', 'Serie B', 'Serie B', 'Serie B', 'Serie B', 'Serie B', 'Serie B', 'Serie B', 'Serie B', 'Serie B', 'Serie B', 'Serie B', 'Serie B', 'Serie B', 'Serie B', 'Serie B', 'Serie B', 'Serie B', 'Serie B', 'Serie B', 'Serie B', 'Serie B', 'Serie B', 'Serie B', 'Serie B', 'Serie B', 'Serie B', 'Serie B', 'Serie B'], '1.Bundesliga': ['1.Bundesliga', '1.Bundesliga', '1.Bundesliga', '1.Bundesliga', '1.Bundesliga', '1.Bundesliga', '1.Bundesliga', '1.Bundesliga', '1.Bundesliga', '1.Bundesliga', '1.Bundesliga', '1.Bundesliga', '1.Bundesliga', '1.Bundesliga', '1.Bundesliga', '1.Bundesliga', '1.Bundesliga', '1.Bundesliga', '1.Bundesliga', '1.Bundesliga', '1.Bundesliga', '1.Bundesliga', '1.Bundesliga', '1.Bundesliga', '1.Bundesliga', '1.Bundesliga', '1.Bundesliga', '1.Bundesliga', '1.Bundesliga', '1.Bundesliga', '1.Bundesliga', '1.Bundesliga', '1.Bundesliga', '1.Bundesliga', '1.Bundesliga', '1.Bundesliga', '1.Bundesliga', '1.Bundesliga', '1.Bundesliga', '1.Bundesliga', '1.Bundesliga', '1.Bundesliga', '1.Bundesliga', '1.Bundesliga', '1.Bundesliga', '1.Bundesliga', '1.Bundesliga', '1.Bundesliga', '1.Bundesliga', '1.Bundesliga', '1.Bundesliga', '1.Bundesliga', '1.Bundesliga', '1.Bundesliga', '1.Bundesliga', '1.Bundesliga', '1.Bundesliga', '1.Bundesliga', '1.Bundesliga', '1.Bundesliga', '1.Bundesliga', '1.Bundesliga', '1.Bundesliga', '1.Bundesliga', '1.Bundesliga', '1.Bundesliga', '1.Bundesliga', '1.Bundesliga', '1.Bundesliga', '1.Bundesliga', '1.Bundesliga', '1.Bundesliga', '1.Bundesliga', '1.Bundesliga', '1.Bundesliga', '1.Bundesliga', '1.Bundesliga', '1.Bundesliga', '1.Bundesliga', '1.Bundesliga', '1.Bundesliga', '1.Bundesliga', '1.Bundesliga', '1.Bundesliga', '1.Bundesliga', '1.Bundesliga', '1.Bundesliga', '1.Bundesliga', '1.Bundesliga', '1.Bundesliga', '1.Bundesliga', '1.Bundesliga', '1.Bundesliga', '1.Bundesliga', '1.Bundesliga', '1.Bundesliga', '1.Bundesliga', '1.Bundesliga', '1.Bundesliga', '1.Bundesliga', '1.Bundesliga', '1.Bundesliga', '1.Bundesliga', '1.Bundesliga', '1.Bundesliga', '1.Bundesliga', '1.Bundesliga', '1.Bundesliga', '1.Bundesliga', '1.Bundesliga', '1.Bundesliga', '1.Bundesliga', '1.Bundesliga', '1.Bundesliga', '1.Bundesliga', '1.Bundesliga', '1.Bundesliga', '1.Bundesliga', '1.Bundesliga', '1.Bundesliga', '1.Bundesliga', '1.Bundesliga', '1.Bundesliga', '1.Bundesliga', '1.Bundesliga', '1.Bundesliga', '1.Bundesliga', '1.Bundesliga', '1.Bundesliga', '1.Bundesliga', '1.Bundesliga', '1.Bundesliga', '1.Bundesliga', '1.Bundesliga', '1.Bundesliga', '1.Bundesliga', '1.Bundesliga', '1.Bundesliga', '1.Bundesliga', '1.Bundesliga', '1.Bundesliga', '1.Bundesliga', '1.Bundesliga', '1.Bundesliga', '1.Bundesliga', '1.Bundesliga', '1.Bundesliga', '1.Bundesliga', '1.Bundesliga', '1.Bundesliga', '1.Bundesliga', '1.Bundesliga', '1.Bundesliga', '1.Bundesliga', '1.Bundesliga', '1.Bundesliga', '1.Bundesliga', '1.Bundesliga', '1.Bundesliga', '1.Bundesliga', '1.Bundesliga', '1.Bundesliga', '1.Bundesliga', '1.Bundesliga', '1.Bundesliga', '1.Bundesliga', '1.Bundesliga', '1.Bundesliga', '1.Bundesliga', '1.Bundesliga', '1.Bundesliga', '1.Bundesliga', '1.Bundesliga', '1.Bundesliga', '1.Bundesliga', '1.Bundesliga', '1.Bundesliga', '1.Bundesliga', '1.Bundesliga', '1.Bundesliga', '1.Bundesliga', '1.Bundesliga', '1.Bundesliga', '1.Bundesliga', '1.Bundesliga', '1.Bundesliga', '1.Bundesliga', '1.Bundesliga', '1.Bundesliga', '1.Bundesliga', '1.Bundesliga', '1.Bundesliga', '1.Bundesliga', '1.Bundesliga', '1.Bundesliga', '1.Bundesliga', '1.Bundesliga', '1.Bundesliga', '1.Bundesliga', '1.Bundesliga', '1.Bundesliga', '1.Bundesliga', '1.Bundesliga', '1.Bundesliga', '1.Bundesliga', '1.Bundesliga', '1.Bundesliga', '1.Bundesliga', '1.Bundesliga', '1.Bundesliga', '1.Bundesliga', '1.Bundesliga', '1.Bundesliga', '1.Bundesliga', '1.Bundesliga', '1.Bundesliga', '1.Bundesliga', '1.Bundesliga', '1.Bundesliga', '1.Bundesliga', '1.Bundesliga', '1.Bundesliga', '1.Bundesliga', '1.Bundesliga', '1.Bundesliga', '1.Bundesliga', '1.Bundesliga', '1.Bundesliga', '1.Bundesliga', '1.Bundesliga', '1.Bundesliga', '1.Bundesliga', '1.Bundesliga', '1.Bundesliga', '1.Bundesliga', '1.Bundesliga', '1.Bundesliga', '1.Bundesliga', '1.Bundesliga', '1.Bundesliga', '1.Bundesliga', '1.Bundesliga', '1.Bundesliga', '1.Bundesliga', '1.Bundesliga', '1.Bundesliga', '1.Bundesliga', '1.Bundesliga', '1.Bundesliga', '1.Bundesliga', '1.Bundesliga', '1.Bundesliga', '1.Bundesliga', '1.Bundesliga', '1.Bundesliga', '1.Bundesliga', '1.Bundesliga', '1.Bundesliga', '1.Bundesliga', '1.Bundesliga', '1.Bundesliga', '1.Bundesliga', '1.Bundesliga', '1.Bundesliga', '1.Bundesliga'], 'Premier Liga': ['Premier Liga', 'Premier Liga', 'Premier Liga', 'Premier Liga', 'Premier Liga', 'Premier Liga', 'Premier Liga', 'Premier Liga', 'Premier Liga', 'Premier Liga', 'Premier Liga', 'Premier Liga', 'Premier Liga', 'Premier Liga', 'Premier Liga', 'Premier Liga', 'Premier Liga', 'Premier Liga', 'Premier Liga', 'Premier Liga', 'Premier Liga', 'Premier Liga', 'Premier Liga', 'Premier Liga', 'Premier Liga', 'Premier Liga', 'Premier Liga', 'Premier Liga', 'Premier Liga', 'Premier Liga', 'Premier Liga', 'Premier Liga', 'Premier Liga', 'Premier Liga', 'Premier Liga', 'Premier Liga', 'Premier Liga', 'Premier Liga', 'Premier Liga', 'Premier Liga', 'Premier Liga', 'Premier Liga', 'Premier Liga', 'Premier Liga', 'Premier Liga', 'Premier Liga', 'Premier Liga', 'Premier Liga', 'Premier Liga', 'Premier Liga', 'Premier Liga', 'Premier Liga', 'Premier Liga', 'Premier Liga', 'Premier Liga', 'Premier Liga', 'Premier Liga', 'Premier Liga', 'Premier Liga', 'Premier Liga', 'Premier Liga', 'Premier Liga', 'Premier Liga', 'Premier Liga', 'Premier Liga', 'Premier Liga', 'Premier Liga', 'Premier Liga', 'Premier Liga', 'Premier Liga', 'Premier Liga', 'Premier Liga', 'Premier Liga', 'Premier Liga', 'Premier Liga', 'Premier Liga', 'Premier Liga', 'Premier Liga', 'Premier Liga', 'Premier Liga', 'Premier Liga', 'Premier Liga', 'Premier Liga', 'Premier Liga', 'Premier Liga', 'Premier Liga', 'Premier Liga', 'Premier Liga', 'Premier Liga', 'Premier Liga', 'Premier Liga', 'Premier Liga', 'Premier Liga', 'Premier Liga', 'Premier Liga', 'Premier Liga', 'Premier Liga', 'Premier Liga', 'Premier Liga', 'Premier Liga', 'Premier Liga', 'Premier Liga', 'Premier Liga', 'Premier Liga', 'Premier Liga', 'Premier Liga', 'Premier Liga', 'Premier Liga', 'Premier Liga', 'Premier Liga', 'Premier Liga', 'Premier Liga', 'Premier Liga', 'Premier Liga', 'Premier Liga', 'Premier Liga', 'Premier Liga', 'Premier Liga', 'Premier Liga', 'Premier Liga', 'Premier Liga', 'Premier Liga', 'Premier Liga', 'Premier Liga', 'Premier Liga', 'Premier Liga', 'Premier Liga', 'Premier Liga', 'Premier Liga', 'Premier Liga', 'Premier Liga', 'Premier Liga', 'Premier Liga', 'Premier Liga', 'Premier Liga', 'Premier Liga', 'Premier Liga', 'Premier Liga', 'Premier Liga', 'Premier Liga', 'Premier Liga', 'Premier Liga', 'Premier Liga', 'Premier Liga', 'Premier Liga', 'Premier Liga', 'Premier Liga', 'Premier Liga', 'Premier Liga', 'Premier Liga', 'Premier Liga', 'Premier Liga', 'Premier Liga', 'Premier Liga', 'Premier Liga', 'Premier Liga', 'Premier Liga', 'Premier Liga', 'Premier Liga', 'Premier Liga', 'Premier Liga', 'Premier Liga', 'Premier Liga', 'Premier Liga', 'Premier Liga', 'Premier Liga', 'Premier Liga', 'Premier Liga', 'Premier Liga', 'Premier Liga'], 'Liga NOS': ['Liga NOS', 'Liga NOS', 'Liga NOS', 'Liga NOS', 'Liga NOS', 'Liga NOS', 'Liga NOS', 'Liga NOS', 'Liga NOS', 'Liga NOS', 'Liga NOS', 'Liga NOS', 'Liga NOS', 'Liga NOS', 'Liga NOS', 'Liga NOS', 'Liga NOS', 'Liga NOS', 'Liga NOS', 'Liga NOS', 'Liga NOS', 'Liga NOS', 'Liga NOS', 'Liga NOS', 'Liga NOS', 'Liga NOS', 'Liga NOS', 'Liga NOS', 'Liga NOS', 'Liga NOS', 'Liga NOS', 'Liga NOS', 'Liga NOS', 'Liga NOS', 'Liga NOS', 'Liga NOS', 'Liga NOS', 'Liga NOS', 'Liga NOS', 'Liga NOS', 'Liga NOS', 'Liga NOS', 'Liga NOS', 'Liga NOS', 'Liga NOS', 'Liga NOS', 'Liga NOS', 'Liga NOS', 'Liga NOS', 'Liga NOS', 'Liga NOS', 'Liga NOS', 'Liga NOS', 'Liga NOS', 'Liga NOS', 'Liga NOS', 'Liga NOS', 'Liga NOS', 'Liga NOS', 'Liga NOS', 'Liga NOS', 'Liga NOS', 'Liga NOS', 'Liga NOS', 'Liga NOS', 'Liga NOS', 'Liga NOS', 'Liga NOS', 'Liga NOS', 'Liga NOS', 'Liga NOS', 'Liga NOS', 'Liga NOS', 'Liga NOS', 'Liga NOS', 'Liga NOS', 'Liga NOS', 'Liga NOS', 'Liga NOS', 'Liga NOS', 'Liga NOS', 'Liga NOS', 'Liga NOS', 'Liga NOS', 'Liga NOS', 'Liga NOS', 'Liga NOS', 'Liga NOS', 'Liga NOS', 'Liga NOS', 'Liga NOS', 'Liga NOS', 'Liga NOS', 'Liga NOS', 'Liga NOS', 'Liga NOS', 'Liga NOS', 'Liga NOS', 'Liga NOS', 'Liga NOS', 'Liga NOS', 'Liga NOS', 'Liga NOS', 'Liga NOS', 'Liga NOS', 'Liga NOS', 'Liga NOS', 'Liga NOS', 'Liga NOS', 'Liga NOS', 'Liga NOS', 'Liga NOS', 'Liga NOS', 'Liga NOS', 'Liga NOS', 'Liga NOS', 'Liga NOS', 'Liga NOS', 'Liga NOS', 'Liga NOS', 'Liga NOS', 'Liga NOS', 'Liga NOS', 'Liga NOS', 'Liga NOS', 'Liga NOS', 'Liga NOS', 'Liga NOS', 'Liga NOS', 'Liga NOS', 'Liga NOS', 'Liga NOS', 'Liga NOS', 'Liga NOS', 'Liga NOS', 'Liga NOS', 'Liga NOS', 'Liga NOS', 'Liga NOS', 'Liga NOS', 'Liga NOS', 'Liga NOS', 'Liga NOS', 'Liga NOS', 'Liga NOS', 'Liga NOS', 'Liga NOS', 'Liga NOS', 'Liga NOS', 'Liga NOS', 'Liga NOS', 'Liga NOS', 'Liga NOS', 'Liga NOS', 'Liga NOS', 'Liga NOS', 'Liga NOS', 'Liga NOS', 'Liga NOS', 'Liga NOS', 'Liga NOS', 'Liga NOS', 'Liga NOS', 'Liga NOS', 'Liga NOS', 'Liga NOS', 'Liga NOS', 'Liga NOS', 'Liga NOS', 'Liga NOS', 'Liga NOS', 'Liga NOS', 'Liga NOS', 'Liga NOS', 'Liga NOS', 'Liga NOS', 'Liga NOS', 'Liga NOS', 'Liga NOS', 'Liga NOS', 'Liga NOS', 'Liga NOS', 'Liga NOS', 'Liga NOS', 'Liga NOS'], ' Czech Republic': [' Czech Republic', ' Czech Republic', ' Czech Republic', ' Czech Republic', ' Czech Republic', ' Czech Republic', ' Czech Republic', ' Czech Republic'], 'SuperLiga': ['SuperLiga', 'SuperLiga', 'SuperLiga', 'SuperLiga', 'SuperLiga', 'SuperLiga', 'SuperLiga', 'SuperLiga', 'SuperLiga', 'SuperLiga', 'SuperLiga', 'SuperLiga', 'SuperLiga', 'SuperLiga', 'SuperLiga', 'SuperLiga', 'SuperLiga', 'SuperLiga', 'SuperLiga', 'SuperLiga', 'SuperLiga', 'SuperLiga', 'SuperLiga', 'SuperLiga', 'SuperLiga', 'SuperLiga', 'SuperLiga', 'SuperLiga', 'SuperLiga', 'SuperLiga', 'SuperLiga', 'SuperLiga', 'SuperLiga', 'SuperLiga', 'SuperLiga'], 'Eredivisie': ['Eredivisie', 'Eredivisie', 'Eredivisie', 'Eredivisie', 'Eredivisie', 'Eredivisie', 'Eredivisie', 'Eredivisie', 'Eredivisie', 'Eredivisie', 'Eredivisie', 'Eredivisie', 'Eredivisie', 'Eredivisie', 'Eredivisie', 'Eredivisie', 'Eredivisie', 'Eredivisie', 'Eredivisie', 'Eredivisie', 'Eredivisie', 'Eredivisie', 'Eredivisie', 'Eredivisie', 'Eredivisie', 'Eredivisie', 'Eredivisie', 'Eredivisie', 'Eredivisie', 'Eredivisie', 'Eredivisie', 'Eredivisie', 'Eredivisie', 'Eredivisie', 'Eredivisie', 'Eredivisie', 'Eredivisie', 'Eredivisie', 'Eredivisie', 'Eredivisie', 'Eredivisie', 'Eredivisie', 'Eredivisie', 'Eredivisie', 'Eredivisie', 'Eredivisie', 'Eredivisie', 'Eredivisie', 'Eredivisie', 'Eredivisie', 'Eredivisie', 'Eredivisie', 'Eredivisie', 'Eredivisie', 'Eredivisie', 'Eredivisie', 'Eredivisie', 'Eredivisie', 'Eredivisie', 'Eredivisie', 'Eredivisie', 'Eredivisie', 'Eredivisie', 'Eredivisie', 'Eredivisie', 'Eredivisie', 'Eredivisie', 'Eredivisie', 'Eredivisie', 'Eredivisie', 'Eredivisie', 'Eredivisie', 'Eredivisie', 'Eredivisie', 'Eredivisie', 'Eredivisie', 'Eredivisie', 'Eredivisie', 'Eredivisie', 'Eredivisie', 'Eredivisie', 'Eredivisie', 'Eredivisie', 'Eredivisie', 'Eredivisie', 'Eredivisie', 'Eredivisie', 'Eredivisie', 'Eredivisie', 'Eredivisie', 'Eredivisie', 'Eredivisie', 'Eredivisie', 'Eredivisie', 'Eredivisie', 'Eredivisie', 'Eredivisie', 'Eredivisie', 'Eredivisie', 'Eredivisie', 'Eredivisie', 'Eredivisie', 'Eredivisie', 'Eredivisie', 'Eredivisie', 'Eredivisie', 'Eredivisie', 'Eredivisie', 'Eredivisie', 'Eredivisie', 'Eredivisie', 'Eredivisie', 'Eredivisie', 'Eredivisie', 'Eredivisie', 'Eredivisie', 'Eredivisie', 'Eredivisie', 'Eredivisie', 'Eredivisie', 'Eredivisie', 'Eredivisie', 'Eredivisie', 'Eredivisie', 'Eredivisie', 'Eredivisie', 'Eredivisie', 'Eredivisie', 'Eredivisie', 'Eredivisie', 'Eredivisie', 'Eredivisie', 'Eredivisie', 'Eredivisie', 'Eredivisie', 'Eredivisie', 'Eredivisie', 'Eredivisie', 'Eredivisie', 'Eredivisie', 'Eredivisie', 'Eredivisie', 'Eredivisie', 'Eredivisie', 'Eredivisie', 'Eredivisie', 'Eredivisie', 'Eredivisie', 'Eredivisie', 'Eredivisie', 'Eredivisie', 'Eredivisie', 'Eredivisie', 'Eredivisie', 'Eredivisie', 'Eredivisie', 'Eredivisie', 'Eredivisie', 'Eredivisie', 'Eredivisie', 'Eredivisie', 'Eredivisie', 'Eredivisie', 'Eredivisie', 'Eredivisie', 'Eredivisie', 'Eredivisie', 'Eredivisie', 'Eredivisie', 'Eredivisie', 'Eredivisie', 'Eredivisie', 'Eredivisie', 'Eredivisie', 'Eredivisie', 'Eredivisie', 'Eredivisie', 'Eredivisie', 'Eredivisie', 'Eredivisie', 'Eredivisie', 'Eredivisie', 'Eredivisie', 'Eredivisie', 'Eredivisie', 'Eredivisie', 'Eredivisie', 'Eredivisie', 'Eredivisie', 'Eredivisie'], 'Championship': ['Championship', 'Championship', 'Championship', 'Championship', 'Championship', 'Championship', 'Championship', 'Championship', 'Championship', 'Championship', 'Championship', 'Championship', 'Championship', 'Championship', 'Championship', 'Championship', 'Championship', 'Championship', 'Championship', 'Championship', 'Championship', 'Championship', 'Championship', 'Championship', 'Championship', 'Championship', 'Championship', 'Championship', 'Championship', 'Championship', 'Championship', 'Championship', 'Championship', 'Championship', 'Championship', 'Championship', 'Championship', 'Championship', 'Championship', 'Championship', 'Championship', 'Championship', 'Championship', 'Championship', 'Championship', 'Championship', 'Championship', 'Championship', 'Championship', 'Championship', 'Championship', 'Championship', 'Championship', 'Championship', 'Championship', 'Championship', 'Championship', 'Championship', 'Championship', 'Championship', 'Championship', 'Championship', 'Championship', 'Championship', 'Championship', 'Championship', 'Championship', 'Championship', 'Championship', 'Championship', 'Championship', 'Championship', 'Championship', 'Championship', 'Championship', 'Championship', 'Championship', 'Championship', 'Championship', 'Championship', 'Championship', 'Championship', 'Championship', 'Championship', 'Championship', 'Championship', 'Championship', 'Championship', 'Championship', 'Championship', 'Championship', 'Championship', 'Championship', 'Championship', 'Championship', 'Championship', 'Championship', 'Championship', 'Championship', 'Championship', 'Championship', 'Championship', 'Championship', 'Championship', 'Championship', 'Championship', 'Championship', 'Championship', 'Championship', 'Championship', 'Championship', 'Championship', 'Championship', 'Championship', 'Championship', 'Championship', 'Championship', 'Championship', 'Championship', 'Championship', 'Championship', 'Championship', 'Championship', 'Championship', 'Championship', 'Championship', 'Championship', 'Championship', 'Championship', 'Championship', 'Championship', 'Championship', 'Championship', 'Championship', 'Championship', 'Championship', 'Championship', 'Championship', 'Championship', 'Championship', 'Championship', 'Championship', 'Championship', 'Championship', 'Championship', 'Championship', 'Championship', 'Championship', 'Championship', 'Championship', 'Championship', 'Championship', 'Championship', 'Championship', 'Championship', 'Championship', 'Championship', 'Championship', 'Championship', 'Championship', 'Championship', 'Championship', 'Championship', 'Championship', 'Championship', 'Championship', 'Championship', 'Championship', 'Championship', 'Championship', 'Championship', 'Championship', 'Championship', 'Championship', 'Championship', 'Championship', 'Championship', 'Championship', 'Championship', 'Championship', 'Championship', 'Championship', 'Championship', 'Championship', 'Championship', 'Championship', 'Championship', 'Championship', 'Championship', 'Championship', 'Championship', 'Championship', 'Championship', 'Championship', 'Championship', 'Championship', 'Championship', 'Championship', 'Championship', 'Championship', 'Championship', 'Championship', 'Championship', 'Championship', 'Championship', 'Championship', 'Championship', 'Championship', 'Championship', 'Championship', 'Championship', 'Championship', 'Championship', 'Championship', 'Championship', 'Championship', 'Championship', 'Championship', 'Championship', 'Championship', 'Championship', 'Championship', 'Championship', 'Championship', 'Championship', 'Championship', 'Championship', 'Championship', 'Championship', 'Championship', 'Championship', 'Championship', 'Championship', 'Championship', 'Championship', 'Championship', 'Championship', 'Championship', 'Championship', 'Championship', 'Championship', 'Championship', 'Championship', 'Championship', 'Championship', 'Championship', 'Championship', 'Championship', 'Championship', 'Championship', 'Championship', 'Championship', 'Championship', 'Championship', 'Championship', 'Championship', 'Championship', 'Championship', 'Championship', 'Championship', 'Championship', 'Championship', 'Championship', 'Championship', 'Championship', 'Championship', 'Championship', 'Championship', 'Championship', 'Championship', 'Championship', 'Championship', 'Championship', 'Championship', 'Championship', 'Championship', 'Championship', 'Championship', 'Championship', 'Championship', 'Championship', 'Championship'], 'Premiership': ['Premiership', 'Premiership', 'Premiership', 'Premiership', 'Premiership', 'Premiership', 'Premiership', 'Premiership', 'Premiership', 'Premiership', 'Premiership', 'Premiership', 'Premiership', 'Premiership', 'Premiership', 'Premiership', 'Premiership', 'Premiership', 'Premiership', 'Premiership', 'Premiership', 'Premiership', 'Premiership', 'Premiership', 'Premiership', 'Premiership', 'Premiership', 'Premiership', 'Premiership', 'Premiership', 'Premiership', 'Premiership', 'Premiership', 'Premiership', 'Premiership', 'Premiership', 'Premiership', 'Premiership', 'Premiership', 'Premiership', 'Premiership', 'Premiership'], 'Süper Lig': ['Süper Lig', 'Süper Lig', 'Süper Lig', 'Süper Lig', 'Süper Lig', 'Süper Lig', 'Süper Lig', 'Süper Lig', 'Süper Lig', 'Süper Lig', 'Süper Lig', 'Süper Lig', 'Süper Lig', 'Süper Lig', 'Süper Lig', 'Süper Lig', 'Süper Lig', 'Süper Lig', 'Süper Lig', 'Süper Lig', 'Süper Lig', 'Süper Lig', 'Süper Lig', 'Süper Lig', 'Süper Lig', 'Süper Lig', 'Süper Lig', 'Süper Lig', 'Süper Lig', 'Süper Lig', 'Süper Lig', 'Süper Lig', 'Süper Lig', 'Süper Lig', 'Süper Lig', 'Süper Lig', 'Süper Lig', 'Süper Lig', 'Süper Lig', 'Süper Lig', 'Süper Lig', 'Süper Lig', 'Süper Lig', 'Süper Lig', 'Süper Lig', 'Süper Lig', 'Süper Lig', 'Süper Lig', 'Süper Lig', 'Süper Lig', 'Süper Lig', 'Süper Lig', 'Süper Lig', 'Süper Lig', 'Süper Lig', 'Süper Lig', 'Süper Lig', 'Süper Lig', 'Süper Lig', 'Süper Lig', 'Süper Lig', 'Süper Lig', 'Süper Lig', 'Süper Lig', 'Süper Lig', 'Süper Lig', 'Süper Lig', 'Süper Lig', 'Süper Lig', 'Süper Lig', 'Süper Lig', 'Süper Lig', 'Süper Lig', 'Süper Lig', 'Süper Lig', 'Süper Lig', 'Süper Lig', 'Süper Lig', 'Süper Lig', 'Süper Lig', 'Süper Lig', 'Süper Lig', 'Süper Lig', 'Süper Lig', 'Süper Lig', 'Süper Lig', 'Süper Lig', 'Süper Lig', 'Süper Lig', 'Süper Lig', 'Süper Lig', 'Süper Lig', 'Süper Lig', 'Süper Lig', 'Süper Lig', 'Süper Lig', 'Süper Lig', 'Süper Lig', 'Süper Lig', 'Süper Lig'], 'Eliteserien': ['Eliteserien', 'Eliteserien', 'Eliteserien', 'Eliteserien', 'Eliteserien', 'Eliteserien', 'Eliteserien', 'Eliteserien', 'Eliteserien', 'Eliteserien', 'Eliteserien', 'Eliteserien', 'Eliteserien', 'Eliteserien', 'Eliteserien', 'Eliteserien', 'Eliteserien'], '1.HNL': ['1.HNL', '1.HNL', '1.HNL', '1.HNL', '1.HNL', '1.HNL', '1.HNL', '1.HNL', '1.HNL', '1.HNL', '1.HNL', '1.HNL', '1.HNL', '1.HNL', '1.HNL', '1.HNL', '1.HNL', '1.HNL', '1.HNL', '1.HNL', '1.HNL', '1.HNL', '1.HNL', '1.HNL', '1.HNL', '1.HNL', '1.HNL', '1.HNL', '1.HNL', '1.HNL', '1.HNL', '1.HNL', '1.HNL', '1.HNL', '1.HNL', '1.HNL', '1.HNL', '1.HNL', '1.HNL', '1.HNL', '1.HNL', '1.HNL', '1.HNL', '1.HNL', '1.HNL', '1.HNL', '1.HNL', '1.HNL', '1.HNL', '1.HNL', '1.HNL', '1.HNL', '1.HNL', '1.HNL', '1.HNL', '1.HNL', '1.HNL', '1.HNL', '1.HNL', '1.HNL'], 'Super League': ['Super League', 'Super League', 'Super League', 'Super League', 'Super League', 'Super League', 'Super League', 'Super League', 'Super League', 'Super League', 'Super League', 'Super League', 'Super League', 'Super League', 'Super League', 'Super League', 'Super League', 'Super League', 'Super League', 'Super League', 'Super League', 'Super League', 'Super League', 'Super League', 'Super League', 'Super League', 'Super League', 'Super League', 'Super League', 'Super League', 'Super League', 'Super League', 'Super League', 'Super League', 'Super League', 'Super League', 'Super League', 'Super League', 'Super League', 'Super League', 'Super League', 'Super League', 'Super League', 'Super League', 'Super League', 'Super League', 'Super League', 'Super League', 'Super League', 'Super League', 'Super League', 'Super League', 'Super League', 'Super League', 'Super League', 'Super League', 'Super League', 'Super League', 'Super League', 'Super League', 'Super League', 'Super League', 'Super League', 'Super League', 'Super League', 'Super League', 'Super League', 'Super League', 'Super League', 'Super League', 'Super League', 'Super League', 'Super League', 'Super League', 'Super League', 'Super League', 'Super League', 'Super League', 'Super League', 'Super League', 'Super League', 'Super League', 'Super League', 'Super League', 'Super League', 'Super League', 'Super League', 'Super League', 'Super League', 'Super League', 'Super League', 'Super League', 'Super League', 'Super League', 'Super League', 'Super League', 'Super League', 'Super League', 'Super League', 'Super League', 'Super League', 'Super League', 'Super League', 'Super League', 'Super League', 'Super League', 'Super League', 'Super League', 'Super League'], 'Liga MX': ['Liga MX', 'Liga MX', 'Liga MX', 'Liga MX', 'Liga MX', 'Liga MX', 'Liga MX', 'Liga MX', 'Liga MX', 'Liga MX', 'Liga MX', 'Liga MX', 'Liga MX', 'Liga MX', 'Liga MX', 'Liga MX', 'Liga MX', 'Liga MX', 'Liga MX', 'Liga MX', 'Liga MX', 'Liga MX', 'Liga MX', 'Liga MX', 'Liga MX', 'Liga MX', 'Liga MX', 'Liga MX', 'Liga MX', 'Liga MX', 'Liga MX', 'Liga MX', 'Liga MX', 'Liga MX', 'Liga MX', 'Liga MX', 'Liga MX', 'Liga MX', 'Liga MX', 'Liga MX', 'Liga MX', 'Liga MX', 'Liga MX', 'Liga MX', 'Liga MX', 'Liga MX', 'Liga MX', 'Liga MX', 'Liga MX', 'Liga MX', 'Liga MX', 'Liga MX', 'Liga MX', 'Liga MX', 'Liga MX', 'Liga MX', 'Liga MX', 'Liga MX', 'Liga MX', 'Liga MX', 'Liga MX'], 'Primera División': ['Primera División', 'Primera División', 'Primera División', 'Primera División', 'Primera División', 'Primera División', 'Primera División', 'Primera División', 'Primera División', 'Primera División', 'Primera División', 'Primera División', 'Primera División', 'Primera División', 'Primera División', 'Primera División', 'Primera División', 'Primera División', 'Primera División', 'Primera División', 'Primera División', 'Primera División', 'Primera División', 'Primera División', 'Primera División', 'Primera División', 'Primera División', 'Primera División', 'Primera División', 'Primera División', 'Primera División', 'Primera División', 'Primera División', 'Primera División', 'Primera División', 'Primera División', 'Primera División', 'Primera División', 'Primera División', 'Primera División', 'Primera División', 'Primera División', 'Primera División', 'Primera División', 'Primera División', 'Primera División', 'Primera División', 'Primera División', 'Primera División', 'Primera División', 'Primera División', 'Primera División', 'Primera División', 'Primera División', 'Primera División', 'Primera División'], 'Ligue 2': ['Ligue 2', 'Ligue 2', 'Ligue 2', 'Ligue 2', 'Ligue 2', 'Ligue 2', 'Ligue 2', 'Ligue 2', 'Ligue 2', 'Ligue 2', 'Ligue 2', 'Ligue 2', 'Ligue 2', 'Ligue 2', 'Ligue 2', 'Ligue 2', 'Ligue 2', 'Ligue 2', 'Ligue 2', 'Ligue 2', 'Ligue 2', 'Ligue 2', 'Ligue 2', 'Ligue 2', 'Ligue 2', 'Ligue 2', 'Ligue 2', 'Ligue 2', 'Ligue 2', 'Ligue 2', 'Ligue 2', 'Ligue 2', 'Ligue 2', 'Ligue 2', 'Ligue 2', 'Ligue 2', 'Ligue 2', 'Ligue 2', 'Ligue 2', 'Ligue 2', 'Ligue 2', 'Ligue 2', 'Ligue 2', 'Ligue 2', 'Ligue 2', 'Ligue 2', 'Ligue 2'], ' Uru Primera Division': [' Uru Primera Division', ' Uru Primera Division', ' Uru Primera Division', ' Uru Primera Division', ' Uru Primera Division', ' Uru Primera Division', ' Uru Primera Division', ' Uru Primera Division', ' Uru Primera Division', ' Uru Primera Division', ' Uru Primera Division', ' Uru Primera Division', ' Uru Primera Division'], 'A Grupa - Championship gr.': ['A Grupa - Championship gr.', 'A Grupa - Championship gr.', 'A Grupa - Championship gr.', 'A Grupa - Championship gr.', 'A Grupa - Championship gr.', 'A Grupa - Championship gr.', 'A Grupa - Championship gr.'], 'K League 1': ['K League 1', 'K League 1', 'K League 1', 'K League 1', 'K League 1'], 'Ekstraklasa': ['Ekstraklasa', 'Ekstraklasa', 'Ekstraklasa', 'Ekstraklasa', 'Ekstraklasa', 'Ekstraklasa', 'Ekstraklasa', 'Ekstraklasa', 'Ekstraklasa', 'Ekstraklasa'], 'Allsvenskan': ['Allsvenskan', 'Allsvenskan', 'Allsvenskan', 'Allsvenskan', 'Allsvenskan', 'Allsvenskan', 'Allsvenskan', 'Allsvenskan', 'Allsvenskan', 'Allsvenskan', 'Allsvenskan', 'Allsvenskan', 'Allsvenskan', 'Allsvenskan', 'Allsvenskan', 'Allsvenskan', 'Allsvenskan', 'Allsvenskan', 'Allsvenskan', 'Allsvenskan'], 'Virsliga': ['Virsliga', 'Virsliga'], '2.Bundesliga': ['2.Bundesliga', '2.Bundesliga', '2.Bundesliga', '2.Bundesliga', '2.Bundesliga', '2.Bundesliga', '2.Bundesliga', '2.Bundesliga', '2.Bundesliga', '2.Bundesliga', '2.Bundesliga', '2.Bundesliga', '2.Bundesliga', '2.Bundesliga', '2.Bundesliga', '2.Bundesliga', '2.Bundesliga', '2.Bundesliga', '2.Bundesliga', '2.Bundesliga', '2.Bundesliga', '2.Bundesliga', '2.Bundesliga', '2.Bundesliga', '2.Bundesliga', '2.Bundesliga', '2.Bundesliga', '2.Bundesliga', '2.Bundesliga', '2.Bundesliga', '2.Bundesliga', '2.Bundesliga', '2.Bundesliga', '2.Bundesliga', '2.Bundesliga', '2.Bundesliga', '2.Bundesliga'], 'J1 League': ['J1 League', 'J1 League', 'J1 League', 'J1 League', 'J1 League', 'J1 League', 'J1 League', 'J1 League', 'J1 League', 'J1 League', 'J1 League', 'J1 League', 'J1 League', 'J1 League'], ' Finland': [' Finland'], 'Superligaen': ['Superligaen', 'Superligaen', 'Superligaen', 'Superligaen', 'Superligaen', 'Superligaen', 'Superligaen', 'Superligaen', 'Superligaen', 'Superligaen', 'Superligaen', 'Superligaen', 'Superligaen', 'Superligaen', 'Superligaen', 'Superligaen', 'Superligaen', 'Superligaen', 'Superligaen', 'Superligaen', 'Superligaen', 'Superligaen', 'Superligaen', 'Superligaen', 'Superligaen', 'Superligaen', 'Superligaen', 'Superligaen', 'Superligaen'], 'Jupiler Pro League': ['Jupiler Pro League', 'Jupiler Pro League', 'Jupiler Pro League', 'Jupiler Pro League', 'Jupiler Pro League', 'Jupiler Pro League', 'Jupiler Pro League', 'Jupiler Pro League', 'Jupiler Pro League', 'Jupiler Pro League', 'Jupiler Pro League', 'Jupiler Pro League', 'Jupiler Pro League', 'Jupiler Pro League', 'Jupiler Pro League', 'Jupiler Pro League', 'Jupiler Pro League', 'Jupiler Pro League', 'Jupiler Pro League', 'Jupiler Pro League', 'Jupiler Pro League', 'Jupiler Pro League', 'Jupiler Pro League', 'Jupiler Pro League', 'Jupiler Pro League', 'Jupiler Pro League', 'Jupiler Pro League', 'Jupiler Pro League', 'Jupiler Pro League', 'Jupiler Pro League', 'Jupiler Pro League', 'Jupiler Pro League', 'Jupiler Pro League', 'Jupiler Pro League', 'Jupiler Pro League', 'Jupiler Pro League', 'Jupiler Pro League', 'Jupiler Pro League', 'Jupiler Pro League', 'Jupiler Pro League', 'Jupiler Pro League', 'Jupiler Pro League', 'Jupiler Pro League', 'Jupiler Pro League', 'Jupiler Pro League', 'Jupiler Pro League', 'Jupiler Pro League', 'Jupiler Pro League', 'Jupiler Pro League', 'Jupiler Pro League', 'Jupiler Pro League', 'Jupiler Pro League', 'Jupiler Pro League', 'Jupiler Pro League', 'Jupiler Pro League', 'Jupiler Pro League', 'Jupiler Pro League', 'Jupiler Pro League', 'Jupiler Pro League', 'Jupiler Pro League', 'Jupiler Pro League', 'Jupiler Pro League', 'Jupiler Pro League', 'Jupiler Pro League', 'Jupiler Pro League', 'Jupiler Pro League', 'Jupiler Pro League', 'Jupiler Pro League', 'Jupiler Pro League', 'Jupiler Pro League', 'Jupiler Pro League', 'Jupiler Pro League', 'Jupiler Pro League', 'Jupiler Pro League', 'Jupiler Pro League', 'Jupiler Pro League', 'Jupiler Pro League', 'Jupiler Pro League', 'Jupiler Pro League', 'Jupiler Pro League', 'Jupiler Pro League', 'Jupiler Pro League', 'Jupiler Pro League', 'Jupiler Pro League', 'Jupiler Pro League', 'Jupiler Pro League', 'Jupiler Pro League', 'Jupiler Pro League', 'Jupiler Pro League', 'Jupiler Pro League', 'Jupiler Pro League'], 'Professional League': ['Professional League', 'Professional League', 'Professional League', 'Professional League', 'Professional League', 'Professional League', 'Professional League', 'Professional League'], ' Australia': [' Australia'], ' Slovakia': [' Slovakia'], 'Liga 1': ['Liga 1', 'Liga 1', 'Liga 1', 'Liga 1', 'Liga 1', 'Liga 1', 'Liga 1', 'Liga 1', 'Liga 1', 'Liga 1', 'Liga 1', 'Liga 1', 'Liga 1', 'Liga 1', 'Liga 1', 'Liga 1', 'Liga 1', 'Liga 1', 'Liga 1', 'Liga 1', 'Liga 1'], 'Vysheyshaya Liga': ['Vysheyshaya Liga', 'Vysheyshaya Liga'], ' China': [' China', ' China', ' China', ' China'], '1.Liga gr. 1': ['1.Liga gr. 1'], ' Iran': [' Iran', ' Iran'], 'Bundesliga': ['Bundesliga', 'Bundesliga', 'Bundesliga', 'Bundesliga', 'Bundesliga', 'Bundesliga', 'Bundesliga', 'Bundesliga', 'Bundesliga', 'Bundesliga', 'Bundesliga', 'Bundesliga', 'Bundesliga', 'Bundesliga', 'Bundesliga', 'Bundesliga', 'Bundesliga', 'Bundesliga', 'Bundesliga', 'Bundesliga', 'Bundesliga', 'Bundesliga'], ' Venezuela': [' Venezuela'], 'Primera Div. Apertura': ['Primera Div. Apertura'], 'League One': ['League One', 'League One', 'League One', 'League One', 'League One', 'League One', 'League One', 'League One', 'League One', 'League One', 'League One', 'League One', 'League One', 'League One', 'League One', 'League One', 'League One', 'League One', 'League One'], 'Championnat National': ['Championnat National', 'Championnat National', 'Championnat National'], 'U19 Eredivisie': ['U19 Eredivisie', 'U19 Eredivisie'], '1.Lig': ['1.Lig'], 'MLS': ['MLS', 'MLS', 'MLS', 'MLS', 'MLS', 'MLS', 'MLS'], 'Challenge League': ['Challenge League'], \"Ligat ha'Al\": [\"Ligat ha'Al\", \"Ligat ha'Al\"], ' Spain': [' Spain', ' Spain', ' Spain', ' Spain', ' Spain'], 'Ligue I Pro': ['Ligue I Pro', 'Ligue I Pro'], ' South Africa': [' South Africa'], 'Serie C': ['Serie C', 'Serie C', 'Serie C', 'Serie C', 'Serie C', 'Serie C'], 'Regionalliga Nord': ['Regionalliga Nord'], 'Liga Águila II': ['Liga Águila II', 'Liga Águila II', 'Liga Águila II', 'Liga Águila II', 'Liga Águila II', 'Liga Águila II', 'Liga Águila II', 'Liga Águila II', 'Liga Águila II', 'Liga Águila II', 'Liga Águila II'], '1.Division': ['1.Division', '1.Division', '1.Division', '1.Division', '1.Division', '1.Division', '1.Division', '1.Division', '1.Division', '1.Division'], ' Moldova': [' Moldova', ' Moldova'], ' Peru': [' Peru'], ' Paraguay': [' Paraguay', ' Paraguay', ' Paraguay'], 'NB I.': ['NB I.', 'NB I.'], 'Stars League': ['Stars League', 'Stars League', 'Stars League', 'Stars League', 'Stars League', 'Stars League', 'Stars League'], 'OBOS-ligaen': ['OBOS-ligaen'], 'Esp otra ligas': ['Esp otra ligas', 'Esp otra ligas', 'Esp otra ligas', 'Esp otra ligas', 'Esp otra ligas'], 'Superettan': ['Superettan'], ' Ghana': [' Ghana'], 'Série B': ['Série B', 'Série B', 'Série B', 'Série B'], ' Ecuador': [' Ecuador'], 'UAE Gulf League': ['UAE Gulf League', 'UAE Gulf League', 'UAE Gulf League', 'UAE Gulf League', 'UAE Gulf League', 'UAE Gulf League', 'UAE Gulf League', 'UAE Gulf League', 'UAE Gulf League', 'UAE Gulf League'], 'Primera B Nacional': ['Primera B Nacional', 'Primera B Nacional', 'Primera B Nacional', 'Primera B Nacional'], 'Primavera B': ['Primavera B', 'Primavera B'], '3.Liga': ['3.Liga'], 'Uru Primera Division': ['Uru Primera Division'], 'U18 Premier League': ['U18 Premier League'], ' Canada': [' Canada'], 'Proximus League': ['Proximus League'], 'Botola Pro': ['Botola Pro']})\n"
     ]
    }
   ],
   "source": [
    "# placing league from column into a list\n",
    "LT = list(transfer[\"League_from\"])\n",
    "# removing repetitiveness in list\n",
    "res = defaultdict(list)\n",
    "for l in LT:\n",
    "    res[l].append(l)\n",
    "print(res)"
   ]
  },
  {
   "cell_type": "code",
   "execution_count": 80,
   "metadata": {},
   "outputs": [
    {
     "name": "stdout",
     "output_type": "stream",
     "text": [
      "['LaLiga', 'Serie A', 'Premier League', 'Ligue 1', 'LaLiga2', 'Série A', 'Arg Primera Division', 'Serie B', '1.Bundesliga', 'Premier Liga', 'Liga NOS', ' Czech Republic', 'SuperLiga', 'Eredivisie', 'Championship', 'Premiership', 'Süper Lig', 'Eliteserien', '1.HNL', 'Super League', 'Liga MX', 'Primera División', 'Ligue 2', ' Uru Primera Division', 'A Grupa - Championship gr.', 'K League 1', 'Ekstraklasa', 'Allsvenskan', 'Virsliga', '2.Bundesliga', 'J1 League', ' Finland', 'Superligaen', 'Jupiler Pro League', 'Professional League', ' Australia', ' Slovakia', 'Liga 1', 'Vysheyshaya Liga', ' China', '1.Liga gr. 1', ' Iran', 'Bundesliga', ' Venezuela', 'Primera Div. Apertura', 'League One', 'Championnat National', 'U19 Eredivisie', '1.Lig', 'MLS', 'Challenge League', \"Ligat ha'Al\", ' Spain', 'Ligue I Pro', ' South Africa', 'Serie C', 'Regionalliga Nord', 'Liga Águila II', '1.Division', ' Moldova', ' Peru', ' Paraguay', 'NB I.', 'Stars League', 'OBOS-ligaen', 'Esp otra ligas', 'Superettan', ' Ghana', 'Série B', ' Ecuador', 'UAE Gulf League', 'Primera B Nacional', 'Primavera B', '3.Liga', 'Uru Primera Division', 'U18 Premier League', ' Canada', 'Proximus League', 'Botola Pro']\n"
     ]
    }
   ],
   "source": [
    "# list\n",
    "league = list(res.keys())\n",
    "print(league)"
   ]
  },
  {
   "cell_type": "code",
   "execution_count": 55,
   "metadata": {},
   "outputs": [
    {
     "name": "stdout",
     "output_type": "stream",
     "text": [
      "2ª B - Grupo III\n"
     ]
    }
   ],
   "source": [
    "print(league[82])"
   ]
  },
  {
   "cell_type": "code",
   "execution_count": 56,
   "metadata": {},
   "outputs": [],
   "source": [
    "# list and index\n",
    "ind_league = []\n",
    "for i in range(len(league)):\n",
    "    ligue_un = \"Index: {}, League Name:{}\".format(i, league[i])\n",
    "    ind_league.append(ligue_un)"
   ]
  },
  {
   "cell_type": "code",
   "execution_count": 57,
   "metadata": {},
   "outputs": [
    {
     "name": "stdout",
     "output_type": "stream",
     "text": [
      "['Index: 0, League Name:LaLiga', 'Index: 1, League Name:Serie A', 'Index: 2, League Name:Premier League', 'Index: 3, League Name:Ligue 1', 'Index: 4, League Name:LaLiga2', 'Index: 5, League Name: Brazil', 'Index: 6, League Name: Argentina', 'Index: 7, League Name:Serie B', 'Index: 8, League Name:1.Bundesliga', 'Index: 9, League Name:Premier Liga', 'Index: 10, League Name:Liga NOS', 'Index: 11, League Name: Czech Republic', 'Index: 12, League Name: Serbia', 'Index: 13, League Name:Eredivisie', 'Index: 14, League Name: England', 'Index: 15, League Name: Scotland', 'Index: 16, League Name:Süper Lig', 'Index: 17, League Name:Eliteserien', 'Index: 18, League Name: Croatia', 'Index: 19, League Name:Super League', 'Index: 20, League Name: Mexico', 'Index: 21, League Name: Chile', 'Index: 22, League Name:Ligue 2', 'Index: 23, League Name: Uruguay', 'Index: 24, League Name: Bulgaria', 'Index: 25, League Name: Korea, South', 'Index: 26, League Name:Ekstraklasa', 'Index: 27, League Name: Sweden', 'Index: 28, League Name: Latvia', 'Index: 29, League Name:2.Bundesliga', 'Index: 30, League Name:J1 - 2nd Stage', 'Index: 31, League Name: Finland', 'Index: 32, League Name: Denmark', 'Index: 33, League Name:Jupiler Pro League', 'Index: 34, League Name: Saudi Arabia', 'Index: 35, League Name: Australia', 'Index: 36, League Name:First Division', 'Index: 37, League Name: Portugal', 'Index: 38, League Name: Slovakia', 'Index: 39, League Name: Romania', 'Index: 40, League Name:Vysheyshaya Liga', 'Index: 41, League Name: China', 'Index: 42, League Name:1.Liga gr. 1', 'Index: 43, League Name: Iran', 'Index: 44, League Name:Bundesliga', 'Index: 45, League Name: Venezuela', 'Index: 46, League Name:Primera Div. Apertura', 'Index: 47, League Name:Second Division (bis 03/04)', 'Index: 48, League Name: France', 'Index: 49, League Name:Auf-/Abstiegsrunde NLA/NLB', 'Index: 50, League Name:U19 Eredivisie', 'Index: 51, League Name:1.Lig', 'Index: 52, League Name: United States', 'Index: 53, League Name:Challenge League', 'Index: 54, League Name:Premiership', \"Index: 55, League Name:Ligat ha'Al\", 'Index: 56, League Name:K League 1', 'Index: 57, League Name:HET Liga', 'Index: 58, League Name:MLS', 'Index: 59, League Name: Spain', 'Index: 60, League Name: Tunisia', 'Index: 61, League Name: South Africa', 'Index: 62, League Name:Virsliga', 'Index: 63, League Name:Serie C - A', 'Index: 64, League Name:Regionalliga Nord', 'Index: 65, League Name: Colombia', 'Index: 66, League Name: Russia', 'Index: 67, League Name: Moldova', 'Index: 68, League Name:Championship', 'Index: 69, League Name:Série A', 'Index: 70, League Name:Superligaen', 'Index: 71, League Name:J1 League', 'Index: 72, League Name: Peru', 'Index: 73, League Name: Paraguay', 'Index: 74, League Name:NB I.', 'Index: 75, League Name: Ukraine', 'Index: 76, League Name:Torneo Final', 'Index: 77, League Name:Allsvenskan', 'Index: 78, League Name:SuperLiga', 'Index: 79, League Name: Qatar', 'Index: 80, League Name:1.HNL', 'Index: 81, League Name:OBOS-ligaen', 'Index: 82, League Name:2ª B - Grupo III', 'Index: 83, League Name:Liga MX Clausura', 'Index: 84, League Name:Liga 1', 'Index: 85, League Name:League One', 'Index: 86, League Name:Superettan', 'Index: 87, League Name: Ghana', 'Index: 88, League Name:Serie C - B', 'Index: 89, League Name:Série B', 'Index: 90, League Name: Ecuador', 'Index: 91, League Name:J2 League', 'Index: 92, League Name: United Arab Emirates', 'Index: 93, League Name:Primera División', 'Index: 94, League Name:Primera B Nacional', 'Index: 95, League Name:Primavera B', 'Index: 96, League Name:2ª B - Grupo I', 'Index: 97, League Name:3.Liga', 'Index: 98, League Name:Liga Águila II', 'Index: 99, League Name:Segunda División', 'Index: 100, League Name:Professional League', 'Index: 101, League Name:Stars League', 'Index: 102, League Name:Ligue I Pro', 'Index: 103, League Name:Championnat National', 'Index: 104, League Name:Korean FA Cup', 'Index: 105, League Name:UAE Gulf League', 'Index: 106, League Name:Torneo Inicial', 'Index: 107, League Name:Serie A Segunda Etapa', 'Index: 108, League Name:1.Division', 'Index: 109, League Name:Rel. Ligue 1', 'Index: 110, League Name:Liga 1 - Championship group', 'Index: 111, League Name:U18 Premier League', 'Index: 112, League Name:Superligaen Championship round', 'Index: 113, League Name:A Grupa - Championship gr.', 'Index: 114, League Name:Liga MX Apertura', 'Index: 115, League Name: Canada', 'Index: 116, League Name:Proximus League', 'Index: 117, League Name:Botola Pro']\n"
     ]
    }
   ],
   "source": [
    "print(ind_league)"
   ]
  },
  {
   "cell_type": "code",
   "execution_count": 58,
   "metadata": {},
   "outputs": [
    {
     "name": "stdout",
     "output_type": "stream",
     "text": [
      "1.Division\n"
     ]
    },
    {
     "data": {
      "text/html": [
       "<div>\n",
       "<style scoped>\n",
       "    .dataframe tbody tr th:only-of-type {\n",
       "        vertical-align: middle;\n",
       "    }\n",
       "\n",
       "    .dataframe tbody tr th {\n",
       "        vertical-align: top;\n",
       "    }\n",
       "\n",
       "    .dataframe thead th {\n",
       "        text-align: right;\n",
       "    }\n",
       "</style>\n",
       "<table border=\"1\" class=\"dataframe\">\n",
       "  <thead>\n",
       "    <tr style=\"text-align: right;\">\n",
       "      <th></th>\n",
       "      <th>Name</th>\n",
       "      <th>Position</th>\n",
       "      <th>Age</th>\n",
       "      <th>Team_from</th>\n",
       "      <th>League_from</th>\n",
       "      <th>Team_to</th>\n",
       "      <th>League_to</th>\n",
       "      <th>Season</th>\n",
       "      <th>Market_value</th>\n",
       "      <th>Transfer_fee</th>\n",
       "    </tr>\n",
       "  </thead>\n",
       "  <tbody>\n",
       "    <tr>\n",
       "      <th>124</th>\n",
       "      <td>Richard Núñez</td>\n",
       "      <td>Attacking Midfield</td>\n",
       "      <td>25</td>\n",
       "      <td>Danubio FC</td>\n",
       "      <td>Uruguay</td>\n",
       "      <td>Grasshoppers</td>\n",
       "      <td>Super League</td>\n",
       "      <td>2000-2001</td>\n",
       "      <td>NaN</td>\n",
       "      <td>4500000</td>\n",
       "    </tr>\n",
       "    <tr>\n",
       "      <th>142</th>\n",
       "      <td>Gianni Guigou</td>\n",
       "      <td>Defensive Midfield</td>\n",
       "      <td>25</td>\n",
       "      <td>Nacional</td>\n",
       "      <td>Uruguay</td>\n",
       "      <td>AS Roma</td>\n",
       "      <td>Serie A</td>\n",
       "      <td>2000-2001</td>\n",
       "      <td>NaN</td>\n",
       "      <td>4000000</td>\n",
       "    </tr>\n",
       "    <tr>\n",
       "      <th>174</th>\n",
       "      <td>Antonio Pacheco</td>\n",
       "      <td>Second Striker</td>\n",
       "      <td>24</td>\n",
       "      <td>Peñarol</td>\n",
       "      <td>Uruguay</td>\n",
       "      <td>Inter</td>\n",
       "      <td>Serie A</td>\n",
       "      <td>2000-2001</td>\n",
       "      <td>NaN</td>\n",
       "      <td>3000000</td>\n",
       "    </tr>\n",
       "    <tr>\n",
       "      <th>341</th>\n",
       "      <td>Javier Chevantón</td>\n",
       "      <td>Centre-Forward</td>\n",
       "      <td>20</td>\n",
       "      <td>Danubio FC</td>\n",
       "      <td>Uruguay</td>\n",
       "      <td>Lecce</td>\n",
       "      <td>Serie A</td>\n",
       "      <td>2001-2002</td>\n",
       "      <td>NaN</td>\n",
       "      <td>7000000</td>\n",
       "    </tr>\n",
       "    <tr>\n",
       "      <th>362</th>\n",
       "      <td>Gonzalo Sorondo</td>\n",
       "      <td>Centre-Back</td>\n",
       "      <td>21</td>\n",
       "      <td>Defensor</td>\n",
       "      <td>Uruguay</td>\n",
       "      <td>Inter</td>\n",
       "      <td>Serie A</td>\n",
       "      <td>2001-2002</td>\n",
       "      <td>NaN</td>\n",
       "      <td>6000000</td>\n",
       "    </tr>\n",
       "    <tr>\n",
       "      <th>550</th>\n",
       "      <td>Rubén Olivera</td>\n",
       "      <td>Central Midfield</td>\n",
       "      <td>19</td>\n",
       "      <td>Danubio FC</td>\n",
       "      <td>Uruguay</td>\n",
       "      <td>Juventus</td>\n",
       "      <td>Serie A</td>\n",
       "      <td>2002-2003</td>\n",
       "      <td>NaN</td>\n",
       "      <td>6240000</td>\n",
       "    </tr>\n",
       "    <tr>\n",
       "      <th>583</th>\n",
       "      <td>Darío Rodríguez</td>\n",
       "      <td>Left-Back</td>\n",
       "      <td>27</td>\n",
       "      <td>Peñarol</td>\n",
       "      <td>Uruguay</td>\n",
       "      <td>FC Schalke 04</td>\n",
       "      <td>1.Bundesliga</td>\n",
       "      <td>2002-2003</td>\n",
       "      <td>NaN</td>\n",
       "      <td>4000000</td>\n",
       "    </tr>\n",
       "    <tr>\n",
       "      <th>644</th>\n",
       "      <td>Gustavo Varela</td>\n",
       "      <td>Right Midfield</td>\n",
       "      <td>24</td>\n",
       "      <td>Nacional</td>\n",
       "      <td>Uruguay</td>\n",
       "      <td>FC Schalke 04</td>\n",
       "      <td>1.Bundesliga</td>\n",
       "      <td>2002-2003</td>\n",
       "      <td>NaN</td>\n",
       "      <td>2000000</td>\n",
       "    </tr>\n",
       "    <tr>\n",
       "      <th>860</th>\n",
       "      <td>Gustavo Munúa</td>\n",
       "      <td>Goalkeeper</td>\n",
       "      <td>25</td>\n",
       "      <td>Nacional</td>\n",
       "      <td>Uruguay</td>\n",
       "      <td>Dep. La Coruña</td>\n",
       "      <td>LaLiga</td>\n",
       "      <td>2003-2004</td>\n",
       "      <td>NaN</td>\n",
       "      <td>2500000</td>\n",
       "    </tr>\n",
       "    <tr>\n",
       "      <th>1401</th>\n",
       "      <td>Sebastián Taborda</td>\n",
       "      <td>Centre-Forward</td>\n",
       "      <td>24</td>\n",
       "      <td>Defensor</td>\n",
       "      <td>Uruguay</td>\n",
       "      <td>Dep. La Coruña</td>\n",
       "      <td>LaLiga</td>\n",
       "      <td>2005-2006</td>\n",
       "      <td>NaN</td>\n",
       "      <td>3000000</td>\n",
       "    </tr>\n",
       "    <tr>\n",
       "      <th>1588</th>\n",
       "      <td>Edinson Cavani</td>\n",
       "      <td>Centre-Forward</td>\n",
       "      <td>19</td>\n",
       "      <td>Danubio FC</td>\n",
       "      <td>Uruguay</td>\n",
       "      <td>US Palermo</td>\n",
       "      <td>Serie A</td>\n",
       "      <td>2006-2007</td>\n",
       "      <td>NaN</td>\n",
       "      <td>5000000</td>\n",
       "    </tr>\n",
       "    <tr>\n",
       "      <th>1880</th>\n",
       "      <td>Maxi Pereira</td>\n",
       "      <td>Right-Back</td>\n",
       "      <td>23</td>\n",
       "      <td>Defensor</td>\n",
       "      <td>Uruguay</td>\n",
       "      <td>Benfica</td>\n",
       "      <td>Liga NOS</td>\n",
       "      <td>2007-2008</td>\n",
       "      <td>NaN</td>\n",
       "      <td>5700000</td>\n",
       "    </tr>\n",
       "    <tr>\n",
       "      <th>2215</th>\n",
       "      <td>Miguel Britos</td>\n",
       "      <td>Centre-Back</td>\n",
       "      <td>23</td>\n",
       "      <td>Wanderers</td>\n",
       "      <td>Uruguay</td>\n",
       "      <td>Bologna</td>\n",
       "      <td>Serie A</td>\n",
       "      <td>2008-2009</td>\n",
       "      <td>NaN</td>\n",
       "      <td>4000000</td>\n",
       "    </tr>\n",
       "  </tbody>\n",
       "</table>\n",
       "</div>"
      ],
      "text/plain": [
       "                   Name            Position  Age   Team_from League_from  \\\n",
       "124       Richard Núñez  Attacking Midfield   25  Danubio FC     Uruguay   \n",
       "142       Gianni Guigou  Defensive Midfield   25    Nacional     Uruguay   \n",
       "174     Antonio Pacheco      Second Striker   24     Peñarol     Uruguay   \n",
       "341    Javier Chevantón      Centre-Forward   20  Danubio FC     Uruguay   \n",
       "362     Gonzalo Sorondo         Centre-Back   21    Defensor     Uruguay   \n",
       "550       Rubén Olivera    Central Midfield   19  Danubio FC     Uruguay   \n",
       "583     Darío Rodríguez           Left-Back   27     Peñarol     Uruguay   \n",
       "644      Gustavo Varela      Right Midfield   24    Nacional     Uruguay   \n",
       "860       Gustavo Munúa          Goalkeeper   25    Nacional     Uruguay   \n",
       "1401  Sebastián Taborda      Centre-Forward   24    Defensor     Uruguay   \n",
       "1588     Edinson Cavani      Centre-Forward   19  Danubio FC     Uruguay   \n",
       "1880       Maxi Pereira          Right-Back   23    Defensor     Uruguay   \n",
       "2215      Miguel Britos         Centre-Back   23   Wanderers     Uruguay   \n",
       "\n",
       "             Team_to     League_to     Season  Market_value  Transfer_fee  \n",
       "124     Grasshoppers  Super League  2000-2001           NaN       4500000  \n",
       "142          AS Roma       Serie A  2000-2001           NaN       4000000  \n",
       "174            Inter       Serie A  2000-2001           NaN       3000000  \n",
       "341            Lecce       Serie A  2001-2002           NaN       7000000  \n",
       "362            Inter       Serie A  2001-2002           NaN       6000000  \n",
       "550         Juventus       Serie A  2002-2003           NaN       6240000  \n",
       "583    FC Schalke 04  1.Bundesliga  2002-2003           NaN       4000000  \n",
       "644    FC Schalke 04  1.Bundesliga  2002-2003           NaN       2000000  \n",
       "860   Dep. La Coruña        LaLiga  2003-2004           NaN       2500000  \n",
       "1401  Dep. La Coruña        LaLiga  2005-2006           NaN       3000000  \n",
       "1588      US Palermo       Serie A  2006-2007           NaN       5000000  \n",
       "1880         Benfica      Liga NOS  2007-2008           NaN       5700000  \n",
       "2215         Bologna       Serie A  2008-2009           NaN       4000000  "
      ]
     },
     "execution_count": 58,
     "metadata": {},
     "output_type": "execute_result"
    }
   ],
   "source": [
    "print(league[108])\n",
    "transfer.loc[transfer[\"League_from\"] == league[23]]"
   ]
  },
  {
   "cell_type": "code",
   "execution_count": 59,
   "metadata": {},
   "outputs": [
    {
     "name": "stdout",
     "output_type": "stream",
     "text": [
      "Enter League Name: h\n",
      "COMPLETED!!!\n"
     ]
    }
   ],
   "source": [
    "word = input(\"Enter League Name: \")\n",
    "for i in range(len(away_league)):\n",
    "    na = away_league[i]\n",
    "    if na == word:\n",
    "        print(\"This is the index of league: {}.\".format(str(i)))\n",
    "        \n",
    "        break\n",
    "print(\"COMPLETED!!!\")"
   ]
  },
  {
   "cell_type": "code",
   "execution_count": 67,
   "metadata": {},
   "outputs": [
    {
     "name": "stdout",
     "output_type": "stream",
     "text": [
      "{' Brazil': 'Série A', ' Argentina': 'Arg Primera Division', 'Torneo Inicial': 'Arg Primera Division', ' Serbia': 'SuperLiga', ' Ukraine': 'Premier Liga', ' Portugal': 'Liga NOS', 'First Division': 'Championship', ' Scotland': 'Premiership', ' Croatia': '1.HNL', 'HET Liga': '1.HNL', ' Mexico': 'Liga MX', 'Liga MX Apertura': 'Liga MX', 'Liga MX Clausura': 'Liga MX', ' Chile': 'Primera División', ' Bulgaria': 'A Grupa - Championship gr.', ' Korea, South': 'K League 1', 'Korean FA Cup': 'K League 1', ' Sweden': 'Allsvenskan', ' Latvia': 'Virsliga', 'J1 - 2nd Stage': 'J1 League', ' Denmark': 'Superligaen', 'Superligaen Championship round': 'Superligaen', ' Saudi Arabia': 'Professional League', 'Liga 1 - Championship group': 'Liga 1', 'Auf-/Abstiegsrunde NLA/NLB': 'Super League', 'Second Division (bis 03/04)': 'League One', ' United States': 'MLS', ' Tunisia': 'Ligue I Pro', 'Serie C - A': 'Serie C', 'Serie C - B': 'Serie C', ' Colombia': 'Liga Águila II', ' Russia': '1.Division', ' Qatar': 'Stars League', '2ª B - Grupo III': 'Esp otra ligas', '2ª B - Grupo I': 'Esp otra ligas', 'Serie A Segunda Etapa': 'Esp otra ligas', ' United Arab Emirates': 'UAE Gulf League', 'Rel. Ligue 1': 'Ligue 1', ' France': 'Championnat National', ' Uruguay': ' Uru Primera Division', 'Segunda División': 'Uru Primera Division', 'Segunda División - Segunda Fase': 'Esp otra ligas', ' Israel': \"Ligat ha'Al\", 'J2 League': 'J1 League', ' England': 'Championship', ' Romania': 'Liga 1', ' Belgium': 'Jupiler Pro League', 'Torneo Final': 'Arg Primera Division'}\n"
     ]
    }
   ],
   "source": [
    "# create dictionary old name: new name\n",
    "change_nom = {\n",
    "    league[5] : league[69],\n",
    "    league[6] : \"Arg Primera Division\",\n",
    "    league[106] : \"Arg Primera Division\",\n",
    "    league[12] : league[78],\n",
    "    league[75] : league[9],\n",
    "    league[37] : league[10],\n",
    "    league[36] : league[68],\n",
    "    league[15] : league[54],\n",
    "    league[18] : league[80],\n",
    "    league[57] : league[80],\n",
    "    league[20] : \"Liga MX\",\n",
    "    league[114] : \"Liga MX\",\n",
    "    league[83] : \"Liga MX\",\n",
    "    league[21] : league[93],\n",
    "    league[24] : league[113],\n",
    "    league[25] : league[56],\n",
    "    league[104] : league[56],\n",
    "    league[27] : league[77],\n",
    "    league[28] : league[62],\n",
    "    league[30] : league[71],\n",
    "    league[32] : league[70],\n",
    "    league[112] : league[70],\n",
    "    league[34] : league[100],\n",
    "    league[110] : league[84],\n",
    "    league[49] : league[19],\n",
    "    league[47] : league[85],\n",
    "    league[52] : league[58],\n",
    "    league[60] : league[102],\n",
    "    league[63] : \"Serie C\",\n",
    "    league[88] : \"Serie C\",\n",
    "    league[65] : league[98],\n",
    "    league[66] : league[108],\n",
    "    league[79] : league[101],\n",
    "    league[82] : \"Esp otra ligas\",\n",
    "    league[96] : \"Esp otra ligas\",\n",
    "    league[107] : \"Esp otra ligas\",\n",
    "    league[92] : league[105],\n",
    "    league[109] : league[3],\n",
    "    league[48] : league[103],\n",
    "    league[23]: \" Uru Primera Division\",\n",
    "    league[99]: \"Uru Primera Division\",\n",
    "    away_league[-3]: \"Esp otra ligas\",\n",
    "    \" Israel\": league[55],\n",
    "    league[91]: league[71],\n",
    "    league[14]: league[68],\n",
    "    league[39]: league[84],\n",
    "    \" Belgium\": league[33],\n",
    "    league[76]: \"Arg Primera Division\"\n",
    "}\n",
    "print(change_nom)"
   ]
  },
  {
   "cell_type": "code",
   "execution_count": 68,
   "metadata": {},
   "outputs": [],
   "source": [
    "# place change_nom keys into list\n",
    "nom_keys = list(change_nom.keys())\n",
    "# replace old values with new values tranfer[\"League_from\"]\n",
    "for nom in nom_keys:\n",
    "    transfer[\"League_from\"].loc[transfer[\"League_from\"] == nom] = change_nom[nom]\n"
   ]
  },
  {
   "cell_type": "code",
   "execution_count": 69,
   "metadata": {},
   "outputs": [
    {
     "data": {
      "text/html": [
       "<div>\n",
       "<style scoped>\n",
       "    .dataframe tbody tr th:only-of-type {\n",
       "        vertical-align: middle;\n",
       "    }\n",
       "\n",
       "    .dataframe tbody tr th {\n",
       "        vertical-align: top;\n",
       "    }\n",
       "\n",
       "    .dataframe thead th {\n",
       "        text-align: right;\n",
       "    }\n",
       "</style>\n",
       "<table border=\"1\" class=\"dataframe\">\n",
       "  <thead>\n",
       "    <tr style=\"text-align: right;\">\n",
       "      <th></th>\n",
       "      <th>Name</th>\n",
       "      <th>Position</th>\n",
       "      <th>Age</th>\n",
       "      <th>Team_from</th>\n",
       "      <th>League_from</th>\n",
       "      <th>Team_to</th>\n",
       "      <th>League_to</th>\n",
       "      <th>Season</th>\n",
       "      <th>Market_value</th>\n",
       "      <th>Transfer_fee</th>\n",
       "    </tr>\n",
       "  </thead>\n",
       "  <tbody>\n",
       "  </tbody>\n",
       "</table>\n",
       "</div>"
      ],
      "text/plain": [
       "Empty DataFrame\n",
       "Columns: [Name, Position, Age, Team_from, League_from, Team_to, League_to, Season, Market_value, Transfer_fee]\n",
       "Index: []"
      ]
     },
     "execution_count": 69,
     "metadata": {},
     "output_type": "execute_result"
    }
   ],
   "source": [
    "# verification\n",
    "transfer.loc[(transfer[\"League_from\"] == league[75]) | (transfer[\"League_from\"] == league[48])]"
   ]
  },
  {
   "cell_type": "code",
   "execution_count": 70,
   "metadata": {},
   "outputs": [
    {
     "name": "stderr",
     "output_type": "stream",
     "text": [
      "C:\\Users\\Admin\\anaconda3\\lib\\site-packages\\pandas\\core\\indexing.py:1732: SettingWithCopyWarning: \n",
      "A value is trying to be set on a copy of a slice from a DataFrame\n",
      "\n",
      "See the caveats in the documentation: https://pandas.pydata.org/pandas-docs/stable/user_guide/indexing.html#returning-a-view-versus-a-copy\n",
      "  self._setitem_single_block(indexer, value, name)\n"
     ]
    }
   ],
   "source": [
    "# replace old values with new values transfer[\"league_from\"]\n",
    "for nom in nom_keys:\n",
    "    transfer[\"League_to\"].loc[transfer[\"League_to\"] == nom] = change_nom[nom]"
   ]
  },
  {
   "cell_type": "code",
   "execution_count": 71,
   "metadata": {},
   "outputs": [
    {
     "name": "stdout",
     "output_type": "stream",
     "text": [
      "defaultdict(<class 'list'>, {'LaLiga': ['LaLiga', 'LaLiga', 'LaLiga', 'LaLiga', 'LaLiga', 'LaLiga', 'LaLiga', 'LaLiga', 'LaLiga', 'LaLiga', 'LaLiga', 'LaLiga', 'LaLiga', 'LaLiga', 'LaLiga', 'LaLiga', 'LaLiga', 'LaLiga', 'LaLiga', 'LaLiga', 'LaLiga', 'LaLiga', 'LaLiga', 'LaLiga', 'LaLiga', 'LaLiga', 'LaLiga', 'LaLiga', 'LaLiga', 'LaLiga', 'LaLiga', 'LaLiga', 'LaLiga', 'LaLiga', 'LaLiga', 'LaLiga', 'LaLiga', 'LaLiga', 'LaLiga', 'LaLiga', 'LaLiga', 'LaLiga', 'LaLiga', 'LaLiga', 'LaLiga', 'LaLiga', 'LaLiga', 'LaLiga', 'LaLiga', 'LaLiga', 'LaLiga', 'LaLiga', 'LaLiga', 'LaLiga', 'LaLiga', 'LaLiga', 'LaLiga', 'LaLiga', 'LaLiga', 'LaLiga', 'LaLiga', 'LaLiga', 'LaLiga', 'LaLiga', 'LaLiga', 'LaLiga', 'LaLiga', 'LaLiga', 'LaLiga', 'LaLiga', 'LaLiga', 'LaLiga', 'LaLiga', 'LaLiga', 'LaLiga', 'LaLiga', 'LaLiga', 'LaLiga', 'LaLiga', 'LaLiga', 'LaLiga', 'LaLiga', 'LaLiga', 'LaLiga', 'LaLiga', 'LaLiga', 'LaLiga', 'LaLiga', 'LaLiga', 'LaLiga', 'LaLiga', 'LaLiga', 'LaLiga', 'LaLiga', 'LaLiga', 'LaLiga', 'LaLiga', 'LaLiga', 'LaLiga', 'LaLiga', 'LaLiga', 'LaLiga', 'LaLiga', 'LaLiga', 'LaLiga', 'LaLiga', 'LaLiga', 'LaLiga', 'LaLiga', 'LaLiga', 'LaLiga', 'LaLiga', 'LaLiga', 'LaLiga', 'LaLiga', 'LaLiga', 'LaLiga', 'LaLiga', 'LaLiga', 'LaLiga', 'LaLiga', 'LaLiga', 'LaLiga', 'LaLiga', 'LaLiga', 'LaLiga', 'LaLiga', 'LaLiga', 'LaLiga', 'LaLiga', 'LaLiga', 'LaLiga', 'LaLiga', 'LaLiga', 'LaLiga', 'LaLiga', 'LaLiga', 'LaLiga', 'LaLiga', 'LaLiga', 'LaLiga', 'LaLiga', 'LaLiga', 'LaLiga', 'LaLiga', 'LaLiga', 'LaLiga', 'LaLiga', 'LaLiga', 'LaLiga', 'LaLiga', 'LaLiga', 'LaLiga', 'LaLiga', 'LaLiga', 'LaLiga', 'LaLiga', 'LaLiga', 'LaLiga', 'LaLiga', 'LaLiga', 'LaLiga', 'LaLiga', 'LaLiga', 'LaLiga', 'LaLiga', 'LaLiga', 'LaLiga', 'LaLiga', 'LaLiga', 'LaLiga', 'LaLiga', 'LaLiga', 'LaLiga', 'LaLiga', 'LaLiga', 'LaLiga', 'LaLiga', 'LaLiga', 'LaLiga', 'LaLiga', 'LaLiga', 'LaLiga', 'LaLiga', 'LaLiga', 'LaLiga', 'LaLiga', 'LaLiga', 'LaLiga', 'LaLiga', 'LaLiga', 'LaLiga', 'LaLiga', 'LaLiga', 'LaLiga', 'LaLiga', 'LaLiga', 'LaLiga', 'LaLiga', 'LaLiga', 'LaLiga', 'LaLiga', 'LaLiga', 'LaLiga', 'LaLiga', 'LaLiga', 'LaLiga', 'LaLiga', 'LaLiga', 'LaLiga', 'LaLiga', 'LaLiga', 'LaLiga', 'LaLiga', 'LaLiga', 'LaLiga', 'LaLiga', 'LaLiga', 'LaLiga', 'LaLiga', 'LaLiga', 'LaLiga', 'LaLiga', 'LaLiga', 'LaLiga', 'LaLiga', 'LaLiga', 'LaLiga', 'LaLiga', 'LaLiga', 'LaLiga', 'LaLiga', 'LaLiga', 'LaLiga', 'LaLiga', 'LaLiga', 'LaLiga', 'LaLiga', 'LaLiga', 'LaLiga', 'LaLiga', 'LaLiga', 'LaLiga', 'LaLiga', 'LaLiga', 'LaLiga', 'LaLiga', 'LaLiga', 'LaLiga', 'LaLiga', 'LaLiga', 'LaLiga', 'LaLiga', 'LaLiga', 'LaLiga', 'LaLiga', 'LaLiga', 'LaLiga', 'LaLiga', 'LaLiga', 'LaLiga', 'LaLiga', 'LaLiga', 'LaLiga', 'LaLiga', 'LaLiga', 'LaLiga', 'LaLiga', 'LaLiga', 'LaLiga', 'LaLiga', 'LaLiga', 'LaLiga', 'LaLiga', 'LaLiga', 'LaLiga', 'LaLiga', 'LaLiga', 'LaLiga', 'LaLiga', 'LaLiga', 'LaLiga', 'LaLiga', 'LaLiga', 'LaLiga', 'LaLiga', 'LaLiga', 'LaLiga', 'LaLiga', 'LaLiga', 'LaLiga', 'LaLiga', 'LaLiga', 'LaLiga', 'LaLiga', 'LaLiga', 'LaLiga', 'LaLiga', 'LaLiga', 'LaLiga', 'LaLiga', 'LaLiga', 'LaLiga', 'LaLiga', 'LaLiga', 'LaLiga', 'LaLiga', 'LaLiga', 'LaLiga', 'LaLiga', 'LaLiga', 'LaLiga', 'LaLiga', 'LaLiga', 'LaLiga', 'LaLiga', 'LaLiga', 'LaLiga', 'LaLiga', 'LaLiga', 'LaLiga', 'LaLiga', 'LaLiga', 'LaLiga', 'LaLiga', 'LaLiga', 'LaLiga', 'LaLiga', 'LaLiga', 'LaLiga', 'LaLiga', 'LaLiga', 'LaLiga', 'LaLiga', 'LaLiga', 'LaLiga', 'LaLiga', 'LaLiga', 'LaLiga', 'LaLiga', 'LaLiga', 'LaLiga', 'LaLiga', 'LaLiga', 'LaLiga', 'LaLiga', 'LaLiga', 'LaLiga', 'LaLiga', 'LaLiga', 'LaLiga', 'LaLiga', 'LaLiga', 'LaLiga', 'LaLiga', 'LaLiga', 'LaLiga', 'LaLiga', 'LaLiga', 'LaLiga', 'LaLiga', 'LaLiga', 'LaLiga', 'LaLiga', 'LaLiga', 'LaLiga', 'LaLiga', 'LaLiga', 'LaLiga', 'LaLiga', 'LaLiga', 'LaLiga', 'LaLiga', 'LaLiga', 'LaLiga', 'LaLiga', 'LaLiga', 'LaLiga', 'LaLiga', 'LaLiga', 'LaLiga', 'LaLiga', 'LaLiga', 'LaLiga', 'LaLiga', 'LaLiga', 'LaLiga', 'LaLiga', 'LaLiga', 'LaLiga', 'LaLiga', 'LaLiga', 'LaLiga', 'LaLiga', 'LaLiga', 'LaLiga', 'LaLiga', 'LaLiga', 'LaLiga', 'LaLiga', 'LaLiga', 'LaLiga', 'LaLiga', 'LaLiga', 'LaLiga', 'LaLiga', 'LaLiga', 'LaLiga', 'LaLiga', 'LaLiga', 'LaLiga', 'LaLiga', 'LaLiga', 'LaLiga', 'LaLiga', 'LaLiga', 'LaLiga', 'LaLiga', 'LaLiga', 'LaLiga', 'LaLiga', 'LaLiga', 'LaLiga', 'LaLiga', 'LaLiga', 'LaLiga', 'LaLiga', 'LaLiga', 'LaLiga', 'LaLiga', 'LaLiga', 'LaLiga', 'LaLiga', 'LaLiga', 'LaLiga', 'LaLiga', 'LaLiga', 'LaLiga', 'LaLiga', 'LaLiga', 'LaLiga', 'LaLiga', 'LaLiga', 'LaLiga', 'LaLiga', 'LaLiga', 'LaLiga', 'LaLiga', 'LaLiga', 'LaLiga', 'LaLiga', 'LaLiga', 'LaLiga', 'LaLiga', 'LaLiga', 'LaLiga', 'LaLiga', 'LaLiga', 'LaLiga', 'LaLiga', 'LaLiga', 'LaLiga', 'LaLiga', 'LaLiga', 'LaLiga', 'LaLiga', 'LaLiga', 'LaLiga', 'LaLiga', 'LaLiga', 'LaLiga', 'LaLiga', 'LaLiga', 'LaLiga', 'LaLiga', 'LaLiga', 'LaLiga', 'LaLiga', 'LaLiga', 'LaLiga', 'LaLiga', 'LaLiga', 'LaLiga', 'LaLiga', 'LaLiga', 'LaLiga', 'LaLiga', 'LaLiga', 'LaLiga', 'LaLiga', 'LaLiga', 'LaLiga', 'LaLiga', 'LaLiga', 'LaLiga', 'LaLiga', 'LaLiga', 'LaLiga', 'LaLiga', 'LaLiga', 'LaLiga', 'LaLiga', 'LaLiga', 'LaLiga', 'LaLiga', 'LaLiga', 'LaLiga', 'LaLiga', 'LaLiga', 'LaLiga', 'LaLiga', 'LaLiga', 'LaLiga', 'LaLiga', 'LaLiga', 'LaLiga', 'LaLiga', 'LaLiga', 'LaLiga', 'LaLiga', 'LaLiga', 'LaLiga', 'LaLiga', 'LaLiga', 'LaLiga'], 'Serie A': ['Serie A', 'Serie A', 'Serie A', 'Serie A', 'Serie A', 'Serie A', 'Serie A', 'Serie A', 'Serie A', 'Serie A', 'Serie A', 'Serie A', 'Serie A', 'Serie A', 'Serie A', 'Serie A', 'Serie A', 'Serie A', 'Serie A', 'Serie A', 'Serie A', 'Serie A', 'Serie A', 'Serie A', 'Serie A', 'Serie A', 'Serie A', 'Serie A', 'Serie A', 'Serie A', 'Serie A', 'Serie A', 'Serie A', 'Serie A', 'Serie A', 'Serie A', 'Serie A', 'Serie A', 'Serie A', 'Serie A', 'Serie A', 'Serie A', 'Serie A', 'Serie A', 'Serie A', 'Serie A', 'Serie A', 'Serie A', 'Serie A', 'Serie A', 'Serie A', 'Serie A', 'Serie A', 'Serie A', 'Serie A', 'Serie A', 'Serie A', 'Serie A', 'Serie A', 'Serie A', 'Serie A', 'Serie A', 'Serie A', 'Serie A', 'Serie A', 'Serie A', 'Serie A', 'Serie A', 'Serie A', 'Serie A', 'Serie A', 'Serie A', 'Serie A', 'Serie A', 'Serie A', 'Serie A', 'Serie A', 'Serie A', 'Serie A', 'Serie A', 'Serie A', 'Serie A', 'Serie A', 'Serie A', 'Serie A', 'Serie A', 'Serie A', 'Serie A', 'Serie A', 'Serie A', 'Serie A', 'Serie A', 'Serie A', 'Serie A', 'Serie A', 'Serie A', 'Serie A', 'Serie A', 'Serie A', 'Serie A', 'Serie A', 'Serie A', 'Serie A', 'Serie A', 'Serie A', 'Serie A', 'Serie A', 'Serie A', 'Serie A', 'Serie A', 'Serie A', 'Serie A', 'Serie A', 'Serie A', 'Serie A', 'Serie A', 'Serie A', 'Serie A', 'Serie A', 'Serie A', 'Serie A', 'Serie A', 'Serie A', 'Serie A', 'Serie A', 'Serie A', 'Serie A', 'Serie A', 'Serie A', 'Serie A', 'Serie A', 'Serie A', 'Serie A', 'Serie A', 'Serie A', 'Serie A', 'Serie A', 'Serie A', 'Serie A', 'Serie A', 'Serie A', 'Serie A', 'Serie A', 'Serie A', 'Serie A', 'Serie A', 'Serie A', 'Serie A', 'Serie A', 'Serie A', 'Serie A', 'Serie A', 'Serie A', 'Serie A', 'Serie A', 'Serie A', 'Serie A', 'Serie A', 'Serie A', 'Serie A', 'Serie A', 'Serie A', 'Serie A', 'Serie A', 'Serie A', 'Serie A', 'Serie A', 'Serie A', 'Serie A', 'Serie A', 'Serie A', 'Serie A', 'Serie A', 'Serie A', 'Serie A', 'Serie A', 'Serie A', 'Serie A', 'Serie A', 'Serie A', 'Serie A', 'Serie A', 'Serie A', 'Serie A', 'Serie A', 'Serie A', 'Serie A', 'Serie A', 'Serie A', 'Serie A', 'Serie A', 'Serie A', 'Serie A', 'Serie A', 'Serie A', 'Serie A', 'Serie A', 'Serie A', 'Serie A', 'Serie A', 'Serie A', 'Serie A', 'Serie A', 'Serie A', 'Serie A', 'Serie A', 'Serie A', 'Serie A', 'Serie A', 'Serie A', 'Serie A', 'Serie A', 'Serie A', 'Serie A', 'Serie A', 'Serie A', 'Serie A', 'Serie A', 'Serie A', 'Serie A', 'Serie A', 'Serie A', 'Serie A', 'Serie A', 'Serie A', 'Serie A', 'Serie A', 'Serie A', 'Serie A', 'Serie A', 'Serie A', 'Serie A', 'Serie A', 'Serie A', 'Serie A', 'Serie A', 'Serie A', 'Serie A', 'Serie A', 'Serie A', 'Serie A', 'Serie A', 'Serie A', 'Serie A', 'Serie A', 'Serie A', 'Serie A', 'Serie A', 'Serie A', 'Serie A', 'Serie A', 'Serie A', 'Serie A', 'Serie A', 'Serie A', 'Serie A', 'Serie A', 'Serie A', 'Serie A', 'Serie A', 'Serie A', 'Serie A', 'Serie A', 'Serie A', 'Serie A', 'Serie A', 'Serie A', 'Serie A', 'Serie A', 'Serie A', 'Serie A', 'Serie A', 'Serie A', 'Serie A', 'Serie A', 'Serie A', 'Serie A', 'Serie A', 'Serie A', 'Serie A', 'Serie A', 'Serie A', 'Serie A', 'Serie A', 'Serie A', 'Serie A', 'Serie A', 'Serie A', 'Serie A', 'Serie A', 'Serie A', 'Serie A', 'Serie A', 'Serie A', 'Serie A', 'Serie A', 'Serie A', 'Serie A', 'Serie A', 'Serie A', 'Serie A', 'Serie A', 'Serie A', 'Serie A', 'Serie A', 'Serie A', 'Serie A', 'Serie A', 'Serie A', 'Serie A', 'Serie A', 'Serie A', 'Serie A', 'Serie A', 'Serie A', 'Serie A', 'Serie A', 'Serie A', 'Serie A', 'Serie A', 'Serie A', 'Serie A', 'Serie A', 'Serie A', 'Serie A', 'Serie A', 'Serie A', 'Serie A', 'Serie A', 'Serie A', 'Serie A', 'Serie A', 'Serie A', 'Serie A', 'Serie A', 'Serie A', 'Serie A', 'Serie A', 'Serie A', 'Serie A', 'Serie A', 'Serie A', 'Serie A', 'Serie A', 'Serie A', 'Serie A', 'Serie A', 'Serie A', 'Serie A', 'Serie A', 'Serie A', 'Serie A', 'Serie A', 'Serie A', 'Serie A', 'Serie A', 'Serie A', 'Serie A', 'Serie A', 'Serie A', 'Serie A', 'Serie A', 'Serie A', 'Serie A', 'Serie A', 'Serie A', 'Serie A', 'Serie A', 'Serie A', 'Serie A', 'Serie A', 'Serie A', 'Serie A', 'Serie A', 'Serie A', 'Serie A', 'Serie A', 'Serie A', 'Serie A', 'Serie A', 'Serie A', 'Serie A', 'Serie A', 'Serie A', 'Serie A', 'Serie A', 'Serie A', 'Serie A', 'Serie A', 'Serie A', 'Serie A', 'Serie A', 'Serie A', 'Serie A', 'Serie A', 'Serie A', 'Serie A', 'Serie A', 'Serie A', 'Serie A', 'Serie A', 'Serie A', 'Serie A', 'Serie A', 'Serie A', 'Serie A', 'Serie A', 'Serie A', 'Serie A', 'Serie A', 'Serie A', 'Serie A', 'Serie A', 'Serie A', 'Serie A', 'Serie A', 'Serie A', 'Serie A', 'Serie A', 'Serie A', 'Serie A', 'Serie A', 'Serie A', 'Serie A', 'Serie A', 'Serie A', 'Serie A', 'Serie A', 'Serie A', 'Serie A', 'Serie A', 'Serie A', 'Serie A', 'Serie A', 'Serie A', 'Serie A', 'Serie A', 'Serie A', 'Serie A', 'Serie A', 'Serie A', 'Serie A', 'Serie A', 'Serie A', 'Serie A', 'Serie A', 'Serie A', 'Serie A', 'Serie A', 'Serie A', 'Serie A', 'Serie A', 'Serie A', 'Serie A', 'Serie A', 'Serie A', 'Serie A', 'Serie A', 'Serie A', 'Serie A', 'Serie A', 'Serie A', 'Serie A', 'Serie A', 'Serie A', 'Serie A', 'Serie A', 'Serie A', 'Serie A', 'Serie A', 'Serie A', 'Serie A', 'Serie A', 'Serie A', 'Serie A', 'Serie A', 'Serie A', 'Serie A', 'Serie A', 'Serie A', 'Serie A', 'Serie A', 'Serie A', 'Serie A', 'Serie A', 'Serie A', 'Serie A', 'Serie A', 'Serie A', 'Serie A', 'Serie A', 'Serie A', 'Serie A', 'Serie A', 'Serie A', 'Serie A', 'Serie A', 'Serie A', 'Serie A', 'Serie A', 'Serie A', 'Serie A', 'Serie A', 'Serie A', 'Serie A', 'Serie A', 'Serie A', 'Serie A', 'Serie A', 'Serie A', 'Serie A', 'Serie A', 'Serie A', 'Serie A', 'Serie A', 'Serie A', 'Serie A', 'Serie A', 'Serie A', 'Serie A', 'Serie A', 'Serie A', 'Serie A', 'Serie A', 'Serie A', 'Serie A', 'Serie A', 'Serie A', 'Serie A', 'Serie A', 'Serie A', 'Serie A', 'Serie A', 'Serie A', 'Serie A', 'Serie A', 'Serie A', 'Serie A', 'Serie A', 'Serie A', 'Serie A', 'Serie A', 'Serie A', 'Serie A', 'Serie A', 'Serie A', 'Serie A', 'Serie A', 'Serie A', 'Serie A', 'Serie A', 'Serie A', 'Serie A', 'Serie A', 'Serie A', 'Serie A', 'Serie A', 'Serie A', 'Serie A', 'Serie A', 'Serie A', 'Serie A', 'Serie A', 'Serie A', 'Serie A', 'Serie A', 'Serie A', 'Serie A', 'Serie A', 'Serie A', 'Serie A', 'Serie A', 'Serie A', 'Serie A', 'Serie A', 'Serie A', 'Serie A', 'Serie A', 'Serie A', 'Serie A', 'Serie A', 'Serie A', 'Serie A', 'Serie A', 'Serie A', 'Serie A', 'Serie A', 'Serie A', 'Serie A', 'Serie A', 'Serie A', 'Serie A', 'Serie A', 'Serie A', 'Serie A', 'Serie A', 'Serie A', 'Serie A', 'Serie A', 'Serie A', 'Serie A', 'Serie A', 'Serie A', 'Serie A', 'Serie A', 'Serie A', 'Serie A', 'Serie A', 'Serie A', 'Serie A', 'Serie A', 'Serie A', 'Serie A', 'Serie A', 'Serie A', 'Serie A', 'Serie A', 'Serie A', 'Serie A', 'Serie A', 'Serie A', 'Serie A', 'Serie A', 'Serie A', 'Serie A', 'Serie A', 'Serie A', 'Serie A', 'Serie A', 'Serie A', 'Serie A', 'Serie A', 'Serie A', 'Serie A', 'Serie A', 'Serie A', 'Serie A', 'Serie A', 'Serie A', 'Serie A', 'Serie A', 'Serie A', 'Serie A', 'Serie A', 'Serie A', 'Serie A', 'Serie A', 'Serie A', 'Serie A', 'Serie A', 'Serie A', 'Serie A', 'Serie A', 'Serie A', 'Serie A', 'Serie A', 'Serie A', 'Serie A', 'Serie A', 'Serie A', 'Serie A', 'Serie A', 'Serie A', 'Serie A', 'Serie A', 'Serie A', 'Serie A', 'Serie A', 'Serie A', 'Serie A', 'Serie A', 'Serie A', 'Serie A', 'Serie A', 'Serie A', 'Serie A', 'Serie A', 'Serie A', 'Serie A', 'Serie A', 'Serie A', 'Serie A', 'Serie A', 'Serie A', 'Serie A', 'Serie A', 'Serie A', 'Serie A', 'Serie A', 'Serie A', 'Serie A', 'Serie A', 'Serie A', 'Serie A', 'Serie A', 'Serie A', 'Serie A', 'Serie A', 'Serie A', 'Serie A', 'Serie A', 'Serie A', 'Serie A', 'Serie A', 'Serie A', 'Serie A', 'Serie A', 'Serie A', 'Serie A', 'Serie A', 'Serie A', 'Serie A', 'Serie A', 'Serie A', 'Serie A', 'Serie A', 'Serie A', 'Serie A', 'Serie A', 'Serie A', 'Serie A', 'Serie A', 'Serie A', 'Serie A', 'Serie A', 'Serie A', 'Serie A', 'Serie A', 'Serie A', 'Serie A', 'Serie A', 'Serie A', 'Serie A', 'Serie A', 'Serie A', 'Serie A', 'Serie A', 'Serie A', 'Serie A'], 'Ligue 1': ['Ligue 1', 'Ligue 1', 'Ligue 1', 'Ligue 1', 'Ligue 1', 'Ligue 1', 'Ligue 1', 'Ligue 1', 'Ligue 1', 'Ligue 1', 'Ligue 1', 'Ligue 1', 'Ligue 1', 'Ligue 1', 'Ligue 1', 'Ligue 1', 'Ligue 1', 'Ligue 1', 'Ligue 1', 'Ligue 1', 'Ligue 1', 'Ligue 1', 'Ligue 1', 'Ligue 1', 'Ligue 1', 'Ligue 1', 'Ligue 1', 'Ligue 1', 'Ligue 1', 'Ligue 1', 'Ligue 1', 'Ligue 1', 'Ligue 1', 'Ligue 1', 'Ligue 1', 'Ligue 1', 'Ligue 1', 'Ligue 1', 'Ligue 1', 'Ligue 1', 'Ligue 1', 'Ligue 1', 'Ligue 1', 'Ligue 1', 'Ligue 1', 'Ligue 1', 'Ligue 1', 'Ligue 1', 'Ligue 1', 'Ligue 1', 'Ligue 1', 'Ligue 1', 'Ligue 1', 'Ligue 1', 'Ligue 1', 'Ligue 1', 'Ligue 1', 'Ligue 1', 'Ligue 1', 'Ligue 1', 'Ligue 1', 'Ligue 1', 'Ligue 1', 'Ligue 1', 'Ligue 1', 'Ligue 1', 'Ligue 1', 'Ligue 1', 'Ligue 1', 'Ligue 1', 'Ligue 1', 'Ligue 1', 'Ligue 1', 'Ligue 1', 'Ligue 1', 'Ligue 1', 'Ligue 1', 'Ligue 1', 'Ligue 1', 'Ligue 1', 'Ligue 1', 'Ligue 1', 'Ligue 1', 'Ligue 1', 'Ligue 1', 'Ligue 1', 'Ligue 1', 'Ligue 1', 'Ligue 1', 'Ligue 1', 'Ligue 1', 'Ligue 1', 'Ligue 1', 'Ligue 1', 'Ligue 1', 'Ligue 1', 'Ligue 1', 'Ligue 1', 'Ligue 1', 'Ligue 1', 'Ligue 1', 'Ligue 1', 'Ligue 1', 'Ligue 1', 'Ligue 1', 'Ligue 1', 'Ligue 1', 'Ligue 1', 'Ligue 1', 'Ligue 1', 'Ligue 1', 'Ligue 1', 'Ligue 1', 'Ligue 1', 'Ligue 1', 'Ligue 1', 'Ligue 1', 'Ligue 1', 'Ligue 1', 'Ligue 1', 'Ligue 1', 'Ligue 1', 'Ligue 1', 'Ligue 1', 'Ligue 1', 'Ligue 1', 'Ligue 1', 'Ligue 1', 'Ligue 1', 'Ligue 1', 'Ligue 1', 'Ligue 1', 'Ligue 1', 'Ligue 1', 'Ligue 1', 'Ligue 1', 'Ligue 1', 'Ligue 1', 'Ligue 1', 'Ligue 1', 'Ligue 1', 'Ligue 1', 'Ligue 1', 'Ligue 1', 'Ligue 1', 'Ligue 1', 'Ligue 1', 'Ligue 1', 'Ligue 1', 'Ligue 1', 'Ligue 1', 'Ligue 1', 'Ligue 1', 'Ligue 1', 'Ligue 1', 'Ligue 1', 'Ligue 1', 'Ligue 1', 'Ligue 1', 'Ligue 1', 'Ligue 1', 'Ligue 1', 'Ligue 1', 'Ligue 1', 'Ligue 1', 'Ligue 1', 'Ligue 1', 'Ligue 1', 'Ligue 1', 'Ligue 1', 'Ligue 1', 'Ligue 1', 'Ligue 1', 'Ligue 1', 'Ligue 1', 'Ligue 1', 'Ligue 1', 'Ligue 1', 'Ligue 1', 'Ligue 1', 'Ligue 1', 'Ligue 1', 'Ligue 1', 'Ligue 1', 'Ligue 1', 'Ligue 1', 'Ligue 1', 'Ligue 1', 'Ligue 1', 'Ligue 1', 'Ligue 1', 'Ligue 1', 'Ligue 1', 'Ligue 1', 'Ligue 1', 'Ligue 1', 'Ligue 1', 'Ligue 1', 'Ligue 1', 'Ligue 1', 'Ligue 1', 'Ligue 1', 'Ligue 1', 'Ligue 1', 'Ligue 1', 'Ligue 1', 'Ligue 1', 'Ligue 1', 'Ligue 1', 'Ligue 1', 'Ligue 1', 'Ligue 1', 'Ligue 1', 'Ligue 1', 'Ligue 1', 'Ligue 1', 'Ligue 1', 'Ligue 1', 'Ligue 1', 'Ligue 1', 'Ligue 1', 'Ligue 1', 'Ligue 1', 'Ligue 1', 'Ligue 1', 'Ligue 1', 'Ligue 1', 'Ligue 1', 'Ligue 1', 'Ligue 1', 'Ligue 1', 'Ligue 1', 'Ligue 1', 'Ligue 1', 'Ligue 1', 'Ligue 1', 'Ligue 1', 'Ligue 1', 'Ligue 1', 'Ligue 1', 'Ligue 1', 'Ligue 1', 'Ligue 1', 'Ligue 1', 'Ligue 1', 'Ligue 1', 'Ligue 1', 'Ligue 1', 'Ligue 1', 'Ligue 1', 'Ligue 1', 'Ligue 1', 'Ligue 1', 'Ligue 1', 'Ligue 1', 'Ligue 1', 'Ligue 1', 'Ligue 1', 'Ligue 1', 'Ligue 1', 'Ligue 1', 'Ligue 1', 'Ligue 1', 'Ligue 1', 'Ligue 1', 'Ligue 1', 'Ligue 1', 'Ligue 1', 'Ligue 1', 'Ligue 1', 'Ligue 1', 'Ligue 1', 'Ligue 1', 'Ligue 1', 'Ligue 1', 'Ligue 1', 'Ligue 1', 'Ligue 1', 'Ligue 1', 'Ligue 1', 'Ligue 1', 'Ligue 1', 'Ligue 1', 'Ligue 1', 'Ligue 1', 'Ligue 1', 'Ligue 1', 'Ligue 1', 'Ligue 1', 'Ligue 1', 'Ligue 1', 'Ligue 1', 'Ligue 1', 'Ligue 1', 'Ligue 1', 'Ligue 1', 'Ligue 1', 'Ligue 1', 'Ligue 1', 'Ligue 1', 'Ligue 1', 'Ligue 1', 'Ligue 1', 'Ligue 1', 'Ligue 1', 'Ligue 1', 'Ligue 1', 'Ligue 1', 'Ligue 1', 'Ligue 1', 'Ligue 1', 'Ligue 1', 'Ligue 1', 'Ligue 1', 'Ligue 1', 'Ligue 1', 'Ligue 1', 'Ligue 1', 'Ligue 1', 'Ligue 1', 'Ligue 1', 'Ligue 1', 'Ligue 1', 'Ligue 1', 'Ligue 1', 'Ligue 1', 'Ligue 1', 'Ligue 1', 'Ligue 1', 'Ligue 1', 'Ligue 1', 'Ligue 1', 'Ligue 1', 'Ligue 1', 'Ligue 1', 'Ligue 1', 'Ligue 1', 'Ligue 1', 'Ligue 1', 'Ligue 1', 'Ligue 1', 'Ligue 1', 'Ligue 1', 'Ligue 1', 'Ligue 1', 'Ligue 1', 'Ligue 1', 'Ligue 1', 'Ligue 1', 'Ligue 1', 'Ligue 1', 'Ligue 1', 'Ligue 1', 'Ligue 1', 'Ligue 1', 'Ligue 1', 'Ligue 1', 'Ligue 1', 'Ligue 1', 'Ligue 1', 'Ligue 1', 'Ligue 1', 'Ligue 1', 'Ligue 1', 'Ligue 1', 'Ligue 1', 'Ligue 1', 'Ligue 1', 'Ligue 1', 'Ligue 1', 'Ligue 1', 'Ligue 1', 'Ligue 1', 'Ligue 1', 'Ligue 1', 'Ligue 1', 'Ligue 1', 'Ligue 1', 'Ligue 1', 'Ligue 1', 'Ligue 1', 'Ligue 1', 'Ligue 1', 'Ligue 1', 'Ligue 1', 'Ligue 1', 'Ligue 1', 'Ligue 1', 'Ligue 1', 'Ligue 1', 'Ligue 1', 'Ligue 1', 'Ligue 1', 'Ligue 1', 'Ligue 1', 'Ligue 1', 'Ligue 1'], 'Premier League': ['Premier League', 'Premier League', 'Premier League', 'Premier League', 'Premier League', 'Premier League', 'Premier League', 'Premier League', 'Premier League', 'Premier League', 'Premier League', 'Premier League', 'Premier League', 'Premier League', 'Premier League', 'Premier League', 'Premier League', 'Premier League', 'Premier League', 'Premier League', 'Premier League', 'Premier League', 'Premier League', 'Premier League', 'Premier League', 'Premier League', 'Premier League', 'Premier League', 'Premier League', 'Premier League', 'Premier League', 'Premier League', 'Premier League', 'Premier League', 'Premier League', 'Premier League', 'Premier League', 'Premier League', 'Premier League', 'Premier League', 'Premier League', 'Premier League', 'Premier League', 'Premier League', 'Premier League', 'Premier League', 'Premier League', 'Premier League', 'Premier League', 'Premier League', 'Premier League', 'Premier League', 'Premier League', 'Premier League', 'Premier League', 'Premier League', 'Premier League', 'Premier League', 'Premier League', 'Premier League', 'Premier League', 'Premier League', 'Premier League', 'Premier League', 'Premier League', 'Premier League', 'Premier League', 'Premier League', 'Premier League', 'Premier League', 'Premier League', 'Premier League', 'Premier League', 'Premier League', 'Premier League', 'Premier League', 'Premier League', 'Premier League', 'Premier League', 'Premier League', 'Premier League', 'Premier League', 'Premier League', 'Premier League', 'Premier League', 'Premier League', 'Premier League', 'Premier League', 'Premier League', 'Premier League', 'Premier League', 'Premier League', 'Premier League', 'Premier League', 'Premier League', 'Premier League', 'Premier League', 'Premier League', 'Premier League', 'Premier League', 'Premier League', 'Premier League', 'Premier League', 'Premier League', 'Premier League', 'Premier League', 'Premier League', 'Premier League', 'Premier League', 'Premier League', 'Premier League', 'Premier League', 'Premier League', 'Premier League', 'Premier League', 'Premier League', 'Premier League', 'Premier League', 'Premier League', 'Premier League', 'Premier League', 'Premier League', 'Premier League', 'Premier League', 'Premier League', 'Premier League', 'Premier League', 'Premier League', 'Premier League', 'Premier League', 'Premier League', 'Premier League', 'Premier League', 'Premier League', 'Premier League', 'Premier League', 'Premier League', 'Premier League', 'Premier League', 'Premier League', 'Premier League', 'Premier League', 'Premier League', 'Premier League', 'Premier League', 'Premier League', 'Premier League', 'Premier League', 'Premier League', 'Premier League', 'Premier League', 'Premier League', 'Premier League', 'Premier League', 'Premier League', 'Premier League', 'Premier League', 'Premier League', 'Premier League', 'Premier League', 'Premier League', 'Premier League', 'Premier League', 'Premier League', 'Premier League', 'Premier League', 'Premier League', 'Premier League', 'Premier League', 'Premier League', 'Premier League', 'Premier League', 'Premier League', 'Premier League', 'Premier League', 'Premier League', 'Premier League', 'Premier League', 'Premier League', 'Premier League', 'Premier League', 'Premier League', 'Premier League', 'Premier League', 'Premier League', 'Premier League', 'Premier League', 'Premier League', 'Premier League', 'Premier League', 'Premier League', 'Premier League', 'Premier League', 'Premier League', 'Premier League', 'Premier League', 'Premier League', 'Premier League', 'Premier League', 'Premier League', 'Premier League', 'Premier League', 'Premier League', 'Premier League', 'Premier League', 'Premier League', 'Premier League', 'Premier League', 'Premier League', 'Premier League', 'Premier League', 'Premier League', 'Premier League', 'Premier League', 'Premier League', 'Premier League', 'Premier League', 'Premier League', 'Premier League', 'Premier League', 'Premier League', 'Premier League', 'Premier League', 'Premier League', 'Premier League', 'Premier League', 'Premier League', 'Premier League', 'Premier League', 'Premier League', 'Premier League', 'Premier League', 'Premier League', 'Premier League', 'Premier League', 'Premier League', 'Premier League', 'Premier League', 'Premier League', 'Premier League', 'Premier League', 'Premier League', 'Premier League', 'Premier League', 'Premier League', 'Premier League', 'Premier League', 'Premier League', 'Premier League', 'Premier League', 'Premier League', 'Premier League', 'Premier League', 'Premier League', 'Premier League', 'Premier League', 'Premier League', 'Premier League', 'Premier League', 'Premier League', 'Premier League', 'Premier League', 'Premier League', 'Premier League', 'Premier League', 'Premier League', 'Premier League', 'Premier League', 'Premier League', 'Premier League', 'Premier League', 'Premier League', 'Premier League', 'Premier League', 'Premier League', 'Premier League', 'Premier League', 'Premier League', 'Premier League', 'Premier League', 'Premier League', 'Premier League', 'Premier League', 'Premier League', 'Premier League', 'Premier League', 'Premier League', 'Premier League', 'Premier League', 'Premier League', 'Premier League', 'Premier League', 'Premier League', 'Premier League', 'Premier League', 'Premier League', 'Premier League', 'Premier League', 'Premier League', 'Premier League', 'Premier League', 'Premier League', 'Premier League', 'Premier League', 'Premier League', 'Premier League', 'Premier League', 'Premier League', 'Premier League', 'Premier League', 'Premier League', 'Premier League', 'Premier League', 'Premier League', 'Premier League', 'Premier League', 'Premier League', 'Premier League', 'Premier League', 'Premier League', 'Premier League', 'Premier League', 'Premier League', 'Premier League', 'Premier League', 'Premier League', 'Premier League', 'Premier League', 'Premier League', 'Premier League', 'Premier League', 'Premier League', 'Premier League', 'Premier League', 'Premier League', 'Premier League', 'Premier League', 'Premier League', 'Premier League', 'Premier League', 'Premier League', 'Premier League', 'Premier League', 'Premier League', 'Premier League', 'Premier League', 'Premier League', 'Premier League', 'Premier League', 'Premier League', 'Premier League', 'Premier League', 'Premier League', 'Premier League', 'Premier League', 'Premier League', 'Premier League', 'Premier League', 'Premier League', 'Premier League', 'Premier League', 'Premier League', 'Premier League', 'Premier League', 'Premier League', 'Premier League', 'Premier League', 'Premier League', 'Premier League', 'Premier League', 'Premier League', 'Premier League', 'Premier League', 'Premier League', 'Premier League', 'Premier League', 'Premier League', 'Premier League', 'Premier League', 'Premier League', 'Premier League', 'Premier League', 'Premier League', 'Premier League', 'Premier League', 'Premier League', 'Premier League', 'Premier League', 'Premier League', 'Premier League', 'Premier League', 'Premier League', 'Premier League', 'Premier League', 'Premier League', 'Premier League', 'Premier League', 'Premier League', 'Premier League', 'Premier League', 'Premier League', 'Premier League', 'Premier League', 'Premier League', 'Premier League', 'Premier League', 'Premier League', 'Premier League', 'Premier League', 'Premier League', 'Premier League', 'Premier League', 'Premier League', 'Premier League', 'Premier League', 'Premier League', 'Premier League', 'Premier League', 'Premier League', 'Premier League', 'Premier League', 'Premier League', 'Premier League', 'Premier League', 'Premier League', 'Premier League', 'Premier League', 'Premier League', 'Premier League', 'Premier League', 'Premier League', 'Premier League', 'Premier League', 'Premier League', 'Premier League', 'Premier League', 'Premier League', 'Premier League', 'Premier League', 'Premier League', 'Premier League', 'Premier League', 'Premier League', 'Premier League', 'Premier League', 'Premier League', 'Premier League', 'Premier League', 'Premier League', 'Premier League', 'Premier League', 'Premier League', 'Premier League', 'Premier League', 'Premier League', 'Premier League', 'Premier League', 'Premier League', 'Premier League', 'Premier League', 'Premier League', 'Premier League', 'Premier League', 'Premier League', 'Premier League', 'Premier League', 'Premier League', 'Premier League', 'Premier League', 'Premier League', 'Premier League', 'Premier League', 'Premier League', 'Premier League', 'Premier League', 'Premier League', 'Premier League', 'Premier League', 'Premier League', 'Premier League', 'Premier League', 'Premier League', 'Premier League', 'Premier League', 'Premier League', 'Premier League', 'Premier League', 'Premier League', 'Premier League', 'Premier League', 'Premier League', 'Premier League', 'Premier League', 'Premier League', 'Premier League', 'Premier League', 'Premier League', 'Premier League', 'Premier League', 'Premier League', 'Premier League', 'Premier League', 'Premier League', 'Premier League', 'Premier League', 'Premier League', 'Premier League', 'Premier League', 'Premier League', 'Premier League', 'Premier League', 'Premier League', 'Premier League', 'Premier League', 'Premier League', 'Premier League', 'Premier League', 'Premier League', 'Premier League', 'Premier League', 'Premier League', 'Premier League', 'Premier League', 'Premier League', 'Premier League', 'Premier League', 'Premier League', 'Premier League', 'Premier League', 'Premier League', 'Premier League', 'Premier League', 'Premier League', 'Premier League', 'Premier League', 'Premier League', 'Premier League', 'Premier League', 'Premier League', 'Premier League', 'Premier League', 'Premier League', 'Premier League', 'Premier League', 'Premier League', 'Premier League', 'Premier League', 'Premier League', 'Premier League', 'Premier League', 'Premier League', 'Premier League', 'Premier League', 'Premier League', 'Premier League', 'Premier League', 'Premier League', 'Premier League', 'Premier League', 'Premier League', 'Premier League', 'Premier League', 'Premier League', 'Premier League', 'Premier League', 'Premier League', 'Premier League', 'Premier League', 'Premier League', 'Premier League', 'Premier League', 'Premier League', 'Premier League', 'Premier League', 'Premier League', 'Premier League', 'Premier League', 'Premier League', 'Premier League', 'Premier League', 'Premier League', 'Premier League', 'Premier League', 'Premier League', 'Premier League', 'Premier League', 'Premier League', 'Premier League', 'Premier League', 'Premier League', 'Premier League', 'Premier League', 'Premier League', 'Premier League', 'Premier League', 'Premier League', 'Premier League', 'Premier League', 'Premier League', 'Premier League', 'Premier League', 'Premier League', 'Premier League', 'Premier League', 'Premier League', 'Premier League', 'Premier League', 'Premier League', 'Premier League', 'Premier League', 'Premier League', 'Premier League', 'Premier League', 'Premier League', 'Premier League', 'Premier League', 'Premier League', 'Premier League', 'Premier League', 'Premier League', 'Premier League', 'Premier League', 'Premier League', 'Premier League', 'Premier League', 'Premier League', 'Premier League', 'Premier League', 'Premier League', 'Premier League', 'Premier League', 'Premier League', 'Premier League', 'Premier League', 'Premier League', 'Premier League', 'Premier League', 'Premier League', 'Premier League', 'Premier League', 'Premier League', 'Premier League', 'Premier League', 'Premier League', 'Premier League', 'Premier League', 'Premier League', 'Premier League', 'Premier League', 'Premier League', 'Premier League', 'Premier League', 'Premier League', 'Premier League', 'Premier League', 'Premier League', 'Premier League', 'Premier League', 'Premier League', 'Premier League', 'Premier League', 'Premier League', 'Premier League', 'Premier League', 'Premier League', 'Premier League', 'Premier League', 'Premier League', 'Premier League', 'Premier League', 'Premier League', 'Premier League', 'Premier League', 'Premier League', 'Premier League', 'Premier League', 'Premier League', 'Premier League', 'Premier League', 'Premier League', 'Premier League', 'Premier League', 'Premier League', 'Premier League', 'Premier League', 'Premier League', 'Premier League', 'Premier League', 'Premier League', 'Premier League', 'Premier League', 'Premier League', 'Premier League', 'Premier League', 'Premier League', 'Premier League', 'Premier League', 'Premier League', 'Premier League', 'Premier League', 'Premier League', 'Premier League', 'Premier League', 'Premier League', 'Premier League', 'Premier League', 'Premier League', 'Premier League', 'Premier League', 'Premier League', 'Premier League', 'Premier League', 'Premier League', 'Premier League', 'Premier League', 'Premier League', 'Premier League', 'Premier League', 'Premier League', 'Premier League', 'Premier League', 'Premier League', 'Premier League', 'Premier League', 'Premier League', 'Premier League', 'Premier League', 'Premier League', 'Premier League', 'Premier League', 'Premier League', 'Premier League', 'Premier League', 'Premier League', 'Premier League', 'Premier League', 'Premier League', 'Premier League', 'Premier League', 'Premier League', 'Premier League', 'Premier League', 'Premier League', 'Premier League', 'Premier League', 'Premier League', 'Premier League', 'Premier League', 'Premier League', 'Premier League', 'Premier League', 'Premier League', 'Premier League', 'Premier League', 'Premier League', 'Premier League', 'Premier League', 'Premier League', 'Premier League', 'Premier League', 'Premier League', 'Premier League', 'Premier League', 'Premier League', 'Premier League', 'Premier League', 'Premier League', 'Premier League', 'Premier League', 'Premier League', 'Premier League', 'Premier League', 'Premier League', 'Premier League', 'Premier League', 'Premier League', 'Premier League', 'Premier League', 'Premier League', 'Premier League', 'Premier League', 'Premier League', 'Premier League', 'Premier League', 'Premier League', 'Premier League', 'Premier League', 'Premier League', 'Premier League', 'Premier League', 'Premier League', 'Premier League', 'Premier League', 'Premier League', 'Premier League', 'Premier League', 'Premier League', 'Premier League', 'Premier League', 'Premier League', 'Premier League', 'Premier League', 'Premier League', 'Premier League', 'Premier League', 'Premier League', 'Premier League', 'Premier League', 'Premier League', 'Premier League', 'Premier League', 'Premier League', 'Premier League', 'Premier League', 'Premier League', 'Premier League', 'Premier League', 'Premier League', 'Premier League', 'Premier League', 'Premier League', 'Premier League', 'Premier League', 'Premier League', 'Premier League', 'Premier League', 'Premier League', 'Premier League', 'Premier League', 'Premier League', 'Premier League', 'Premier League', 'Premier League', 'Premier League', 'Premier League', 'Premier League', 'Premier League', 'Premier League', 'Premier League', 'Premier League', 'Premier League', 'Premier League', 'Premier League', 'Premier League', 'Premier League', 'Premier League', 'Premier League', 'Premier League', 'Premier League', 'Premier League', 'Premier League', 'Premier League', 'Premier League', 'Premier League', 'Premier League', 'Premier League', 'Premier League', 'Premier League', 'Premier League', 'Premier League', 'Premier League', 'Premier League', 'Premier League', 'Premier League', 'Premier League', 'Premier League', 'Premier League', 'Premier League', 'Premier League', 'Premier League', 'Premier League', 'Premier League', 'Premier League', 'Premier League', 'Premier League', 'Premier League', 'Premier League', 'Premier League', 'Premier League', 'Premier League', 'Premier League', 'Premier League', 'Premier League', 'Premier League', 'Premier League', 'Premier League', 'Premier League', 'Premier League', 'Premier League', 'Premier League', 'Premier League', 'Premier League', 'Premier League', 'Premier League', 'Premier League', 'Premier League', 'Premier League', 'Premier League', 'Premier League', 'Premier League', 'Premier League', 'Premier League', 'Premier League', 'Premier League', 'Premier League', 'Premier League', 'Premier League', 'Premier League', 'Premier League', 'Premier League', 'Premier League', 'Premier League', 'Premier League', 'Premier League', 'Premier League', 'Premier League', 'Premier League', 'Premier League', 'Premier League', 'Premier League', 'Premier League', 'Premier League', 'Premier League', 'Premier League', 'Premier League', 'Premier League', 'Premier League', 'Premier League', 'Premier League', 'Premier League', 'Premier League', 'Premier League', 'Premier League', 'Premier League', 'Premier League', 'Premier League', 'Premier League', 'Premier League', 'Premier League', 'Premier League', 'Premier League', 'Premier League', 'Premier League', 'Premier League', 'Premier League', 'Premier League', 'Premier League', 'Premier League', 'Premier League', 'Premier League', 'Premier League', 'Premier League', 'Premier League', 'Premier League', 'Premier League', 'Premier League', 'Premier League', 'Premier League', 'Premier League', 'Premier League', 'Premier League', 'Premier League', 'Premier League', 'Premier League', 'Premier League', 'Premier League', 'Premier League', 'Premier League', 'Premier League', 'Premier League', 'Premier League', 'Premier League', 'Premier League', 'Premier League', 'Premier League', 'Premier League', 'Premier League', 'Premier League', 'Premier League', 'Premier League', 'Premier League', 'Premier League', 'Premier League', 'Premier League', 'Premier League', 'Premier League', 'Premier League', 'Premier League', 'Premier League', 'Premier League', 'Premier League', 'Premier League', 'Premier League', 'Premier League', 'Premier League', 'Premier League', 'Premier League', 'Premier League', 'Premier League', 'Premier League', 'Premier League', 'Premier League', 'Premier League', 'Premier League', 'Premier League', 'Premier League', 'Premier League', 'Premier League', 'Premier League', 'Premier League', 'Premier League', 'Premier League', 'Premier League', 'Premier League', 'Premier League', 'Premier League', 'Premier League', 'Premier League', 'Premier League', 'Premier League', 'Premier League', 'Premier League', 'Premier League', 'Premier League', 'Premier League', 'Premier League', 'Premier League', 'Premier League', 'Premier League', 'Premier League', 'Premier League', 'Premier League', 'Premier League', 'Premier League', 'Premier League', 'Premier League', 'Premier League', 'Premier League', 'Premier League', 'Premier League', 'Premier League', 'Premier League', 'Premier League', 'Premier League', 'Premier League', 'Premier League', 'Premier League', 'Premier League', 'Premier League', 'Premier League', 'Premier League', 'Premier League', 'Premier League', 'Premier League', 'Premier League', 'Premier League', 'Premier League', 'Premier League', 'Premier League', 'Premier League', 'Premier League', 'Premier League', 'Premier League', 'Premier League', 'Premier League', 'Premier League', 'Premier League', 'Premier League', 'Premier League', 'Premier League', 'Premier League', 'Premier League', 'Premier League', 'Premier League', 'Premier League', 'Premier League', 'Premier League', 'Premier League', 'Premier League', 'Premier League', 'Premier League', 'Premier League', 'Premier League', 'Premier League', 'Premier League', 'Premier League', 'Premier League', 'Premier League', 'Premier League', 'Premier League', 'Premier League', 'Premier League', 'Premier League', 'Premier League', 'Premier League', 'Premier League', 'Premier League', 'Premier League', 'Premier League', 'Premier League', 'Premier League', 'Premier League', 'Premier League', 'Premier League', 'Premier League', 'Premier League', 'Premier League', 'Premier League', 'Premier League', 'Premier League', 'Premier League', 'Premier League', 'Premier League', 'Premier League', 'Premier League', 'Premier League', 'Premier League', 'Premier League', 'Premier League', 'Premier League', 'Premier League', 'Premier League', 'Premier League', 'Premier League', 'Premier League', 'Premier League', 'Premier League', 'Premier League', 'Premier League', 'Premier League', 'Premier League', 'Premier League', 'Premier League', 'Premier League', 'Premier League', 'Premier League', 'Premier League', 'Premier League', 'Premier League', 'Premier League', 'Premier League', 'Premier League', 'Premier League', 'Premier League', 'Premier League', 'Premier League', 'Premier League', 'Premier League', 'Premier League', 'Premier League', 'Premier League', 'Premier League', 'Premier League', 'Premier League', 'Premier League', 'Premier League', 'Premier League', 'Premier League', 'Premier League', 'Premier League', 'Premier League', 'Premier League', 'Premier League', 'Premier League', 'Premier League', 'Premier League', 'Premier League', 'Premier League', 'Premier League', 'Premier League', 'Premier League', 'Premier League', 'Premier League', 'Premier League', 'Premier League', 'Premier League', 'Premier League', 'Premier League', 'Premier League', 'Premier League', 'Premier League', 'Premier League', 'Premier League', 'Premier League', 'Premier League', 'Premier League', 'Premier League', 'Premier League', 'Premier League', 'Premier League', 'Premier League', 'Premier League', 'Premier League', 'Premier League', 'Premier League', 'Premier League', 'Premier League', 'Premier League', 'Premier League', 'Premier League', 'Premier League', 'Premier League', 'Premier League', 'Premier League', 'Premier League', 'Premier League', 'Premier League', 'Premier League', 'Premier League', 'Premier League', 'Premier League', 'Premier League', 'Premier League', 'Premier League', 'Premier League', 'Premier League', 'Premier League', 'Premier League', 'Premier League', 'Premier League', 'Premier League', 'Premier League', 'Premier League', 'Premier League', 'Premier League', 'Premier League', 'Premier League', 'Premier League', 'Premier League', 'Premier League', 'Premier League', 'Premier League', 'Premier League', 'Premier League', 'Premier League', 'Premier League', 'Premier League', 'Premier League', 'Premier League', 'Premier League', 'Premier League', 'Premier League', 'Premier League', 'Premier League', 'Premier League', 'Premier League', 'Premier League', 'Premier League', 'Premier League', 'Premier League', 'Premier League', 'Premier League', 'Premier League', 'Premier League', 'Premier League', 'Premier League'], 'Premiership': ['Premiership', 'Premiership', 'Premiership', 'Premiership', 'Premiership', 'Premiership', 'Premiership', 'Premiership', 'Premiership', 'Premiership', 'Premiership', 'Premiership', 'Premiership', 'Premiership', 'Premiership', 'Premiership', 'Premiership', 'Premiership', 'Premiership', 'Premiership', 'Premiership', 'Premiership', 'Premiership', 'Premiership', 'Premiership', 'Premiership', 'Premiership', 'Premiership', 'Premiership', 'Premiership', 'Premiership', 'Premiership', 'Premiership', 'Premiership', 'Premiership', 'Premiership', 'Premiership', 'Premiership', 'Premiership', 'Premiership'], 'Süper Lig': ['Süper Lig', 'Süper Lig', 'Süper Lig', 'Süper Lig', 'Süper Lig', 'Süper Lig', 'Süper Lig', 'Süper Lig', 'Süper Lig', 'Süper Lig', 'Süper Lig', 'Süper Lig', 'Süper Lig', 'Süper Lig', 'Süper Lig', 'Süper Lig', 'Süper Lig', 'Süper Lig', 'Süper Lig', 'Süper Lig', 'Süper Lig', 'Süper Lig', 'Süper Lig', 'Süper Lig', 'Süper Lig', 'Süper Lig', 'Süper Lig', 'Süper Lig', 'Süper Lig', 'Süper Lig', 'Süper Lig', 'Süper Lig', 'Süper Lig', 'Süper Lig', 'Süper Lig', 'Süper Lig', 'Süper Lig', 'Süper Lig', 'Süper Lig', 'Süper Lig', 'Süper Lig', 'Süper Lig', 'Süper Lig', 'Süper Lig', 'Süper Lig', 'Süper Lig', 'Süper Lig', 'Süper Lig', 'Süper Lig', 'Süper Lig', 'Süper Lig', 'Süper Lig', 'Süper Lig', 'Süper Lig', 'Süper Lig', 'Süper Lig', 'Süper Lig', 'Süper Lig', 'Süper Lig', 'Süper Lig', 'Süper Lig', 'Süper Lig', 'Süper Lig', 'Süper Lig', 'Süper Lig', 'Süper Lig', 'Süper Lig', 'Süper Lig', 'Süper Lig', 'Süper Lig', 'Süper Lig', 'Süper Lig', 'Süper Lig', 'Süper Lig', 'Süper Lig', 'Süper Lig', 'Süper Lig', 'Süper Lig', 'Süper Lig', 'Süper Lig', 'Süper Lig', 'Süper Lig', 'Süper Lig', 'Süper Lig', 'Süper Lig', 'Süper Lig', 'Süper Lig', 'Süper Lig', 'Süper Lig', 'Süper Lig', 'Süper Lig', 'Süper Lig', 'Süper Lig', 'Süper Lig', 'Süper Lig', 'Süper Lig', 'Süper Lig', 'Süper Lig', 'Süper Lig', 'Süper Lig', 'Süper Lig', 'Süper Lig', 'Süper Lig', 'Süper Lig', 'Süper Lig', 'Süper Lig', 'Süper Lig', 'Süper Lig', 'Süper Lig', 'Süper Lig', 'Süper Lig', 'Süper Lig', 'Süper Lig', 'Süper Lig', 'Süper Lig', 'Süper Lig', 'Süper Lig', 'Süper Lig', 'Süper Lig', 'Süper Lig', 'Süper Lig', 'Süper Lig', 'Süper Lig', 'Süper Lig', 'Süper Lig', 'Süper Lig', 'Süper Lig', 'Süper Lig', 'Süper Lig', 'Süper Lig', 'Süper Lig', 'Süper Lig', 'Süper Lig', 'Süper Lig', 'Süper Lig', 'Süper Lig', 'Süper Lig', 'Süper Lig', 'Süper Lig', 'Süper Lig', 'Süper Lig', 'Süper Lig', 'Süper Lig'], '1.Bundesliga': ['1.Bundesliga', '1.Bundesliga', '1.Bundesliga', '1.Bundesliga', '1.Bundesliga', '1.Bundesliga', '1.Bundesliga', '1.Bundesliga', '1.Bundesliga', '1.Bundesliga', '1.Bundesliga', '1.Bundesliga', '1.Bundesliga', '1.Bundesliga', '1.Bundesliga', '1.Bundesliga', '1.Bundesliga', '1.Bundesliga', '1.Bundesliga', '1.Bundesliga', '1.Bundesliga', '1.Bundesliga', '1.Bundesliga', '1.Bundesliga', '1.Bundesliga', '1.Bundesliga', '1.Bundesliga', '1.Bundesliga', '1.Bundesliga', '1.Bundesliga', '1.Bundesliga', '1.Bundesliga', '1.Bundesliga', '1.Bundesliga', '1.Bundesliga', '1.Bundesliga', '1.Bundesliga', '1.Bundesliga', '1.Bundesliga', '1.Bundesliga', '1.Bundesliga', '1.Bundesliga', '1.Bundesliga', '1.Bundesliga', '1.Bundesliga', '1.Bundesliga', '1.Bundesliga', '1.Bundesliga', '1.Bundesliga', '1.Bundesliga', '1.Bundesliga', '1.Bundesliga', '1.Bundesliga', '1.Bundesliga', '1.Bundesliga', '1.Bundesliga', '1.Bundesliga', '1.Bundesliga', '1.Bundesliga', '1.Bundesliga', '1.Bundesliga', '1.Bundesliga', '1.Bundesliga', '1.Bundesliga', '1.Bundesliga', '1.Bundesliga', '1.Bundesliga', '1.Bundesliga', '1.Bundesliga', '1.Bundesliga', '1.Bundesliga', '1.Bundesliga', '1.Bundesliga', '1.Bundesliga', '1.Bundesliga', '1.Bundesliga', '1.Bundesliga', '1.Bundesliga', '1.Bundesliga', '1.Bundesliga', '1.Bundesliga', '1.Bundesliga', '1.Bundesliga', '1.Bundesliga', '1.Bundesliga', '1.Bundesliga', '1.Bundesliga', '1.Bundesliga', '1.Bundesliga', '1.Bundesliga', '1.Bundesliga', '1.Bundesliga', '1.Bundesliga', '1.Bundesliga', '1.Bundesliga', '1.Bundesliga', '1.Bundesliga', '1.Bundesliga', '1.Bundesliga', '1.Bundesliga', '1.Bundesliga', '1.Bundesliga', '1.Bundesliga', '1.Bundesliga', '1.Bundesliga', '1.Bundesliga', '1.Bundesliga', '1.Bundesliga', '1.Bundesliga', '1.Bundesliga', '1.Bundesliga', '1.Bundesliga', '1.Bundesliga', '1.Bundesliga', '1.Bundesliga', '1.Bundesliga', '1.Bundesliga', '1.Bundesliga', '1.Bundesliga', '1.Bundesliga', '1.Bundesliga', '1.Bundesliga', '1.Bundesliga', '1.Bundesliga', '1.Bundesliga', '1.Bundesliga', '1.Bundesliga', '1.Bundesliga', '1.Bundesliga', '1.Bundesliga', '1.Bundesliga', '1.Bundesliga', '1.Bundesliga', '1.Bundesliga', '1.Bundesliga', '1.Bundesliga', '1.Bundesliga', '1.Bundesliga', '1.Bundesliga', '1.Bundesliga', '1.Bundesliga', '1.Bundesliga', '1.Bundesliga', '1.Bundesliga', '1.Bundesliga', '1.Bundesliga', '1.Bundesliga', '1.Bundesliga', '1.Bundesliga', '1.Bundesliga', '1.Bundesliga', '1.Bundesliga', '1.Bundesliga', '1.Bundesliga', '1.Bundesliga', '1.Bundesliga', '1.Bundesliga', '1.Bundesliga', '1.Bundesliga', '1.Bundesliga', '1.Bundesliga', '1.Bundesliga', '1.Bundesliga', '1.Bundesliga', '1.Bundesliga', '1.Bundesliga', '1.Bundesliga', '1.Bundesliga', '1.Bundesliga', '1.Bundesliga', '1.Bundesliga', '1.Bundesliga', '1.Bundesliga', '1.Bundesliga', '1.Bundesliga', '1.Bundesliga', '1.Bundesliga', '1.Bundesliga', '1.Bundesliga', '1.Bundesliga', '1.Bundesliga', '1.Bundesliga', '1.Bundesliga', '1.Bundesliga', '1.Bundesliga', '1.Bundesliga', '1.Bundesliga', '1.Bundesliga', '1.Bundesliga', '1.Bundesliga', '1.Bundesliga', '1.Bundesliga', '1.Bundesliga', '1.Bundesliga', '1.Bundesliga', '1.Bundesliga', '1.Bundesliga', '1.Bundesliga', '1.Bundesliga', '1.Bundesliga', '1.Bundesliga', '1.Bundesliga', '1.Bundesliga', '1.Bundesliga', '1.Bundesliga', '1.Bundesliga', '1.Bundesliga', '1.Bundesliga', '1.Bundesliga', '1.Bundesliga', '1.Bundesliga', '1.Bundesliga', '1.Bundesliga', '1.Bundesliga', '1.Bundesliga', '1.Bundesliga', '1.Bundesliga', '1.Bundesliga', '1.Bundesliga', '1.Bundesliga', '1.Bundesliga', '1.Bundesliga', '1.Bundesliga', '1.Bundesliga', '1.Bundesliga', '1.Bundesliga', '1.Bundesliga', '1.Bundesliga', '1.Bundesliga', '1.Bundesliga', '1.Bundesliga', '1.Bundesliga', '1.Bundesliga', '1.Bundesliga', '1.Bundesliga', '1.Bundesliga', '1.Bundesliga', '1.Bundesliga', '1.Bundesliga', '1.Bundesliga', '1.Bundesliga', '1.Bundesliga', '1.Bundesliga', '1.Bundesliga', '1.Bundesliga', '1.Bundesliga', '1.Bundesliga', '1.Bundesliga', '1.Bundesliga', '1.Bundesliga', '1.Bundesliga', '1.Bundesliga', '1.Bundesliga', '1.Bundesliga', '1.Bundesliga', '1.Bundesliga', '1.Bundesliga', '1.Bundesliga', '1.Bundesliga', '1.Bundesliga', '1.Bundesliga', '1.Bundesliga', '1.Bundesliga', '1.Bundesliga', '1.Bundesliga', '1.Bundesliga', '1.Bundesliga', '1.Bundesliga', '1.Bundesliga', '1.Bundesliga', '1.Bundesliga', '1.Bundesliga', '1.Bundesliga', '1.Bundesliga', '1.Bundesliga', '1.Bundesliga', '1.Bundesliga', '1.Bundesliga', '1.Bundesliga', '1.Bundesliga', '1.Bundesliga', '1.Bundesliga', '1.Bundesliga', '1.Bundesliga', '1.Bundesliga', '1.Bundesliga', '1.Bundesliga', '1.Bundesliga', '1.Bundesliga', '1.Bundesliga', '1.Bundesliga', '1.Bundesliga', '1.Bundesliga', '1.Bundesliga', '1.Bundesliga', '1.Bundesliga', '1.Bundesliga', '1.Bundesliga', '1.Bundesliga', '1.Bundesliga', '1.Bundesliga', '1.Bundesliga', '1.Bundesliga', '1.Bundesliga', '1.Bundesliga', '1.Bundesliga', '1.Bundesliga', '1.Bundesliga', '1.Bundesliga', '1.Bundesliga', '1.Bundesliga', '1.Bundesliga', '1.Bundesliga', '1.Bundesliga', '1.Bundesliga', '1.Bundesliga', '1.Bundesliga', '1.Bundesliga', '1.Bundesliga', '1.Bundesliga', '1.Bundesliga', '1.Bundesliga', '1.Bundesliga', '1.Bundesliga', '1.Bundesliga', '1.Bundesliga', '1.Bundesliga', '1.Bundesliga', '1.Bundesliga', '1.Bundesliga', '1.Bundesliga', '1.Bundesliga', '1.Bundesliga', '1.Bundesliga', '1.Bundesliga', '1.Bundesliga', '1.Bundesliga', '1.Bundesliga', '1.Bundesliga', '1.Bundesliga', '1.Bundesliga', '1.Bundesliga', '1.Bundesliga', '1.Bundesliga', '1.Bundesliga', '1.Bundesliga', '1.Bundesliga', '1.Bundesliga', '1.Bundesliga', '1.Bundesliga', '1.Bundesliga', '1.Bundesliga', '1.Bundesliga', '1.Bundesliga', '1.Bundesliga', '1.Bundesliga', '1.Bundesliga', '1.Bundesliga', '1.Bundesliga', '1.Bundesliga', '1.Bundesliga', '1.Bundesliga', '1.Bundesliga', '1.Bundesliga', '1.Bundesliga', '1.Bundesliga', '1.Bundesliga', '1.Bundesliga', '1.Bundesliga', '1.Bundesliga', '1.Bundesliga', '1.Bundesliga', '1.Bundesliga', '1.Bundesliga', '1.Bundesliga', '1.Bundesliga', '1.Bundesliga', '1.Bundesliga', '1.Bundesliga', '1.Bundesliga', '1.Bundesliga', '1.Bundesliga', '1.Bundesliga', '1.Bundesliga', '1.Bundesliga', '1.Bundesliga', '1.Bundesliga', '1.Bundesliga', '1.Bundesliga', '1.Bundesliga', '1.Bundesliga', '1.Bundesliga', '1.Bundesliga', '1.Bundesliga', '1.Bundesliga', '1.Bundesliga', '1.Bundesliga', '1.Bundesliga', '1.Bundesliga', '1.Bundesliga', '1.Bundesliga', '1.Bundesliga', '1.Bundesliga', '1.Bundesliga', '1.Bundesliga', '1.Bundesliga', '1.Bundesliga', '1.Bundesliga', '1.Bundesliga', '1.Bundesliga', '1.Bundesliga', '1.Bundesliga', '1.Bundesliga', '1.Bundesliga', '1.Bundesliga', '1.Bundesliga', '1.Bundesliga', '1.Bundesliga', '1.Bundesliga', '1.Bundesliga', '1.Bundesliga', '1.Bundesliga'], 'Eredivisie': ['Eredivisie', 'Eredivisie', 'Eredivisie', 'Eredivisie', 'Eredivisie', 'Eredivisie', 'Eredivisie', 'Eredivisie', 'Eredivisie', 'Eredivisie', 'Eredivisie', 'Eredivisie', 'Eredivisie', 'Eredivisie', 'Eredivisie', 'Eredivisie', 'Eredivisie', 'Eredivisie', 'Eredivisie', 'Eredivisie', 'Eredivisie', 'Eredivisie', 'Eredivisie', 'Eredivisie', 'Eredivisie', 'Eredivisie', 'Eredivisie', 'Eredivisie', 'Eredivisie', 'Eredivisie', 'Eredivisie', 'Eredivisie', 'Eredivisie', 'Eredivisie', 'Eredivisie', 'Eredivisie', 'Eredivisie', 'Eredivisie', 'Eredivisie', 'Eredivisie', 'Eredivisie', 'Eredivisie', 'Eredivisie', 'Eredivisie', 'Eredivisie', 'Eredivisie', 'Eredivisie', 'Eredivisie', 'Eredivisie', 'Eredivisie', 'Eredivisie', 'Eredivisie', 'Eredivisie', 'Eredivisie', 'Eredivisie', 'Eredivisie', 'Eredivisie', 'Eredivisie', 'Eredivisie', 'Eredivisie', 'Eredivisie', 'Eredivisie', 'Eredivisie', 'Eredivisie', 'Eredivisie', 'Eredivisie', 'Eredivisie', 'Eredivisie', 'Eredivisie', 'Eredivisie', 'Eredivisie', 'Eredivisie', 'Eredivisie', 'Eredivisie', 'Eredivisie', 'Eredivisie', 'Eredivisie', 'Eredivisie', 'Eredivisie', 'Eredivisie', 'Eredivisie', 'Eredivisie', 'Eredivisie', 'Eredivisie', 'Eredivisie', 'Eredivisie', 'Eredivisie', 'Eredivisie', 'Eredivisie', 'Eredivisie', 'Eredivisie', 'Eredivisie', 'Eredivisie', 'Eredivisie', 'Eredivisie', 'Eredivisie', 'Eredivisie', 'Eredivisie', 'Eredivisie', 'Eredivisie', 'Eredivisie', 'Eredivisie', 'Eredivisie', 'Eredivisie', 'Eredivisie', 'Eredivisie', 'Eredivisie', 'Eredivisie'], 'Liga NOS': ['Liga NOS', 'Liga NOS', 'Liga NOS', 'Liga NOS', 'Liga NOS', 'Liga NOS', 'Liga NOS', 'Liga NOS', 'Liga NOS', 'Liga NOS', 'Liga NOS', 'Liga NOS', 'Liga NOS', 'Liga NOS', 'Liga NOS', 'Liga NOS', 'Liga NOS', 'Liga NOS', 'Liga NOS', 'Liga NOS', 'Liga NOS', 'Liga NOS', 'Liga NOS', 'Liga NOS', 'Liga NOS', 'Liga NOS', 'Liga NOS', 'Liga NOS', 'Liga NOS', 'Liga NOS', 'Liga NOS', 'Liga NOS', 'Liga NOS', 'Liga NOS', 'Liga NOS', 'Liga NOS', 'Liga NOS', 'Liga NOS', 'Liga NOS', 'Liga NOS', 'Liga NOS', 'Liga NOS', 'Liga NOS', 'Liga NOS', 'Liga NOS', 'Liga NOS', 'Liga NOS', 'Liga NOS', 'Liga NOS', 'Liga NOS', 'Liga NOS', 'Liga NOS', 'Liga NOS', 'Liga NOS', 'Liga NOS', 'Liga NOS', 'Liga NOS', 'Liga NOS', 'Liga NOS', 'Liga NOS', 'Liga NOS', 'Liga NOS', 'Liga NOS', 'Liga NOS', 'Liga NOS', 'Liga NOS', 'Liga NOS', 'Liga NOS', 'Liga NOS', 'Liga NOS', 'Liga NOS', 'Liga NOS', 'Liga NOS', 'Liga NOS', 'Liga NOS', 'Liga NOS', 'Liga NOS', 'Liga NOS', 'Liga NOS', 'Liga NOS', 'Liga NOS', 'Liga NOS', 'Liga NOS', 'Liga NOS', 'Liga NOS', 'Liga NOS', 'Liga NOS', 'Liga NOS', 'Liga NOS', 'Liga NOS', 'Liga NOS', 'Liga NOS', 'Liga NOS', 'Liga NOS', 'Liga NOS', 'Liga NOS', 'Liga NOS', 'Liga NOS', 'Liga NOS', 'Liga NOS', 'Liga NOS', 'Liga NOS', 'Liga NOS', 'Liga NOS', 'Liga NOS', 'Liga NOS', 'Liga NOS', 'Liga NOS', 'Liga NOS', 'Liga NOS', 'Liga NOS', 'Liga NOS', 'Liga NOS', 'Liga NOS', 'Liga NOS', 'Liga NOS', 'Liga NOS', 'Liga NOS', 'Liga NOS', 'Liga NOS', 'Liga NOS', 'Liga NOS', 'Liga NOS', 'Liga NOS', 'Liga NOS', 'Liga NOS', 'Liga NOS', 'Liga NOS', 'Liga NOS', 'Liga NOS', 'Liga NOS', 'Liga NOS', 'Liga NOS', 'Liga NOS'], 'Série A': ['Série A', 'Série A', 'Série A', 'Série A', 'Série A', 'Série A', 'Série A', 'Série A', 'Série A', 'Série A', 'Série A', 'Série A', 'Série A', 'Série A', 'Série A', 'Série A', 'Série A', 'Série A', 'Série A', 'Série A', 'Série A', 'Série A', 'Série A', 'Série A', 'Série A', 'Série A', 'Série A', 'Série A', 'Série A', 'Série A', 'Série A', 'Série A', 'Série A', 'Série A', 'Série A', 'Série A', 'Série A', 'Série A', 'Série A', 'Série A', 'Série A', 'Série A', 'Série A', 'Série A', 'Série A', 'Série A', 'Série A', 'Série A', 'Série A', 'Série A', 'Série A', 'Série A', 'Série A', 'Série A', 'Série A', 'Série A', 'Série A'], 'Championship': ['Championship', 'Championship', 'Championship', 'Championship', 'Championship', 'Championship', 'Championship', 'Championship', 'Championship', 'Championship', 'Championship', 'Championship', 'Championship', 'Championship', 'Championship', 'Championship', 'Championship', 'Championship', 'Championship', 'Championship', 'Championship', 'Championship', 'Championship', 'Championship', 'Championship', 'Championship', 'Championship', 'Championship', 'Championship', 'Championship', 'Championship', 'Championship', 'Championship', 'Championship', 'Championship', 'Championship', 'Championship', 'Championship', 'Championship', 'Championship', 'Championship', 'Championship', 'Championship', 'Championship', 'Championship', 'Championship', 'Championship', 'Championship', 'Championship', 'Championship', 'Championship', 'Championship', 'Championship', 'Championship', 'Championship', 'Championship', 'Championship', 'Championship', 'Championship', 'Championship', 'Championship', 'Championship', 'Championship', 'Championship', 'Championship', 'Championship', 'Championship', 'Championship', 'Championship', 'Championship', 'Championship', 'Championship', 'Championship', 'Championship', 'Championship', 'Championship', 'Championship', 'Championship', 'Championship', 'Championship', 'Championship', 'Championship', 'Championship', 'Championship', 'Championship', 'Championship', 'Championship', 'Championship', 'Championship', 'Championship', 'Championship', 'Championship', 'Championship', 'Championship', 'Championship', 'Championship', 'Championship', 'Championship', 'Championship', 'Championship', 'Championship', 'Championship', 'Championship', 'Championship', 'Championship', 'Championship', 'Championship', 'Championship', 'Championship', 'Championship', 'Championship', 'Championship', 'Championship', 'Championship', 'Championship', 'Championship', 'Championship', 'Championship', 'Championship'], 'Super League': ['Super League', 'Super League', 'Super League', 'Super League', 'Super League', 'Super League', 'Super League', 'Super League', 'Super League', 'Super League', 'Super League', 'Super League', 'Super League', 'Super League', 'Super League', 'Super League', 'Super League', 'Super League', 'Super League', 'Super League', 'Super League', 'Super League', 'Super League', 'Super League', 'Super League', 'Super League', 'Super League', 'Super League', 'Super League', 'Super League', 'Super League', 'Super League', 'Super League', 'Super League', 'Super League', 'Super League', 'Super League', 'Super League', 'Super League', 'Super League', 'Super League', 'Super League', 'Super League', 'Super League', 'Super League', 'Super League', 'Super League', 'Super League', 'Super League', 'Super League', 'Super League', 'Super League', 'Super League', 'Super League', 'Super League', 'Super League', 'Super League', 'Super League', 'Super League', 'Super League', 'Super League', 'Super League', 'Super League', 'Super League', 'Super League', 'Super League', 'Super League', 'Super League', 'Super League', 'Super League', 'Super League', 'Super League', 'Super League', 'Super League', 'Super League', 'Super League', 'Super League', 'Super League', 'Super League', 'Super League', 'Super League', 'Super League', 'Super League', 'Super League', 'Super League', 'Super League', 'Super League', 'Super League', 'Super League', 'Super League', 'Super League', 'Super League', 'Super League', 'Super League', 'Super League', 'Super League', 'Super League', 'Super League', 'Super League', 'Super League', 'Super League', 'Super League', 'Super League', 'Super League', 'Super League', 'Super League', 'Super League', 'Super League', 'Super League', 'Super League', 'Super League', 'Super League', 'Super League', 'Super League', 'Super League', 'Super League', 'Super League', 'Super League', 'Super League', 'Super League', 'Super League', 'Super League'], 'Bundesliga': ['Bundesliga', 'Bundesliga', 'Bundesliga', 'Bundesliga', 'Bundesliga', 'Bundesliga', 'Bundesliga', 'Bundesliga'], 'Jupiler Pro League': ['Jupiler Pro League', 'Jupiler Pro League', 'Jupiler Pro League', 'Jupiler Pro League', 'Jupiler Pro League', 'Jupiler Pro League', 'Jupiler Pro League', 'Jupiler Pro League', 'Jupiler Pro League', 'Jupiler Pro League', 'Jupiler Pro League', 'Jupiler Pro League', 'Jupiler Pro League', 'Jupiler Pro League', 'Jupiler Pro League', 'Jupiler Pro League', 'Jupiler Pro League', 'Jupiler Pro League', 'Jupiler Pro League', 'Jupiler Pro League', 'Jupiler Pro League', 'Jupiler Pro League', 'Jupiler Pro League', 'Jupiler Pro League', 'Jupiler Pro League', 'Jupiler Pro League', 'Jupiler Pro League', 'Jupiler Pro League'], 'Serie B': ['Serie B', 'Serie B', 'Serie B', 'Serie B', 'Serie B', 'Serie B', 'Serie B', 'Serie B', 'Serie B', 'Serie B', 'Serie B', 'Serie B', 'Serie B', 'Serie B', 'Serie B', 'Serie B', 'Serie B', 'Serie B', 'Serie B', 'Serie B', 'Serie B', 'Serie B', 'Serie B', 'Serie B', 'Serie B', 'Serie B'], 'Premier Liga': ['Premier Liga', 'Premier Liga', 'Premier Liga', 'Premier Liga', 'Premier Liga', 'Premier Liga', 'Premier Liga', 'Premier Liga', 'Premier Liga', 'Premier Liga', 'Premier Liga', 'Premier Liga', 'Premier Liga', 'Premier Liga', 'Premier Liga', 'Premier Liga', 'Premier Liga', 'Premier Liga', 'Premier Liga', 'Premier Liga', 'Premier Liga', 'Premier Liga', 'Premier Liga', 'Premier Liga', 'Premier Liga', 'Premier Liga', 'Premier Liga', 'Premier Liga', 'Premier Liga', 'Premier Liga', 'Premier Liga', 'Premier Liga', 'Premier Liga', 'Premier Liga', 'Premier Liga', 'Premier Liga', 'Premier Liga', 'Premier Liga', 'Premier Liga', 'Premier Liga', 'Premier Liga', 'Premier Liga', 'Premier Liga', 'Premier Liga', 'Premier Liga', 'Premier Liga', 'Premier Liga', 'Premier Liga', 'Premier Liga', 'Premier Liga', 'Premier Liga', 'Premier Liga', 'Premier Liga', 'Premier Liga', 'Premier Liga', 'Premier Liga', 'Premier Liga', 'Premier Liga', 'Premier Liga', 'Premier Liga', 'Premier Liga', 'Premier Liga', 'Premier Liga', 'Premier Liga', 'Premier Liga', 'Premier Liga', 'Premier Liga', 'Premier Liga', 'Premier Liga', 'Premier Liga', 'Premier Liga', 'Premier Liga', 'Premier Liga', 'Premier Liga', 'Premier Liga', 'Premier Liga', 'Premier Liga', 'Premier Liga', 'Premier Liga', 'Premier Liga', 'Premier Liga', 'Premier Liga', 'Premier Liga', 'Premier Liga', 'Premier Liga', 'Premier Liga', 'Premier Liga', 'Premier Liga', 'Premier Liga', 'Premier Liga', 'Premier Liga', 'Premier Liga', 'Premier Liga', 'Premier Liga', 'Premier Liga', 'Premier Liga', 'Premier Liga', 'Premier Liga', 'Premier Liga', 'Premier Liga', 'Premier Liga', 'Premier Liga', 'Premier Liga', 'Premier Liga', 'Premier Liga', 'Premier Liga', 'Premier Liga', 'Premier Liga', 'Premier Liga', 'Premier Liga', 'Premier Liga', 'Premier Liga', 'Premier Liga', 'Premier Liga', 'Premier Liga', 'Premier Liga', 'Premier Liga', 'Premier Liga', 'Premier Liga', 'Premier Liga', 'Premier Liga', 'Premier Liga', 'Premier Liga', 'Premier Liga', 'Premier Liga', 'Premier Liga', 'Premier Liga', 'Premier Liga', 'Premier Liga', 'Premier Liga', 'Premier Liga', 'Premier Liga', 'Premier Liga', 'Premier Liga', 'Premier Liga', 'Premier Liga', 'Premier Liga', 'Premier Liga', 'Premier Liga', 'Premier Liga', 'Premier Liga', 'Premier Liga', 'Premier Liga', 'Premier Liga', 'Premier Liga', 'Premier Liga', 'Premier Liga', 'Premier Liga', 'Premier Liga', 'Premier Liga', 'Premier Liga', 'Premier Liga', 'Premier Liga', 'Premier Liga', 'Premier Liga', 'Premier Liga', 'Premier Liga', 'Premier Liga', 'Premier Liga', 'Premier Liga', 'Premier Liga', 'Premier Liga', 'Premier Liga', 'Premier Liga', 'Premier Liga', 'Premier Liga', 'Premier Liga', 'Premier Liga', 'Premier Liga', 'Premier Liga', 'Premier Liga', 'Premier Liga', 'Premier Liga', 'Premier Liga', 'Premier Liga', 'Premier Liga', 'Premier Liga', 'Premier Liga', 'Premier Liga', 'Premier Liga', 'Premier Liga', 'Premier Liga', 'Premier Liga', 'Premier Liga', 'Premier Liga', 'Premier Liga', 'Premier Liga', 'Premier Liga', 'Premier Liga', 'Premier Liga', 'Premier Liga', 'Premier Liga', 'Premier Liga', 'Premier Liga', 'Premier Liga', 'Premier Liga', 'Premier Liga', 'Premier Liga', 'Premier Liga', 'Premier Liga', 'Premier Liga', 'Premier Liga', 'Premier Liga', 'Premier Liga', 'Premier Liga', 'Premier Liga', 'Premier Liga', 'Premier Liga', 'Premier Liga', 'Premier Liga', 'Premier Liga', 'Premier Liga', 'Premier Liga', 'Premier Liga', 'Premier Liga', 'Premier Liga', 'Premier Liga', 'Premier Liga', 'Premier Liga', 'Premier Liga', 'Premier Liga', 'Premier Liga', 'Premier Liga', 'Premier Liga', 'Premier Liga', 'Premier Liga', 'Premier Liga', 'Premier Liga', 'Premier Liga', 'Premier Liga', 'Premier Liga', 'Premier Liga', 'Premier Liga', 'Premier Liga', 'Premier Liga', 'Premier Liga', 'Premier Liga', 'Premier Liga', 'Premier Liga', 'Premier Liga', 'Premier Liga', 'Premier Liga', 'Premier Liga', 'Premier Liga', 'Premier Liga', 'Premier Liga', 'Premier Liga', 'Premier Liga', 'Premier Liga', 'Premier Liga', 'Premier Liga', 'Premier Liga', 'Premier Liga', 'Premier Liga', 'Premier Liga', 'Premier Liga', 'Premier Liga', 'Premier Liga', 'Premier Liga', 'Premier Liga', 'Premier Liga', 'Premier Liga', 'Premier Liga', 'Premier Liga', 'Premier Liga', 'Premier Liga', 'Premier Liga', 'Premier Liga', 'Premier Liga', 'Premier Liga', 'Premier Liga', 'Premier Liga', 'Premier Liga', 'Premier Liga', 'Premier Liga', 'Premier Liga', 'Premier Liga', 'Premier Liga', 'Premier Liga', 'Premier Liga', 'Premier Liga', 'Premier Liga', 'Premier Liga', 'Premier Liga', 'Premier Liga', 'Premier Liga', 'Premier Liga', 'Premier Liga', 'Premier Liga', 'Premier Liga', 'Premier Liga', 'Premier Liga', 'Premier Liga', 'Premier Liga', 'Premier Liga', 'Premier Liga', 'Premier Liga', 'Premier Liga', 'Premier Liga', 'Premier Liga', 'Premier Liga', 'Premier Liga', 'Premier Liga', 'Premier Liga', 'Premier Liga', 'Premier Liga', 'Premier Liga', 'Premier Liga', 'Premier Liga', 'Premier Liga', 'Premier Liga', 'Premier Liga', 'Premier Liga', 'Premier Liga', 'Premier Liga', 'Premier Liga', 'Premier Liga', 'Premier Liga', 'Premier Liga', 'Premier Liga', 'Premier Liga', 'Premier Liga', 'Premier Liga', 'Premier Liga', 'Premier Liga', 'Premier Liga', 'Premier Liga', 'Premier Liga'], 'Professional League': ['Professional League', 'Professional League', 'Professional League', 'Professional League', 'Professional League', 'Professional League', 'Professional League', 'Professional League', 'Professional League', 'Professional League', 'Professional League', 'Professional League', 'Professional League', 'Professional League', 'Professional League', 'Professional League', 'Professional League', 'Professional League', 'Professional League'], 'UAE Gulf League': ['UAE Gulf League', 'UAE Gulf League', 'UAE Gulf League', 'UAE Gulf League', 'UAE Gulf League', 'UAE Gulf League', 'UAE Gulf League', 'UAE Gulf League', 'UAE Gulf League', 'UAE Gulf League', 'UAE Gulf League', 'UAE Gulf League', 'UAE Gulf League', 'UAE Gulf League', 'UAE Gulf League', 'UAE Gulf League', 'UAE Gulf League', 'UAE Gulf League', 'UAE Gulf League', 'UAE Gulf League', 'UAE Gulf League', 'UAE Gulf League', 'UAE Gulf League', 'UAE Gulf League', 'UAE Gulf League', 'UAE Gulf League', 'UAE Gulf League', 'UAE Gulf League', 'UAE Gulf League', 'UAE Gulf League', 'UAE Gulf League', 'UAE Gulf League', 'UAE Gulf League', 'UAE Gulf League', 'UAE Gulf League', 'UAE Gulf League', 'UAE Gulf League'], ' Wales': [' Wales'], 'J1 League': ['J1 League', 'J1 League', 'J1 League', 'J1 League', 'J1 League', 'J1 League', 'J1 League', 'J1 League', 'J1 League', 'J1 League', 'J1 League', 'J1 League'], ' Venezuela': [' Venezuela'], 'Arg Primera Division': ['Arg Primera Division', 'Arg Primera Division', 'Arg Primera Division', 'Arg Primera Division', 'Arg Primera Division', 'Arg Primera Division', 'Arg Primera Division', 'Arg Primera Division', 'Arg Primera Division', 'Arg Primera Division', 'Arg Primera Division', 'Arg Primera Division', 'Arg Primera Division', 'Arg Primera Division', 'Arg Primera Division', 'Arg Primera Division', 'Arg Primera Division'], ' China': [' China', ' China', ' China'], 'Liga MX': ['Liga MX', 'Liga MX', 'Liga MX', 'Liga MX', 'Liga MX', 'Liga MX', 'Liga MX', 'Liga MX', 'Liga MX', 'Liga MX', 'Liga MX', 'Liga MX', 'Liga MX', 'Liga MX', 'Liga MX', 'Liga MX', 'Liga MX', 'Liga MX', 'Liga MX', 'Liga MX', 'Liga MX', 'Liga MX', 'Liga MX', 'Liga MX', 'Liga MX', 'Liga MX', 'Liga MX', 'Liga MX', 'Liga MX', 'Liga MX', 'Liga MX', 'Liga MX', 'Liga MX', 'Liga MX', 'Liga MX', 'Liga MX', 'Liga MX', 'Liga MX', 'Liga MX', 'Liga MX', 'Liga MX', 'Liga MX', 'Liga MX', 'Liga MX', 'Liga MX', 'Liga MX', 'Liga MX', 'Liga MX', 'Liga MX', 'Liga MX', 'Liga MX', 'Liga MX'], 'League One': ['League One', 'League One', 'League One', 'League One', 'League One', 'League One', 'League One'], ' Czech Republic': [' Czech Republic'], '1.HNL': ['1.HNL', '1.HNL'], ' Libya': [' Libya'], \"Ligat ha'Al\": [\"Ligat ha'Al\"], 'A Grupa - Championship gr.': ['A Grupa - Championship gr.'], 'Superligaen': ['Superligaen', 'Superligaen', 'Superligaen', 'Superligaen'], 'Allsvenskan': ['Allsvenskan', 'Allsvenskan'], 'Liga 1': ['Liga 1'], 'K League 1': ['K League 1', 'K League 1', 'K League 1'], 'Serie C': ['Serie C', 'Serie C', 'Serie C'], 'Stars League': ['Stars League', 'Stars League', 'Stars League', 'Stars League', 'Stars League', 'Stars League', 'Stars League', 'Stars League', 'Stars League', 'Stars League', 'Stars League', 'Stars League', 'Stars League', 'Stars League', 'Stars League', 'Stars League', 'Stars League', 'Stars League', 'Stars League', 'Stars League', 'Stars League', 'Stars League', 'Stars League', 'Stars League', 'Stars League', 'Stars League', 'Stars League', 'Stars League', 'Stars League', 'Stars League', 'Stars League', 'Stars League', 'Stars League', 'Stars League', 'Stars League', 'Stars League', 'Stars League', 'Stars League'], 'SuperLiga': ['SuperLiga'], 'Eliteserien': ['Eliteserien'], '2.Bundesliga': ['2.Bundesliga', '2.Bundesliga', '2.Bundesliga', '2.Bundesliga', '2.Bundesliga', '2.Bundesliga'], 'LaLiga2': ['LaLiga2', 'LaLiga2', 'LaLiga2', 'LaLiga2', 'LaLiga2'], 'Primavera B': ['Primavera B'], '1.Division': ['1.Division', '1.Division', '1.Division', '1.Division', '1.Division', '1.Division', '1.Division'], 'Ligue 2': ['Ligue 2', 'Ligue 2', 'Ligue 2', 'Ligue 2', 'Ligue 2'], 'MLS': ['MLS', 'MLS', 'MLS', 'MLS', 'MLS', 'MLS', 'MLS', 'MLS', 'MLS'], 'Primera División': ['Primera División', 'Primera División', 'Primera División', 'Primera División'], 'Esp otra ligas': ['Esp otra ligas'], 'Ledman Liga Pro': ['Ledman Liga Pro'], ' Uru Primera Division': [' Uru Primera Division']})\n"
     ]
    }
   ],
   "source": [
    "# placing league from column into a list\n",
    "LT = list(transfer[\"League_to\"])\n",
    "# removing repetitiveness in list\n",
    "res = defaultdict(list)\n",
    "for l in LT:\n",
    "    res[l].append(l)\n",
    "print(res)"
   ]
  },
  {
   "cell_type": "code",
   "execution_count": 72,
   "metadata": {},
   "outputs": [
    {
     "name": "stdout",
     "output_type": "stream",
     "text": [
      "['LaLiga', 'Serie A', 'Ligue 1', 'Premier League', 'Premiership', 'Süper Lig', '1.Bundesliga', 'Eredivisie', 'Liga NOS', 'Série A', 'Championship', 'Super League', 'Bundesliga', 'Jupiler Pro League', 'Serie B', 'Premier Liga', 'Professional League', 'UAE Gulf League', ' Wales', 'J1 League', ' Venezuela', 'Arg Primera Division', ' China', 'Liga MX', 'League One', ' Czech Republic', '1.HNL', ' Libya', \"Ligat ha'Al\", 'A Grupa - Championship gr.', 'Superligaen', 'Allsvenskan', 'Liga 1', 'K League 1', 'Serie C', 'Stars League', 'SuperLiga', 'Eliteserien', '2.Bundesliga', 'LaLiga2', 'Primavera B', '1.Division', 'Ligue 2', 'MLS', 'Primera División', 'Esp otra ligas', 'Ledman Liga Pro', ' Uru Primera Division']\n"
     ]
    }
   ],
   "source": [
    "# list\n",
    "away_league = list(res.keys())\n",
    "print(away_league)"
   ]
  },
  {
   "cell_type": "code",
   "execution_count": 73,
   "metadata": {},
   "outputs": [
    {
     "data": {
      "text/plain": [
       "Season\n",
       "2000-2001    248\n",
       "2001-2002    250\n",
       "2002-2003    244\n",
       "2003-2004    242\n",
       "2004-2005    248\n",
       "2005-2006    247\n",
       "2006-2007    249\n",
       "2007-2008    248\n",
       "2008-2009    250\n",
       "2009-2010    249\n",
       "2010-2011    245\n",
       "2011-2012    249\n",
       "2012-2013    248\n",
       "2013-2014    250\n",
       "2014-2015    246\n",
       "2015-2016    248\n",
       "2016-2017    250\n",
       "2017-2018    244\n",
       "2018-2019    245\n",
       "Name: Name, dtype: int64"
      ]
     },
     "execution_count": 73,
     "metadata": {},
     "output_type": "execute_result"
    }
   ],
   "source": [
    "# count season\n",
    "saison = transfer.groupby(\"Season\")[\"Name\"].count()\n",
    "saison"
   ]
  },
  {
   "cell_type": "code",
   "execution_count": 76,
   "metadata": {},
   "outputs": [
    {
     "data": {
      "text/plain": [
       "count    3.440000e+03\n",
       "mean     8.622469e+06\n",
       "std      8.795181e+06\n",
       "min      5.000000e+04\n",
       "25%      3.500000e+06\n",
       "50%      6.000000e+06\n",
       "75%      1.000000e+07\n",
       "max      1.200000e+08\n",
       "Name: Market_value, dtype: float64"
      ]
     },
     "execution_count": 76,
     "metadata": {},
     "output_type": "execute_result"
    }
   ],
   "source": [
    "# describe market value\n",
    "transfer[\"Market_value\"].describe()"
   ]
  },
  {
   "cell_type": "code",
   "execution_count": 75,
   "metadata": {},
   "outputs": [
    {
     "data": {
      "text/plain": [
       "count    4.700000e+03\n",
       "mean     9.447586e+06\n",
       "std      1.043772e+07\n",
       "min      8.250000e+05\n",
       "25%      4.000000e+06\n",
       "50%      6.500000e+06\n",
       "75%      1.082000e+07\n",
       "max      2.220000e+08\n",
       "Name: Transfer_fee, dtype: float64"
      ]
     },
     "execution_count": 75,
     "metadata": {},
     "output_type": "execute_result"
    }
   ],
   "source": [
    "# describe Transfer Fee\n",
    "transfer[\"Transfer_fee\"].describe()"
   ]
  },
  {
   "cell_type": "code",
   "execution_count": 78,
   "metadata": {},
   "outputs": [],
   "source": [
    "# save clean dataframe to csv\n",
    "transfer.to_csv(\"clean_transfer.csv\", index= False)"
   ]
  },
  {
   "cell_type": "code",
   "execution_count": null,
   "metadata": {},
   "outputs": [],
   "source": []
  }
 ],
 "metadata": {
  "kernelspec": {
   "display_name": "Python 3",
   "language": "python",
   "name": "python3"
  },
  "language_info": {
   "codemirror_mode": {
    "name": "ipython",
    "version": 3
   },
   "file_extension": ".py",
   "mimetype": "text/x-python",
   "name": "python",
   "nbconvert_exporter": "python",
   "pygments_lexer": "ipython3",
   "version": "3.8.3"
  }
 },
 "nbformat": 4,
 "nbformat_minor": 4
}
